{
 "cells": [
  {
   "cell_type": "code",
   "execution_count": 4,
   "metadata": {
    "scrolled": true
   },
   "outputs": [
    {
     "name": "stdout",
     "output_type": "stream",
     "text": [
      "ABC\n",
      "VWZ\n",
      "ABCDEFGHIJKLMNOPQRSTU\n",
      "ABC Bonjour\n"
     ]
    }
   ],
   "source": [
    "# 문자열, 파일 입출력 (Input / Output, 원인, 결과)\n",
    "\n",
    "alphabet = \"ABCDEFGHIJKLMNOPQRSTUVWZ\"\n",
    "print(alphabet[0:3])\n",
    "print(alphabet[-3:])\n",
    "print(alphabet[:-3])\n",
    "print(alphabet[:3]+\" Bonjour\")"
   ]
  },
  {
   "cell_type": "code",
   "execution_count": 9,
   "metadata": {},
   "outputs": [
    {
     "name": "stdout",
     "output_type": "stream",
     "text": [
      "나는 19살이고, 키는 170.0이고, 취미는 piano입니다.\n"
     ]
    }
   ],
   "source": [
    "# 서식 (Formatting) 튜플\n",
    "\n",
    "print(\"나는 %d살이고, 키는 %.1f이고, 취미는 %s입니다.\" %(19, 170, 'piano'))\n",
    "\n",
    "\n",
    "\n",
    "\n",
    "\n",
    "# %.1f: 소수점 한 자리,   %.2f: 소수점 두 자리 \n",
    "# %d : 숫자열 ,   %f : 실수형(소수점),  %s : 문자열"
   ]
  },
  {
   "cell_type": "code",
   "execution_count": 10,
   "metadata": {
    "scrolled": true
   },
   "outputs": [
    {
     "name": "stdout",
     "output_type": "stream",
     "text": [
      "Abcdefghijklmnopqrstuvwz\n"
     ]
    }
   ],
   "source": [
    "print(alphabet.capitalize())   # 첫글자 대문자"
   ]
  },
  {
   "cell_type": "code",
   "execution_count": 11,
   "metadata": {
    "scrolled": true
   },
   "outputs": [
    {
     "name": "stdout",
     "output_type": "stream",
     "text": [
      "24\n",
      "BBCDEFGHIJKLMNOPQRSTUVWZ\n"
     ]
    }
   ],
   "source": [
    "print(len(alphabet))\n",
    "print(alphabet.replace(\"A\", \"B\"))"
   ]
  },
  {
   "cell_type": "code",
   "execution_count": null,
   "metadata": {},
   "outputs": [],
   "source": [
    "# 파일 객체명 = open(파일명, 모드(mode))\n",
    "\n",
    "# r : 읽기,    r+ : 읽기, 쓰기,    w : 쓰기,   a : 쓰기 + 이어쓰기\n",
    "# t : text,    b : 바이너리\n",
    "\n",
    "# moce는 서로 조합해서 사용 가능.  wb(바이너리 쓰기 모드)\n",
    "\n",
    "\n",
    "t_file = open()"
   ]
  }
 ],
 "metadata": {
  "kernelspec": {
   "display_name": "Python 3",
   "language": "python",
   "name": "python3"
  },
  "language_info": {
   "codemirror_mode": {
    "name": "ipython",
    "version": 3
   },
   "file_extension": ".py",
   "mimetype": "text/x-python",
   "name": "python",
   "nbconvert_exporter": "python",
   "pygments_lexer": "ipython3",
   "version": "3.7.4"
  }
 },
 "nbformat": 4,
 "nbformat_minor": 2
}
