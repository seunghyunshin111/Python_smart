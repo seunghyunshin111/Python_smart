{
 "cells": [
  {
   "cell_type": "code",
   "execution_count": null,
   "metadata": {},
   "outputs": [],
   "source": [
    "# 객체 (Object)"
   ]
  },
  {
   "cell_type": "code",
   "execution_count": 9,
   "metadata": {
    "scrolled": true
   },
   "outputs": [
    {
     "name": "stdout",
     "output_type": "stream",
     "text": [
      "Catch!\n",
      "2Ducks left\n"
     ]
    }
   ],
   "source": [
    "# class 클래스 이름\n",
    "# 변수, 메소드\n",
    "\n",
    "class Duck_hunting:\n",
    "    ducks = 3\n",
    "    def hunting(self):\n",
    "        print('Catch!')\n",
    "        self.ducks -= 1\n",
    "        \n",
    "    def CheckDucks(self):\n",
    "        if self.ducks <= 0:\n",
    "            print('Good Dog')\n",
    "        else:\n",
    "            print(str(self.ducks) + \"Ducks left\")\n",
    "            \n",
    "dog1 = Duck_hunting()\n",
    "dog1.hunting()\n",
    "dog1.CheckDucks()\n"
   ]
  }
 ],
 "metadata": {
  "kernelspec": {
   "display_name": "Python 3",
   "language": "python",
   "name": "python3"
  },
  "language_info": {
   "codemirror_mode": {
    "name": "ipython",
    "version": 3
   },
   "file_extension": ".py",
   "mimetype": "text/x-python",
   "name": "python",
   "nbconvert_exporter": "python",
   "pygments_lexer": "ipython3",
   "version": "3.8.3"
  }
 },
 "nbformat": 4,
 "nbformat_minor": 2
}
