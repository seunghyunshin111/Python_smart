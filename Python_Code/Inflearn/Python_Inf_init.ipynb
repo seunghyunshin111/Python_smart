{
 "cells": [
  {
   "cell_type": "code",
   "execution_count": 2,
   "metadata": {},
   "outputs": [
    {
     "name": "stdout",
     "output_type": "stream",
     "text": [
      "wowwow\n",
      "I am swimming\n"
     ]
    }
   ],
   "source": [
    "# __init__met\n",
    "\n",
    "class Dog:\n",
    "    def __init__(self):\n",
    "        print('wowwow')\n",
    "        \n",
    "    def swim(self):\n",
    "        print('I am swimming')\n",
    "\n",
    "Amy = Dog()\n",
    "Amy.swim()\n"
   ]
  },
  {
   "cell_type": "code",
   "execution_count": 3,
   "metadata": {},
   "outputs": [
    {
     "name": "stdout",
     "output_type": "stream",
     "text": [
      "1\n",
      "15\n"
     ]
    }
   ],
   "source": [
    "class Dog:\n",
    "    def __init__(self, x):\n",
    "        self.power = x\n",
    "        \n",
    "    def check_power(self):\n",
    "        print(self.power)\n",
    "        \n",
    "amy = Dog(15)\n",
    "lex = Dog(1)\n",
    "lex.check_power()\n",
    "amy.check_power()"
   ]
  }
 ],
 "metadata": {
  "kernelspec": {
   "display_name": "Python 3",
   "language": "python",
   "name": "python3"
  },
  "language_info": {
   "codemirror_mode": {
    "name": "ipython",
    "version": 3
   },
   "file_extension": ".py",
   "mimetype": "text/x-python",
   "name": "python",
   "nbconvert_exporter": "python",
   "pygments_lexer": "ipython3",
   "version": "3.7.4"
  }
 },
 "nbformat": 4,
 "nbformat_minor": 2
}
