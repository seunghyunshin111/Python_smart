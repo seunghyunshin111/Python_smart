{
  "nbformat": 4,
  "nbformat_minor": 0,
  "metadata": {
    "kernelspec": {
      "display_name": "Python 3",
      "language": "python",
      "name": "python3"
    },
    "language_info": {
      "codemirror_mode": {
        "name": "ipython",
        "version": 3
      },
      "file_extension": ".py",
      "mimetype": "text/x-python",
      "name": "python",
      "nbconvert_exporter": "python",
      "pygments_lexer": "ipython3",
      "version": "3.7.3"
    },
    "colab": {
      "name": "13_Numpy.ipynb",
      "provenance": [],
      "collapsed_sections": []
    }
  },
  "cells": [
    {
      "cell_type": "markdown",
      "metadata": {
        "id": "--0ATvvAwDWR",
        "colab_type": "text"
      },
      "source": [
        "## Numpy"
      ]
    },
    {
      "cell_type": "markdown",
      "metadata": {
        "id": "uuc-l0WRwDWT",
        "colab_type": "text"
      },
      "source": [
        "수치해석용 패키지 : 배열 데이터"
      ]
    },
    {
      "cell_type": "code",
      "metadata": {
        "id": "O2dQKuH1wDWU",
        "colab_type": "code",
        "colab": {}
      },
      "source": [
        "import numpy as np"
      ],
      "execution_count": 0,
      "outputs": []
    },
    {
      "cell_type": "code",
      "metadata": {
        "id": "g1vkkBxgwDWZ",
        "colab_type": "code",
        "outputId": "4c194c0c-e6f6-4f73-b5f0-0f62336ae46f",
        "colab": {
          "base_uri": "https://localhost:8080/",
          "height": 34
        }
      },
      "source": [
        "data = np.array([1, 2, 3, 4, 5, 6], dtype='f')\n",
        "data"
      ],
      "execution_count": 0,
      "outputs": [
        {
          "output_type": "execute_result",
          "data": {
            "text/plain": [
              "array([1., 2., 3., 4., 5., 6.], dtype=float32)"
            ]
          },
          "metadata": {
            "tags": []
          },
          "execution_count": 4
        }
      ]
    },
    {
      "cell_type": "code",
      "metadata": {
        "id": "MtVkE_QFwDWe",
        "colab_type": "code",
        "outputId": "eb81185b-9686-44c2-b4d3-7d7b43917873",
        "colab": {
          "base_uri": "https://localhost:8080/",
          "height": 34
        }
      },
      "source": [
        "data.shape"
      ],
      "execution_count": 0,
      "outputs": [
        {
          "output_type": "execute_result",
          "data": {
            "text/plain": [
              "(6,)"
            ]
          },
          "metadata": {
            "tags": []
          },
          "execution_count": 5
        }
      ]
    },
    {
      "cell_type": "code",
      "metadata": {
        "id": "f-y-Tc-DwDWj",
        "colab_type": "code",
        "outputId": "f1c58656-e8f5-4da1-f7bf-4e81941757ab",
        "colab": {
          "base_uri": "https://localhost:8080/",
          "height": 34
        }
      },
      "source": [
        "data.ndim"
      ],
      "execution_count": 0,
      "outputs": [
        {
          "output_type": "execute_result",
          "data": {
            "text/plain": [
              "1"
            ]
          },
          "metadata": {
            "tags": []
          },
          "execution_count": 6
        }
      ]
    },
    {
      "cell_type": "code",
      "metadata": {
        "id": "_eLKG0pcwDWo",
        "colab_type": "code",
        "outputId": "a4ff6f65-9c22-4cff-8126-f5a0096f657a",
        "colab": {
          "base_uri": "https://localhost:8080/",
          "height": 34
        }
      },
      "source": [
        "data.dtype"
      ],
      "execution_count": 0,
      "outputs": [
        {
          "output_type": "execute_result",
          "data": {
            "text/plain": [
              "dtype('float32')"
            ]
          },
          "metadata": {
            "tags": []
          },
          "execution_count": 6
        }
      ]
    },
    {
      "cell_type": "markdown",
      "metadata": {
        "id": "xufPeTgiwDWs",
        "colab_type": "text"
      },
      "source": [
        "#### 배열 변환"
      ]
    },
    {
      "cell_type": "code",
      "metadata": {
        "id": "Q0sa9niTwDWt",
        "colab_type": "code",
        "outputId": "d9823db2-33be-4ceb-d6f2-e191dfa2df7f",
        "colab": {
          "base_uri": "https://localhost:8080/",
          "height": 34
        }
      },
      "source": [
        "#형변환\n",
        "data.astype('i')"
      ],
      "execution_count": 0,
      "outputs": [
        {
          "output_type": "execute_result",
          "data": {
            "text/plain": [
              "array([1, 2, 3, 4, 5, 6], dtype=int32)"
            ]
          },
          "metadata": {
            "tags": []
          },
          "execution_count": 7
        }
      ]
    },
    {
      "cell_type": "code",
      "metadata": {
        "id": "Io-UE3dvwDWx",
        "colab_type": "code",
        "outputId": "0022aeda-19a6-4138-9670-88d995b801cd",
        "colab": {
          "base_uri": "https://localhost:8080/",
          "height": 34
        }
      },
      "source": [
        "data.astype('O') #문자열"
      ],
      "execution_count": 0,
      "outputs": [
        {
          "output_type": "execute_result",
          "data": {
            "text/plain": [
              "array([1.0, 2.0, 3.0, 4.0, 5.0, 6.0], dtype=object)"
            ]
          },
          "metadata": {
            "tags": []
          },
          "execution_count": 8
        }
      ]
    },
    {
      "cell_type": "code",
      "metadata": {
        "id": "ziggV3x9wDW1",
        "colab_type": "code",
        "outputId": "0ddee3a8-f166-4146-9f70-26ae7bee3317",
        "colab": {
          "base_uri": "https://localhost:8080/",
          "height": 70
        }
      },
      "source": [
        "#shape변환\n",
        "data.reshape([3, 2]) #3행 2열"
      ],
      "execution_count": 0,
      "outputs": [
        {
          "output_type": "execute_result",
          "data": {
            "text/plain": [
              "array([[1., 2.],\n",
              "       [3., 4.],\n",
              "       [5., 6.]], dtype=float32)"
            ]
          },
          "metadata": {
            "tags": []
          },
          "execution_count": 9
        }
      ]
    },
    {
      "cell_type": "markdown",
      "metadata": {
        "id": "WkKhhk7FwDW5",
        "colab_type": "text"
      },
      "source": [
        "#### 배열 생성"
      ]
    },
    {
      "cell_type": "code",
      "metadata": {
        "id": "1hrLKDnjwDW7",
        "colab_type": "code",
        "outputId": "580acfb9-436a-4cf3-981a-aa4bcdeddb0c",
        "colab": {
          "base_uri": "https://localhost:8080/",
          "height": 105
        }
      },
      "source": [
        "data = np.zeros([5, 2]) #0행렬\n",
        "data"
      ],
      "execution_count": 0,
      "outputs": [
        {
          "output_type": "execute_result",
          "data": {
            "text/plain": [
              "array([[0., 0.],\n",
              "       [0., 0.],\n",
              "       [0., 0.],\n",
              "       [0., 0.],\n",
              "       [0., 0.]])"
            ]
          },
          "metadata": {
            "tags": []
          },
          "execution_count": 10
        }
      ]
    },
    {
      "cell_type": "code",
      "metadata": {
        "id": "T2wJrNRvwDW_",
        "colab_type": "code",
        "outputId": "9fdebb9a-6a89-45c3-e13b-bc55943c7498",
        "colab": {
          "base_uri": "https://localhost:8080/",
          "height": 34
        }
      },
      "source": [
        "data = np.ones([10, ])\n",
        "data"
      ],
      "execution_count": 0,
      "outputs": [
        {
          "output_type": "execute_result",
          "data": {
            "text/plain": [
              "array([1., 1., 1., 1., 1., 1., 1., 1., 1., 1.])"
            ]
          },
          "metadata": {
            "tags": []
          },
          "execution_count": 11
        }
      ]
    },
    {
      "cell_type": "code",
      "metadata": {
        "id": "tAAaLeLWwDXC",
        "colab_type": "code",
        "outputId": "2e092eb2-dd03-4d8a-b3fd-a0611890f4a3",
        "colab": {
          "base_uri": "https://localhost:8080/",
          "height": 34
        }
      },
      "source": [
        "data = np.array([i for i in range(10)])\n",
        "data_zero = np.zeros_like(data) #data와 같은 shape의 0행렬\n",
        "data_zero"
      ],
      "execution_count": 0,
      "outputs": [
        {
          "output_type": "execute_result",
          "data": {
            "text/plain": [
              "array([0, 0, 0, 0, 0, 0, 0, 0, 0, 0])"
            ]
          },
          "metadata": {
            "tags": []
          },
          "execution_count": 12
        }
      ]
    },
    {
      "cell_type": "code",
      "metadata": {
        "id": "gLJ82vdKwDXE",
        "colab_type": "code",
        "outputId": "27200904-d896-4c3e-ffcb-6f120b523afe",
        "colab": {
          "base_uri": "https://localhost:8080/",
          "height": 34
        }
      },
      "source": [
        "data_one = np.ones_like(data)\n",
        "data_one"
      ],
      "execution_count": 0,
      "outputs": [
        {
          "output_type": "execute_result",
          "data": {
            "text/plain": [
              "array([1, 1, 1, 1, 1, 1, 1, 1, 1, 1])"
            ]
          },
          "metadata": {
            "tags": []
          },
          "execution_count": 13
        }
      ]
    },
    {
      "cell_type": "code",
      "metadata": {
        "id": "eDdBZIqawDXH",
        "colab_type": "code",
        "outputId": "dafa0f53-7e3c-4053-e1ca-ba9da3c792ca",
        "colab": {
          "base_uri": "https://localhost:8080/",
          "height": 122
        }
      },
      "source": [
        "data_empty = np.empty([3, 4])\n",
        "data_empty"
      ],
      "execution_count": 0,
      "outputs": [
        {
          "output_type": "execute_result",
          "data": {
            "text/plain": [
              "array([[2.50668830e-316, 0.00000000e+000, 4.27366784e-321,\n",
              "        1.28037073e-316],\n",
              "       [6.94628768e-310, 6.94628768e-310, 6.94628768e-310,\n",
              "        6.94628768e-310],\n",
              "       [2.50668830e-316, 1.48219694e-323, 1.90979621e-313,\n",
              "        0.00000000e+000]])"
            ]
          },
          "metadata": {
            "tags": []
          },
          "execution_count": 15
        }
      ]
    },
    {
      "cell_type": "code",
      "metadata": {
        "id": "gNBXNw5twDXK",
        "colab_type": "code",
        "outputId": "7e419ad1-3eeb-4de8-c8fd-651da77ca604",
        "colab": {
          "base_uri": "https://localhost:8080/",
          "height": 34
        }
      },
      "source": [
        "data_arange = np.arange(1, 11) #1부터 10까지\n",
        "data_arange"
      ],
      "execution_count": 0,
      "outputs": [
        {
          "output_type": "execute_result",
          "data": {
            "text/plain": [
              "array([ 1,  2,  3,  4,  5,  6,  7,  8,  9, 10])"
            ]
          },
          "metadata": {
            "tags": []
          },
          "execution_count": 16
        }
      ]
    },
    {
      "cell_type": "code",
      "metadata": {
        "id": "6A9y1hRowDXP",
        "colab_type": "code",
        "outputId": "73ef129f-bb53-49d9-bad8-3d230e303b12",
        "colab": {
          "base_uri": "https://localhost:8080/",
          "height": 34
        }
      },
      "source": [
        "data_lin = np.linspace(1, 10, 10) # 1부터 10까지 10개\n",
        "data_lin"
      ],
      "execution_count": 0,
      "outputs": [
        {
          "output_type": "execute_result",
          "data": {
            "text/plain": [
              "array([ 1.,  2.,  3.,  4.,  5.,  6.,  7.,  8.,  9., 10.])"
            ]
          },
          "metadata": {
            "tags": []
          },
          "execution_count": 17
        }
      ]
    },
    {
      "cell_type": "code",
      "metadata": {
        "id": "tKiS_RxX4SeX",
        "colab_type": "code",
        "outputId": "2aafcff7-4e2a-497d-fb03-10b49473172c",
        "colab": {
          "base_uri": "https://localhost:8080/",
          "height": 52
        }
      },
      "source": [
        "data_log = np.logspace(1, 10, 10)\n",
        "data_log"
      ],
      "execution_count": 0,
      "outputs": [
        {
          "output_type": "execute_result",
          "data": {
            "text/plain": [
              "array([1.e+01, 1.e+02, 1.e+03, 1.e+04, 1.e+05, 1.e+06, 1.e+07, 1.e+08,\n",
              "       1.e+09, 1.e+10])"
            ]
          },
          "metadata": {
            "tags": []
          },
          "execution_count": 19
        }
      ]
    },
    {
      "cell_type": "code",
      "metadata": {
        "id": "M1wNKaRswDXS",
        "colab_type": "code",
        "outputId": "861722a4-c696-4a0e-be8f-c1b000736e1c",
        "colab": {
          "base_uri": "https://localhost:8080/",
          "height": 70
        }
      },
      "source": [
        "data_rand = np.random.rand(3, 2) #0~1\n",
        "data_rand"
      ],
      "execution_count": 0,
      "outputs": [
        {
          "output_type": "execute_result",
          "data": {
            "text/plain": [
              "array([[0.43884589, 0.95488024],\n",
              "       [0.83410859, 0.80500566],\n",
              "       [0.63443001, 0.24903464]])"
            ]
          },
          "metadata": {
            "tags": []
          },
          "execution_count": 20
        }
      ]
    },
    {
      "cell_type": "code",
      "metadata": {
        "id": "eFnt_f3vwDXU",
        "colab_type": "code",
        "outputId": "626166fc-6157-4ac1-9686-d8771bb654be",
        "colab": {
          "base_uri": "https://localhost:8080/",
          "height": 52
        }
      },
      "source": [
        "data_randn = np.random.randn(2, 3) #E = 0, V = 1 \n",
        "data_randn"
      ],
      "execution_count": 0,
      "outputs": [
        {
          "output_type": "execute_result",
          "data": {
            "text/plain": [
              "array([[-0.65355166,  1.4877162 ,  0.07218716],\n",
              "       [-2.14991769,  1.39570071,  1.53500126]])"
            ]
          },
          "metadata": {
            "tags": []
          },
          "execution_count": 22
        }
      ]
    },
    {
      "cell_type": "code",
      "metadata": {
        "id": "i9yBlfLTwDXX",
        "colab_type": "code",
        "outputId": "8db1106e-5f7a-4895-c373-e8eec5bbfa24",
        "colab": {
          "base_uri": "https://localhost:8080/",
          "height": 87
        }
      },
      "source": [
        "data_randint = np.random.randint(1, 10, (4, 2)) #1부터 10사이의 숫자, (4행2열)\n",
        "data_randint"
      ],
      "execution_count": 0,
      "outputs": [
        {
          "output_type": "execute_result",
          "data": {
            "text/plain": [
              "array([[5, 8],\n",
              "       [9, 1],\n",
              "       [8, 8],\n",
              "       [7, 6]])"
            ]
          },
          "metadata": {
            "tags": []
          },
          "execution_count": 25
        }
      ]
    },
    {
      "cell_type": "markdown",
      "metadata": {
        "id": "h7ThuXQ5wDXa",
        "colab_type": "text"
      },
      "source": [
        "#### 벡터화 연산"
      ]
    },
    {
      "cell_type": "code",
      "metadata": {
        "id": "VtVaEB2YwDXb",
        "colab_type": "code",
        "outputId": "30874fd9-f12f-459d-d5ad-e70991d026ff",
        "colab": {
          "base_uri": "https://localhost:8080/",
          "height": 34
        }
      },
      "source": [
        "#리스트\n",
        "data = [1, 2, 3]\n",
        "data * 2"
      ],
      "execution_count": 0,
      "outputs": [
        {
          "output_type": "execute_result",
          "data": {
            "text/plain": [
              "[1, 2, 3, 1, 2, 3]"
            ]
          },
          "metadata": {
            "tags": []
          },
          "execution_count": 26
        }
      ]
    },
    {
      "cell_type": "code",
      "metadata": {
        "id": "I84-j0_FwDXe",
        "colab_type": "code",
        "outputId": "9bac8994-3236-4dc6-b737-4a462cdde3c7",
        "colab": {
          "base_uri": "https://localhost:8080/",
          "height": 34
        }
      },
      "source": [
        "#numpy => ndarray\n",
        "data = np.array([1, 2, 3])\n",
        "data*2"
      ],
      "execution_count": 0,
      "outputs": [
        {
          "output_type": "execute_result",
          "data": {
            "text/plain": [
              "array([2, 4, 6])"
            ]
          },
          "metadata": {
            "tags": []
          },
          "execution_count": 27
        }
      ]
    },
    {
      "cell_type": "code",
      "metadata": {
        "id": "9sm8qq8VwDXh",
        "colab_type": "code",
        "outputId": "df419b50-a08d-455e-8c76-24aab6579bc6",
        "colab": {
          "base_uri": "https://localhost:8080/",
          "height": 34
        }
      },
      "source": [
        "arr1 = np.array([1, 2, 3])\n",
        "arr2 = np.array([1, 0, 1])\n",
        "arr1 * arr2 #[1*1, 2*0, 3*1]"
      ],
      "execution_count": 0,
      "outputs": [
        {
          "output_type": "execute_result",
          "data": {
            "text/plain": [
              "array([1, 0, 3])"
            ]
          },
          "metadata": {
            "tags": []
          },
          "execution_count": 28
        }
      ]
    },
    {
      "cell_type": "code",
      "metadata": {
        "id": "0BThvHPzwDXk",
        "colab_type": "code",
        "outputId": "5f6299dd-eed2-450f-89f7-3e01c31a126a",
        "colab": {
          "base_uri": "https://localhost:8080/",
          "height": 34
        }
      },
      "source": [
        "arr1@arr2 #내적곱 = 1*1 + 2*0 + 3*1"
      ],
      "execution_count": 0,
      "outputs": [
        {
          "output_type": "execute_result",
          "data": {
            "text/plain": [
              "4"
            ]
          },
          "metadata": {
            "tags": []
          },
          "execution_count": 29
        }
      ]
    },
    {
      "cell_type": "markdown",
      "metadata": {
        "id": "wGcI_fcpwDXm",
        "colab_type": "text"
      },
      "source": [
        "#### 배열 인덱싱"
      ]
    },
    {
      "cell_type": "code",
      "metadata": {
        "id": "CIIoYf2uwDXn",
        "colab_type": "code",
        "outputId": "06fbb59e-6254-47f6-88a8-31ff96fc4cfa",
        "colab": {
          "base_uri": "https://localhost:8080/",
          "height": 34
        }
      },
      "source": [
        "data = np.array([1, 2, 3, 4, 5, 6, 7, 8, 9, 10])\n",
        "data[data%3==0]"
      ],
      "execution_count": 0,
      "outputs": [
        {
          "output_type": "execute_result",
          "data": {
            "text/plain": [
              "array([3, 6, 9])"
            ]
          },
          "metadata": {
            "tags": []
          },
          "execution_count": 30
        }
      ]
    },
    {
      "cell_type": "code",
      "metadata": {
        "id": "pQAn28HA6Kjv",
        "colab_type": "code",
        "outputId": "daafd60a-dd37-4e74-8ea4-0e7cc94a4bdf",
        "colab": {
          "base_uri": "https://localhost:8080/",
          "height": 52
        }
      },
      "source": [
        "data_randn = np.random.randn(2, 3)\n",
        "data_randn"
      ],
      "execution_count": 0,
      "outputs": [
        {
          "output_type": "execute_result",
          "data": {
            "text/plain": [
              "array([[-0.32619815, -2.32675345, -0.02970727],\n",
              "       [-0.60360438,  0.28739094,  0.969597  ]])"
            ]
          },
          "metadata": {
            "tags": []
          },
          "execution_count": 31
        }
      ]
    },
    {
      "cell_type": "code",
      "metadata": {
        "id": "SkAZBRKx6ez3",
        "colab_type": "code",
        "outputId": "140b876f-c592-413c-85d9-c19ebbdd0a2d",
        "colab": {
          "base_uri": "https://localhost:8080/",
          "height": 70
        }
      },
      "source": [
        "#Transpose\n",
        "data_randn.T"
      ],
      "execution_count": 0,
      "outputs": [
        {
          "output_type": "execute_result",
          "data": {
            "text/plain": [
              "array([[-0.32619815, -0.60360438],\n",
              "       [-2.32675345,  0.28739094],\n",
              "       [-0.02970727,  0.969597  ]])"
            ]
          },
          "metadata": {
            "tags": []
          },
          "execution_count": 32
        }
      ]
    },
    {
      "cell_type": "code",
      "metadata": {
        "id": "aqEhtVr56hJw",
        "colab_type": "code",
        "outputId": "000d59bf-ac17-4838-de18-6e7590eed496",
        "colab": {
          "base_uri": "https://localhost:8080/",
          "height": 52
        }
      },
      "source": [
        "# data_randn@data_randn\n",
        "data_randn@data_randn.T"
      ],
      "execution_count": 0,
      "outputs": [
        {
          "output_type": "execute_result",
          "data": {
            "text/plain": [
              "array([[ 5.52106937, -0.50059732],\n",
              "       [-0.50059732,  1.38705015]])"
            ]
          },
          "metadata": {
            "tags": []
          },
          "execution_count": 33
        }
      ]
    },
    {
      "cell_type": "code",
      "metadata": {
        "id": "S7tZ3e0L6xE3",
        "colab_type": "code",
        "outputId": "bb9b1c49-1d23-4e7e-ac75-7302279f11ec",
        "colab": {
          "base_uri": "https://localhost:8080/",
          "height": 70
        }
      },
      "source": [
        "data_randn.T@data_randn"
      ],
      "execution_count": 0,
      "outputs": [
        {
          "output_type": "execute_result",
          "data": {
            "text/plain": [
              "array([[ 0.47074348,  0.58551223, -0.57556254],\n",
              "       [ 0.58551223,  5.49637517,  0.3477749 ],\n",
              "       [-0.57556254,  0.3477749 ,  0.94100087]])"
            ]
          },
          "metadata": {
            "tags": []
          },
          "execution_count": 34
        }
      ]
    },
    {
      "cell_type": "code",
      "metadata": {
        "id": "E3rhAalM67zP",
        "colab_type": "code",
        "outputId": "81acb6f5-33e5-4278-bf55-bb30e5ad4de4",
        "colab": {
          "base_uri": "https://localhost:8080/",
          "height": 34
        }
      },
      "source": [
        "data"
      ],
      "execution_count": 0,
      "outputs": [
        {
          "output_type": "execute_result",
          "data": {
            "text/plain": [
              "array([ 1,  2,  3,  4,  5,  6,  7,  8,  9, 10])"
            ]
          },
          "metadata": {
            "tags": []
          },
          "execution_count": 31
        }
      ]
    },
    {
      "cell_type": "code",
      "metadata": {
        "id": "qK2Y-OAMhoM6",
        "colab_type": "code",
        "colab": {}
      },
      "source": [
        ""
      ],
      "execution_count": 0,
      "outputs": []
    }
  ]
}