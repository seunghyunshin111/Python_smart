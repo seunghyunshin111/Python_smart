{
  "nbformat": 4,
  "nbformat_minor": 0,
  "metadata": {
    "kernelspec": {
      "display_name": "Python 3",
      "language": "python",
      "name": "python3"
    },
    "colab": {
      "name": "L3_Function",
      "provenance": [],
      "collapsed_sections": [],
      "toc_visible": true
    }
  },
  "cells": [
    {
      "cell_type": "markdown",
      "metadata": {
        "id": "OKptTlik1UPu",
        "colab_type": "text"
      },
      "source": [
        "# 함수(Function)"
      ]
    },
    {
      "cell_type": "markdown",
      "metadata": {
        "id": "I1gtXidPnaTr",
        "colab_type": "text"
      },
      "source": [
        "### 변수 Review : 변수는 왜 필요한가?"
      ]
    },
    {
      "cell_type": "code",
      "metadata": {
        "id": "qy4wXiTX1UPx",
        "colab_type": "code",
        "outputId": "a7d9806e-d572-4af1-d458-78b482285ffb",
        "colab": {}
      },
      "source": [
        "#변수 review\n",
        "234543 * 2, 234543 * 3 #반복해서 나오는 데이터를 변수로 선언"
      ],
      "execution_count": 0,
      "outputs": [
        {
          "output_type": "execute_result",
          "data": {
            "text/plain": [
              "(469086, 703629)"
            ]
          },
          "metadata": {
            "tags": []
          },
          "execution_count": 1
        }
      ]
    },
    {
      "cell_type": "code",
      "metadata": {
        "id": "q94CY1IO1UP7",
        "colab_type": "code",
        "outputId": "bdc14575-c0b4-41a3-8172-fc75a74d53e4",
        "colab": {}
      },
      "source": [
        "var = 234543\n",
        "var * 2, var * 3"
      ],
      "execution_count": 0,
      "outputs": [
        {
          "output_type": "execute_result",
          "data": {
            "text/plain": [
              "(469086, 703629)"
            ]
          },
          "metadata": {
            "tags": []
          },
          "execution_count": 2
        }
      ]
    },
    {
      "cell_type": "markdown",
      "metadata": {
        "id": "lDI1KEe81UQC",
        "colab_type": "text"
      },
      "source": [
        "- 변수는 데이터를 재사용하기 위해서 사용한다.  \n",
        "- 변수는 데이터를 효율적으로 관리하기 위해서 사용한다."
      ]
    },
    {
      "cell_type": "code",
      "metadata": {
        "id": "dkaHf0vZ1UQF",
        "colab_type": "code",
        "outputId": "5043c409-0781-46ed-dfb8-b4d072a635e3",
        "colab": {}
      },
      "source": [
        "num_list = []\n",
        "\n",
        "for i in range(3):\n",
        "    num = input('input any number:')\n",
        "    num_list.append(num)\n",
        "num_list"
      ],
      "execution_count": 0,
      "outputs": [
        {
          "output_type": "stream",
          "text": [
            "input any number:1\n",
            "input any number:2\n",
            "input any number:3\n"
          ],
          "name": "stdout"
        },
        {
          "output_type": "execute_result",
          "data": {
            "text/plain": [
              "['1', '2', '3']"
            ]
          },
          "metadata": {
            "tags": []
          },
          "execution_count": 6
        }
      ]
    },
    {
      "cell_type": "markdown",
      "metadata": {
        "id": "0c9J0RhWnptp",
        "colab_type": "text"
      },
      "source": [
        "### 함수는 왜 필요한가?"
      ]
    },
    {
      "cell_type": "code",
      "metadata": {
        "id": "A1EZMcL_1UQL",
        "colab_type": "code",
        "outputId": "383ebd59-f777-4642-ae50-6f896551bdde",
        "colab": {}
      },
      "source": [
        "data_list = []\n",
        "\n",
        "for i in range(5):\n",
        "    data = input('input any data:')\n",
        "    data_list.append(data)\n",
        "data_list"
      ],
      "execution_count": 0,
      "outputs": [
        {
          "output_type": "stream",
          "text": [
            "input any data:a\n",
            "input any data:b\n",
            "input any data:c\n",
            "input any data:d\n",
            "input any data:e\n"
          ],
          "name": "stdout"
        },
        {
          "output_type": "execute_result",
          "data": {
            "text/plain": [
              "['a', 'b', 'c', 'd', 'e']"
            ]
          },
          "metadata": {
            "tags": []
          },
          "execution_count": 5
        }
      ]
    },
    {
      "cell_type": "markdown",
      "metadata": {
        "id": "P8BIe3pC1UQS",
        "colab_type": "text"
      },
      "source": [
        "위와 같이 반복되는 코드를 재사용하기 위해서 함수를 사용한다."
      ]
    },
    {
      "cell_type": "code",
      "metadata": {
        "id": "ZaBnjhNm1UQU",
        "colab_type": "code",
        "colab": {}
      },
      "source": [
        "def create_data_list(): #함수 정의(생성) var = 234543\n",
        "    data_list = []\n",
        "\n",
        "    for i in range(5):\n",
        "        data = input('input any data:')\n",
        "        data_list.append(data)"
      ],
      "execution_count": 0,
      "outputs": []
    },
    {
      "cell_type": "code",
      "metadata": {
        "id": "GKTsliOU1UQc",
        "colab_type": "code",
        "outputId": "5dd189d5-82ac-49ae-a0cf-b63845b4dbdd",
        "colab": {
          "base_uri": "https://localhost:8080/",
          "height": 111
        }
      },
      "source": [
        "create_data_list() #함수 호출(사용) var "
      ],
      "execution_count": 0,
      "outputs": [
        {
          "output_type": "stream",
          "text": [
            "input any data:1\n",
            "input any data:2\n",
            "input any data:3\n",
            "input any data:4\n",
            "input any data:5\n"
          ],
          "name": "stdout"
        }
      ]
    },
    {
      "cell_type": "markdown",
      "metadata": {
        "id": "BUhIMAAw1UQi",
        "colab_type": "text"
      },
      "source": [
        "### 함수의 종류\n",
        "1) input X, output X : 함수 내 코드 그대로만 사용가능  \n",
        "2) input O, output X : 함수 내 코드를 input인자를 사용하여 변경 가능  \n",
        "3) input X, output O : 함수 내의 변수를 함수 밖으로 return 가능  \n",
        "4) input O, output O : 코드 변경 O, 함수 내 변수 return O"
      ]
    },
    {
      "cell_type": "markdown",
      "metadata": {
        "id": "nevqpm_t25b_",
        "colab_type": "text"
      },
      "source": [
        "#### 함수가 품고 있는 코드를 변경해서 사용하고 싶다면?"
      ]
    },
    {
      "cell_type": "code",
      "metadata": {
        "id": "T_pcC-8H1UQo",
        "colab_type": "code",
        "colab": {}
      },
      "source": [
        "def create_data_list_2(n_iter, name_var): #함수 정의(생성) var = 234543\n",
        "    data_list = []\n",
        "\n",
        "    for i in range(n_iter):\n",
        "        data = input('input any {}:'.format(name_var))\n",
        "        data_list.append(data)"
      ],
      "execution_count": 0,
      "outputs": []
    },
    {
      "cell_type": "code",
      "metadata": {
        "scrolled": true,
        "id": "SYw2ARCn1UQv",
        "colab_type": "code",
        "outputId": "2e6a8ed6-7943-4e60-c988-9b0f72d14d83",
        "colab": {}
      },
      "source": [
        "create_data_list_2(2, 'number') #반복할 횟수, 변수 이름을 호출 시에 정해줌."
      ],
      "execution_count": 0,
      "outputs": [
        {
          "output_type": "stream",
          "text": [
            "input any number:1\n",
            "input any number:2\n"
          ],
          "name": "stdout"
        }
      ]
    },
    {
      "cell_type": "code",
      "metadata": {
        "scrolled": true,
        "id": "R9U22fKT1UQ2",
        "colab_type": "code",
        "outputId": "8faf7763-4f87-45be-82e8-85e045dc8616",
        "colab": {}
      },
      "source": [
        "create_data_list_2(name_var='number', n_iter=2)"
      ],
      "execution_count": 0,
      "outputs": [
        {
          "output_type": "stream",
          "text": [
            "input any number:1\n",
            "input any number:2\n"
          ],
          "name": "stdout"
        }
      ]
    },
    {
      "cell_type": "markdown",
      "metadata": {
        "id": "YkMq0JRx1UQ6",
        "colab_type": "text"
      },
      "source": [
        "#### 함수 내의 변수를 함수 밖에서 사용하고 싶다면?"
      ]
    },
    {
      "cell_type": "code",
      "metadata": {
        "id": "mgSKWFAe1UQ7",
        "colab_type": "code",
        "colab": {}
      },
      "source": [
        "def create_data_list_3(): #함수 정의(생성) var = 234543\n",
        "    data_list = []\n",
        "\n",
        "    for i in range(5):\n",
        "        data = input('input any data:')\n",
        "        data_list.append(data)\n",
        "    return data_list"
      ],
      "execution_count": 0,
      "outputs": []
    },
    {
      "cell_type": "code",
      "metadata": {
        "id": "05hElF6J1UQ-",
        "colab_type": "code",
        "outputId": "63e24e80-6808-4f04-e46b-8593ee820da9",
        "colab": {
          "base_uri": "https://localhost:8080/",
          "height": 105
        }
      },
      "source": [
        "data = create_data_list_3()"
      ],
      "execution_count": 0,
      "outputs": [
        {
          "output_type": "stream",
          "text": [
            "input any data:1\n",
            "input any data:2\n",
            "input any data:3\n",
            "input any data:4\n",
            "input any data:5\n"
          ],
          "name": "stdout"
        }
      ]
    },
    {
      "cell_type": "code",
      "metadata": {
        "id": "aZ_XldP11URB",
        "colab_type": "code",
        "colab": {}
      },
      "source": [
        "data"
      ],
      "execution_count": 0,
      "outputs": []
    },
    {
      "cell_type": "markdown",
      "metadata": {
        "id": "Qp44MMCa1URF",
        "colab_type": "text"
      },
      "source": [
        "#### 함수 내 코드도 변경하고, 함수 내 변수도 밖에서 사용하려면?"
      ]
    },
    {
      "cell_type": "code",
      "metadata": {
        "id": "fYcKQNdc1URH",
        "colab_type": "code",
        "colab": {}
      },
      "source": [
        "def create_data_list_4(n_iter, name_var): #함수 정의(생성) var = 234543\n",
        "    data_list = []\n",
        "\n",
        "    for i in range(n_iter):\n",
        "        data = input('input any {}:'.format(name_var))\n",
        "        data_list.append(data)\n",
        "    return data_list"
      ],
      "execution_count": 0,
      "outputs": []
    },
    {
      "cell_type": "code",
      "metadata": {
        "id": "Anz9D1_81URK",
        "colab_type": "code",
        "outputId": "fdd48898-b203-4d75-9ba3-55560bb6de77",
        "colab": {}
      },
      "source": [
        "data = create_data_list_4(3, 'key')\n",
        "print(data)"
      ],
      "execution_count": 0,
      "outputs": [
        {
          "output_type": "stream",
          "text": [
            "input any key:1\n",
            "input any key:2\n",
            "input any key:3\n",
            "['1', '2', '3']\n"
          ],
          "name": "stdout"
        }
      ]
    },
    {
      "cell_type": "markdown",
      "metadata": {
        "id": "Xr69Cl-W1URN",
        "colab_type": "text"
      },
      "source": [
        "#### 문제) 이름과 폰번호, 이메일주소를 input인자로 받아서,  이 3가지 데이터를dictionary형태로 묶어서 return해주는 함수를 만들어보세요.  \n",
        "함수 이름 : create_info_dict"
      ]
    },
    {
      "cell_type": "code",
      "metadata": {
        "id": "WmHbiDEG3QrP",
        "colab_type": "code",
        "colab": {}
      },
      "source": [
        "#직접 풀어봅시다.\n"
      ],
      "execution_count": 0,
      "outputs": []
    },
    {
      "cell_type": "markdown",
      "metadata": {
        "id": "ok0zQaB43Qcl",
        "colab_type": "text"
      },
      "source": [
        "#####풀이"
      ]
    },
    {
      "cell_type": "code",
      "metadata": {
        "id": "nR3rQlFl1URO",
        "colab_type": "code",
        "colab": {}
      },
      "source": [
        "def create_info_dict(name, phone, email):\n",
        "    data = {'name': name,\n",
        "           'phone-number': phone,\n",
        "           'email': email}\n",
        "    return data"
      ],
      "execution_count": 0,
      "outputs": []
    },
    {
      "cell_type": "code",
      "metadata": {
        "id": "_2zznKXI1URR",
        "colab_type": "code",
        "outputId": "56742167-812c-4f78-a720-40f9eedadaf0",
        "colab": {}
      },
      "source": [
        "name = input('name:')\n",
        "phone = input('phone-number:')\n",
        "email = input('email adress:')\n",
        "print('result:', create_info_dict(name, phone, email))"
      ],
      "execution_count": 0,
      "outputs": [
        {
          "output_type": "stream",
          "text": [
            "name:1\n",
            "phone-number:2\n",
            "email adress:3\n",
            "result: {'name': '1', 'phone-number': '2', 'email': '3'}\n"
          ],
          "name": "stdout"
        }
      ]
    },
    {
      "cell_type": "markdown",
      "metadata": {
        "id": "KPEzoHNj1URU",
        "colab_type": "text"
      },
      "source": [
        "- 함수 호출 시, 인자를 변수를 넣어도 된다.\n",
        "- return이 있는 함수를 호출 시, 반드시 return에대한 변수를 선언해줘야 하는 것은 아니다."
      ]
    },
    {
      "cell_type": "markdown",
      "metadata": {
        "id": "raGfG5rA1URb",
        "colab_type": "text"
      },
      "source": [
        "### Default값 설정"
      ]
    },
    {
      "cell_type": "markdown",
      "metadata": {
        "id": "tvY5aJR01URc",
        "colab_type": "text"
      },
      "source": [
        "#### 함수를 호출할 때, 함수의 입력 인자 개수를 맞춰주지 않으면 어떻게 될까?\n",
        "\n",
        "create_info_dict의 input인자는 3개다.  \n",
        "만약 input인자를 2개만 넘겨주면 어떻게 될까?  \n",
        "type error 발생!  \n",
        "  \n",
        "그럼 어떻게 바꿔줘야 할까?"
      ]
    },
    {
      "cell_type": "code",
      "metadata": {
        "id": "7qZQSwsuXLnt",
        "colab_type": "code",
        "colab": {}
      },
      "source": [
        "print?"
      ],
      "execution_count": 0,
      "outputs": []
    },
    {
      "cell_type": "code",
      "metadata": {
        "id": "tgDVjQr5XJqy",
        "colab_type": "code",
        "outputId": "e1ddfe18-c09b-4bbd-ebe3-e169d31f8e27",
        "colab": {
          "base_uri": "https://localhost:8080/",
          "height": 34
        }
      },
      "source": [
        "print()"
      ],
      "execution_count": 0,
      "outputs": [
        {
          "output_type": "stream",
          "text": [
            "\n"
          ],
          "name": "stdout"
        }
      ]
    },
    {
      "cell_type": "code",
      "metadata": {
        "id": "kBV60ySh1URd",
        "colab_type": "code",
        "colab": {}
      },
      "source": [
        "def create_info_dict(name, phone='010-0000-0000', email='@.com'):\n",
        "    data = {'name': name,\n",
        "           'phone-number': phone,\n",
        "           'email': email}\n",
        "    return data"
      ],
      "execution_count": 0,
      "outputs": []
    },
    {
      "cell_type": "code",
      "metadata": {
        "id": "IdWXVMis1URg",
        "colab_type": "code",
        "outputId": "4a6ce1b6-b78f-4372-b98c-339f8f77425f",
        "colab": {}
      },
      "source": [
        "create_info_dict('ardino', email='naver.com')"
      ],
      "execution_count": 0,
      "outputs": [
        {
          "output_type": "execute_result",
          "data": {
            "text/plain": [
              "{'name': 'ardino', 'phone-number': '010-0000-0000', 'email': 'naver.com'}"
            ]
          },
          "metadata": {
            "tags": []
          },
          "execution_count": 40
        }
      ]
    },
    {
      "cell_type": "code",
      "metadata": {
        "id": "NJ2KDERH1URj",
        "colab_type": "code",
        "outputId": "43d929ef-681f-44d6-c6f5-4cca8006ce83",
        "colab": {}
      },
      "source": [
        "#print함수를 기억해보자.\n",
        "print(4)\n",
        "print(4, end='*')\n",
        "print()\n",
        "print(4, 5, sep=':', end='*')"
      ],
      "execution_count": 0,
      "outputs": [
        {
          "output_type": "stream",
          "text": [
            "4\n",
            "4*\n",
            "4:5*"
          ],
          "name": "stdout"
        }
      ]
    },
    {
      "cell_type": "markdown",
      "metadata": {
        "id": "Tl0b6lTN1URm",
        "colab_type": "text"
      },
      "source": [
        "### 가변인자 설정"
      ]
    },
    {
      "cell_type": "markdown",
      "metadata": {
        "id": "d1lxsqSk1URn",
        "colab_type": "text"
      },
      "source": [
        "#### 입력인자 개수를 상황에 따라 가변적으로 조절해도 되는 함수를 만들려면 어떻게 해야할까?  \n",
        "  \n",
        "  가변인자 설정\n",
        "  \n",
        "  - 가변인자 : *인자이름\n",
        "  - 특징 : 가변인자의 type은 tuple이다."
      ]
    },
    {
      "cell_type": "code",
      "metadata": {
        "id": "VrIyc1E31URo",
        "colab_type": "code",
        "colab": {}
      },
      "source": [
        "def print_data(*data): #*data = 가변인자\n",
        "    print('data: ', data)\n",
        "    \n",
        "    data_list = list(data) #리스트로 형변환\n",
        "    print('형변환: ', data_list)\n",
        "\n",
        "    # 언패킹 (데이터 3개라고 가정)\n",
        "    # data1, data2, data3 = data[0], data[1], data[2] \n",
        "    # print('언패킹 :', data1, data2, data3)\n",
        "#     return data_list"
      ],
      "execution_count": 0,
      "outputs": []
    },
    {
      "cell_type": "code",
      "metadata": {
        "id": "BfNl8aBC1URr",
        "colab_type": "code",
        "colab": {}
      },
      "source": [
        "# print_data()\n",
        "# print_data(1)\n",
        "# print_data(1, 2, 3) #함수 호출 시, data로 대입"
      ],
      "execution_count": 0,
      "outputs": []
    },
    {
      "cell_type": "code",
      "metadata": {
        "id": "P9cWcEktapum",
        "colab_type": "code",
        "outputId": "cf7241ce-77c4-4ff4-baf5-eea5429ad380",
        "colab": {
          "base_uri": "https://localhost:8080/",
          "height": 52
        }
      },
      "source": [
        "print_data('원재', '디노', '온즈')"
      ],
      "execution_count": 0,
      "outputs": [
        {
          "output_type": "stream",
          "text": [
            "data:  ('원재', '디노', '온즈')\n",
            "형변환:  ['원재', '디노', '온즈']\n"
          ],
          "name": "stdout"
        }
      ]
    },
    {
      "cell_type": "markdown",
      "metadata": {
        "id": "v8Qg-8CK1URt",
        "colab_type": "text"
      },
      "source": [
        "#### 여러개의 데이터를 리스트로 묶어서 넣어주면 어떻게 될까?\n",
        "\n",
        "함수 호출 시, data로 직접 대입하지 않고,  \n",
        "변수로 대입하여 호출해보자."
      ]
    },
    {
      "cell_type": "code",
      "metadata": {
        "id": "ZScgwBgj1URu",
        "colab_type": "code",
        "outputId": "aba29ca1-9979-4e7b-e283-8e4baae49776",
        "colab": {
          "base_uri": "https://localhost:8080/",
          "height": 52
        }
      },
      "source": [
        "sample_list = [1, 2, 3]\n",
        "print_data(*sample_list)"
      ],
      "execution_count": 0,
      "outputs": [
        {
          "output_type": "stream",
          "text": [
            "data:  (1, 2, 3)\n",
            "형변환:  [1, 2, 3]\n"
          ],
          "name": "stdout"
        }
      ]
    },
    {
      "cell_type": "markdown",
      "metadata": {
        "id": "kBHv8mQ91URx",
        "colab_type": "text"
      },
      "source": [
        "#### 가변인자를 key값을 가진 딕셔너리 형태의 변수로 선언하고 싶다면?\n",
        "\n",
        "  가변인자 설정\n",
        "  \n",
        "  - 가변인자 : **인자이름\n",
        "  - 특징 : 가변인자의 type은 dictionary이다."
      ]
    },
    {
      "cell_type": "code",
      "metadata": {
        "id": "_-DytObR1URy",
        "colab_type": "code",
        "colab": {}
      },
      "source": [
        "def print_data_2(**data):\n",
        "    print(data, type(data))"
      ],
      "execution_count": 0,
      "outputs": []
    },
    {
      "cell_type": "code",
      "metadata": {
        "id": "2R7-Pzj21UR0",
        "colab_type": "code",
        "outputId": "ca007839-eae4-45d3-ea33-bbf3e371b8ca",
        "colab": {}
      },
      "source": [
        "print_data_2(name='ardino', phone='010-0000-0000', email='@.com')"
      ],
      "execution_count": 0,
      "outputs": [
        {
          "output_type": "stream",
          "text": [
            "{'name': 'ardino', 'phone': '010-0000-0000', 'email': '@.com'} <class 'dict'>\n"
          ],
          "name": "stdout"
        }
      ]
    },
    {
      "cell_type": "markdown",
      "metadata": {
        "id": "75t-OWFh78nR",
        "colab_type": "text"
      },
      "source": [
        "#### 넣어줄 때도 딕셔너리로 묶어서 넣어주면 어떻게 될까?"
      ]
    },
    {
      "cell_type": "code",
      "metadata": {
        "id": "ovkmcLwZ1UR5",
        "colab_type": "code",
        "outputId": "1937c71b-055d-4b83-81d2-bf075f62b45d",
        "colab": {}
      },
      "source": [
        "sample_dict = {\n",
        "    'name': 'ardino',\n",
        "    'phone': '010',\n",
        "    'email': 'naver.com'\n",
        "}\n",
        "print_data_2(**sample_dict)"
      ],
      "execution_count": 0,
      "outputs": [
        {
          "output_type": "stream",
          "text": [
            "{'name': 'ardino', 'phone': '010', 'email': 'naver.com'} <class 'dict'>\n"
          ],
          "name": "stdout"
        }
      ]
    }
  ]
}