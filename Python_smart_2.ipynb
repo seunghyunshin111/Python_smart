{
 "cells": [
  {
   "cell_type": "code",
   "execution_count": 1,
   "metadata": {
    "scrolled": true
   },
   "outputs": [
    {
     "name": "stdout",
     "output_type": "stream",
     "text": [
      "15\n",
      "10\n",
      "50\n",
      "10.0\n",
      "2.0\n",
      "2.0\n",
      "32.0\n"
     ]
    }
   ],
   "source": [
    "# 산술 연산자 실습\n",
    "\n",
    "a = 10\n",
    "a += 5; print(a)\n",
    "a -= 5; print(a)\n",
    "a *= 5; print(a)\n",
    "a /= 5; print(a)\n",
    "a //= 5; print(a)\n",
    "a %= 5; print(a)\n",
    "a **= 5; print(a)"
   ]
  },
  {
   "cell_type": "code",
   "execution_count": 6,
   "metadata": {
    "scrolled": true
   },
   "outputs": [
    {
     "name": "stdout",
     "output_type": "stream",
     "text": [
      "교환할 돈은 얼마? 9845621\n",
      "[19691, 1, 0, 2]\n",
      "\n",
      " 오백원짜리 ==> 19691 개 \n",
      " 백원짜리 ==> 1 개 \n",
      " 오십원짜리 ==> 0 개 \n",
      " 십원짜리 ==> 2 개 \n",
      " 바꾸지 못한 잔돈 ==> 1 개 \n",
      "\n"
     ]
    }
   ],
   "source": [
    "# 동전 교환 프로그램\n",
    "\n",
    "## 변수 선언 \n",
    "money, c500, c100, c50, c10 = 0, 0, 0, 0, 0\n",
    "\n",
    "\n",
    "## 메인(main) 코드 부분\n",
    "money = int(input(\"교환할 돈은 얼마? \"))\n",
    "\n",
    "c500 = money // 500\n",
    "money %= 500\n",
    "\n",
    "c100 = money // 100\n",
    "money %= 100\n",
    "\n",
    "c50 = money // 50\n",
    "money %= 50\n",
    "\n",
    "c10 = money // 10\n",
    "money %= 10\n",
    "\n",
    "print([c500, c100, c50, c10])\n",
    "\n",
    "print(\"\\n 오백원짜리 ==> %d 개 \" % c500)\n",
    "print(\" 백원짜리 ==> %d 개 \" % c100)\n",
    "print(\" 오십원짜리 ==> %d 개 \" % c50)\n",
    "print(\" 십원짜리 ==> %d 개 \" % c10)\n",
    "print(\" 바꾸지 못한 잔돈 ==> %d 개 \\n\" % money)"
   ]
  },
  {
   "cell_type": "code",
   "execution_count": 2,
   "metadata": {},
   "outputs": [
    {
     "name": "stdout",
     "output_type": "stream",
     "text": [
      "연도를 입력하세요 : 2020\n",
      "2020년은 윤년입니다.\n"
     ]
    }
   ],
   "source": [
    "# 일상 생활 문제 해결 : 윤년 (leap year)\n",
    "\n",
    "# 윤년\n",
    "# 400년에 97년을 윤년으로 두고 있다. 1년의 길이가 365일로 실제보다 0.2422일 짧은 것으로 발생\n",
    "\n",
    "# 치윤법\n",
    "# 4년으로 나누어 떨어지는 해는 윤년으로 하고,\n",
    "# 100으로 나누어 떨어지는 해는 평년으로 하며,\n",
    "# 다만 400으로 나누어 떨어지는 해는 다시 윤년으로 정하였다.\n",
    "\n",
    "#(year % 4 == 0)\n",
    "#(year % 100 != 0)\n",
    "#(year % 400 == 0)\n",
    "\n",
    "\n",
    "# ((year % 4 == 0) and (year % 100 != 0)) or (year % 400 == 0)\n",
    "# and 조건식(2가지)이 참이면, 2월 29일인 윤년!\n",
    "\n",
    "\n",
    "## 변수 선언 부분\n",
    "year = 0\n",
    "\n",
    "## 메인(main) 코드 부분\n",
    "year = int(input(\"연도를 입력하세요 : \"))\n",
    "\n",
    "if (((year % 4 == 0) and (year % 100 != 0)) or (year % 400 == 0)):\n",
    "    print(\"%d년은 윤년입니다.\" % year)\n",
    "    \n",
    "else :\n",
    "    print(\"%d 년은 윤년이 아닙니다.\" % year)\n"
   ]
  },
  {
   "cell_type": "code",
   "execution_count": 4,
   "metadata": {},
   "outputs": [
    {
     "data": {
      "text/plain": [
       "7"
      ]
     },
     "execution_count": 4,
     "metadata": {},
     "output_type": "execute_result"
    }
   ],
   "source": [
    "a = 3\n",
    "a += 1\n",
    "a *= 2\n",
    "a -= 1\n",
    "a"
   ]
  },
  {
   "cell_type": "code",
   "execution_count": 6,
   "metadata": {},
   "outputs": [
    {
     "name": "stdout",
     "output_type": "stream",
     "text": [
      "True\n"
     ]
    }
   ],
   "source": [
    "year = 2020\n",
    "print ( ((year % 4 == 0) and (year % 100 != 0)) or (year % 400 == 0) )"
   ]
  },
  {
   "cell_type": "code",
   "execution_count": null,
   "metadata": {
    "scrolled": true
   },
   "outputs": [],
   "source": [
    "##################################################################################\n",
    "# 조건문 (if)\n",
    "\n",
    "print(int(input(\"성적을 입력하세요: \")))\n",
    "\n",
    "if A >= 90 and A <= 100:\n",
    "    print(\"A\")\n",
    "    \n",
    "elif B >= 90 and B <= 100:\n",
    "    print(\"B\")\n",
    "    \n",
    "elif C >= 90 and C <= 100:\n",
    "    print(\"C\")\n",
    "    \n",
    "elif D >= 90 and D <= 100:\n",
    "    print(\"D\")\n",
    "    \n",
    "else :\n",
    "    print(\"F\")\n"
   ]
  },
  {
   "cell_type": "code",
   "execution_count": 1,
   "metadata": {},
   "outputs": [
    {
     "name": "stdout",
     "output_type": "stream",
     "text": [
      "이름을 입력하세요: 파이리\n",
      "포켓몬\n"
     ]
    }
   ],
   "source": [
    "name = input(\"이름을 입력하세요: \")\n",
    "if name == \"파이리\":\n",
    "    print(\"포켓몬\")\n",
    "    \n",
    "else :\n",
    "    print(\"이름: \", name)"
   ]
  },
  {
   "cell_type": "code",
   "execution_count": 5,
   "metadata": {},
   "outputs": [
    {
     "name": "stdout",
     "output_type": "stream",
     "text": [
      "사과의 상태를 입력하세요: 신선\n",
      "사과 1개의 가격을 입력하세요: 5000\n",
      "5개를 산다\n"
     ]
    }
   ],
   "source": [
    "# 중첩 if 예제\n",
    "\n",
    "AppleQuality = input(\"사과의 상태를 입력하세요: \")\n",
    "ApplePrice = int(input(\"사과 1개의 가격을 입력하세요: \"))\n",
    "\n",
    "if AppleQuality == \"신선\":\n",
    "    if ApplePrice < 1000:\n",
    "        print(\"10개를 산다\")\n",
    "        \n",
    "    else:\n",
    "        print(\"5개를 산다\")\n",
    "        \n",
    "else:\n",
    "        print(\"사과를 사지 않는다\")\n",
    "        "
   ]
  },
  {
   "cell_type": "code",
   "execution_count": 2,
   "metadata": {},
   "outputs": [
    {
     "name": "stdout",
     "output_type": "stream",
     "text": [
      "정수를 입력하세요: 5\n",
      "양수입니다.\n"
     ]
    }
   ],
   "source": [
    "# 양수, 0, 음수 판별\n",
    "\n",
    "num = int(input(\"정수를 입력하세요: \"))\n",
    "\n",
    "if num < 0:\n",
    "    print(\"음수입니다.\")\n",
    "    \n",
    "elif num == 0:\n",
    "    print(\"0입니다.\")\n",
    "    \n",
    "else:\n",
    "    print(\"양수입니다.\")"
   ]
  },
  {
   "cell_type": "code",
   "execution_count": 3,
   "metadata": {},
   "outputs": [
    {
     "name": "stdout",
     "output_type": "stream",
     "text": [
      "(가위, 바위, 보) 중에서 하나를 선택하세요: 바위\n",
      "사용자:  바위 컴퓨터:  가위\n"
     ]
    }
   ],
   "source": [
    "# 가위 바위 보 게임\n",
    "\n",
    "import random\n",
    "\n",
    "player = input(\"(가위, 바위, 보) 중에서 하나를 선택하세요: \")\n",
    "\n",
    "number = random.randint(0, 2)\n",
    "if (number == 0):\n",
    "    computer = \"가위\"\n",
    "    \n",
    "elif (number == 1):\n",
    "    computer = \"바위\"\n",
    "    \n",
    "elif (number == 2):\n",
    "    computer = \"보\"\n",
    "    \n",
    "print(\"사용자: \", player, \"컴퓨터: \", computer)\n",
    "     "
   ]
  }
 ],
 "metadata": {
  "kernelspec": {
   "display_name": "Python 3",
   "language": "python",
   "name": "python3"
  },
  "language_info": {
   "codemirror_mode": {
    "name": "ipython",
    "version": 3
   },
   "file_extension": ".py",
   "mimetype": "text/x-python",
   "name": "python",
   "nbconvert_exporter": "python",
   "pygments_lexer": "ipython3",
   "version": "3.7.4"
  }
 },
 "nbformat": 4,
 "nbformat_minor": 2
}
