{
 "cells": [
  {
   "cell_type": "code",
   "execution_count": 1,
   "metadata": {},
   "outputs": [
    {
     "name": "stdout",
     "output_type": "stream",
     "text": [
      "95 90\n"
     ]
    }
   ],
   "source": [
    "# X -> Y,  Y <- X 방법1 \n",
    "# temp\n",
    "\n",
    "X = 90\n",
    "Y = 95\n",
    "\n",
    "temp = X\n",
    "X = Y\n",
    "Y = temp\n",
    "\n",
    "print(X, Y)"
   ]
  },
  {
   "cell_type": "code",
   "execution_count": 2,
   "metadata": {},
   "outputs": [
    {
     "name": "stdout",
     "output_type": "stream",
     "text": [
      "20 10\n"
     ]
    }
   ],
   "source": [
    "# 방법2\n",
    "\n",
    "a = 10\n",
    "b = 20\n",
    "\n",
    "a, b = b, a\n",
    "\n",
    "print(a, b)"
   ]
  },
  {
   "cell_type": "code",
   "execution_count": 3,
   "metadata": {},
   "outputs": [
    {
     "name": "stdout",
     "output_type": "stream",
     "text": [
      "이름이 무엇인가요? 유니코\n",
      "만나서 반갑습니다. 유니코님!\n"
     ]
    }
   ],
   "source": [
    "# input()\n",
    "\n",
    "name = input(\"이름이 무엇인가요? \")\n",
    "print(\"만나서 반갑습니다. \" + name + \"님!\")"
   ]
  },
  {
   "cell_type": "code",
   "execution_count": 1,
   "metadata": {},
   "outputs": [
    {
     "name": "stdout",
     "output_type": "stream",
     "text": [
      "첫 번째 정수: 5\n",
      "두 번째 정수: 5\n",
      "합은  10\n"
     ]
    }
   ],
   "source": [
    "x = int(input(\"첫 번째 정수: \"))\n",
    "y = int(input(\"두 번째 정수: \"))\n",
    "sum = x + y\n",
    "print(\"합은 \", sum)"
   ]
  },
  {
   "cell_type": "code",
   "execution_count": 6,
   "metadata": {},
   "outputs": [
    {
     "name": "stdout",
     "output_type": "stream",
     "text": [
      "이름을 입력해주세요: 유니코\n",
      "유니코 님 만나서 반갑습니다.\n",
      "나이를 입력해주세요: 10\n",
      "10년 후면 20 살이 되시는 군요!\n"
     ]
    }
   ],
   "source": [
    "name = input('이름을 입력해주세요: ')\n",
    "print(name, '님 만나서 반갑습니다.')\n",
    "\n",
    "age = input('나이를 입력해주세요: ')\n",
    "print('10년 후면', int(age) + 10, '살이 되시는 군요!')"
   ]
  },
  {
   "cell_type": "code",
   "execution_count": 7,
   "metadata": {},
   "outputs": [
    {
     "name": "stdout",
     "output_type": "stream",
     "text": [
      "101 101.123 100000000000000000000\n"
     ]
    }
   ],
   "source": [
    "# int() 정수로\n",
    "# float() 실수로\n",
    "\n",
    "s1, s2, s3 = \"100\", \"100.123\", \"99999999999999999999\"\n",
    "print(int(s1) + 1, float(s2) + 1, int(s3) + 1)"
   ]
  },
  {
   "cell_type": "code",
   "execution_count": 2,
   "metadata": {},
   "outputs": [
    {
     "data": {
      "text/plain": [
       "'100.1231'"
      ]
     },
     "execution_count": 2,
     "metadata": {},
     "output_type": "execute_result"
    }
   ],
   "source": [
    "# 숫자 -> 문자열                #################?????????\n",
    "# str()\n",
    "\n",
    "a = 100; b = 100.123\n",
    "str(a) + '1' ; str(b) + '1'"
   ]
  },
  {
   "cell_type": "code",
   "execution_count": 4,
   "metadata": {},
   "outputs": [
    {
     "name": "stdout",
     "output_type": "stream",
     "text": [
      "False True False True False True\n"
     ]
    }
   ],
   "source": [
    "# 관계 연산자 \n",
    "\n",
    "c, d = 100, 200\n",
    "print(c == d, c != d, c > d, c < d, c >= d, c <= d)"
   ]
  },
  {
   "cell_type": "code",
   "execution_count": 5,
   "metadata": {},
   "outputs": [
    {
     "data": {
      "text/plain": [
       "True"
      ]
     },
     "execution_count": 5,
     "metadata": {},
     "output_type": "execute_result"
    }
   ],
   "source": [
    "# 논리 연산자\n",
    "\n",
    "f = 99\n",
    "(f > 100) and (f < 200)\n",
    "(f > 100) or (f < 200)\n",
    "not(f == 100)"
   ]
  },
  {
   "cell_type": "code",
   "execution_count": 6,
   "metadata": {},
   "outputs": [
    {
     "name": "stdout",
     "output_type": "stream",
     "text": [
      "1\n"
     ]
    }
   ],
   "source": [
    "print (25 // 10 ** 2 + 1)"
   ]
  },
  {
   "cell_type": "code",
   "execution_count": 8,
   "metadata": {},
   "outputs": [
    {
     "name": "stdout",
     "output_type": "stream",
     "text": [
      "100200\n"
     ]
    }
   ],
   "source": [
    "i, o = \"100\", 200\n",
    "print(i + str(o))"
   ]
  },
  {
   "cell_type": "code",
   "execution_count": null,
   "metadata": {},
   "outputs": [],
   "source": []
  }
 ],
 "metadata": {
  "kernelspec": {
   "display_name": "Python 3",
   "language": "python",
   "name": "python3"
  },
  "language_info": {
   "codemirror_mode": {
    "name": "ipython",
    "version": 3
   },
   "file_extension": ".py",
   "mimetype": "text/x-python",
   "name": "python",
   "nbconvert_exporter": "python",
   "pygments_lexer": "ipython3",
   "version": "3.7.4"
  }
 },
 "nbformat": 4,
 "nbformat_minor": 2
}
