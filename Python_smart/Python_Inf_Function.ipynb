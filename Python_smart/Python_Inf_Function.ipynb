{
 "cells": [
  {
   "cell_type": "code",
   "execution_count": 4,
   "metadata": {},
   "outputs": [
    {
     "name": "stdout",
     "output_type": "stream",
     "text": [
      "7\n",
      "5\n"
     ]
    }
   ],
   "source": [
    "# 함수 (Function)\n",
    "\n",
    "# def 함수명 (파라미터(인자1), 인자2, ...):\n",
    "#    문장\n",
    "\n",
    "def add(f, d):\n",
    "    sum = f + d\n",
    "    return sum         # return 없으면, None\n",
    "\n",
    "print(add(1, 6))\n",
    "print(add(2, 3))"
   ]
  }
 ],
 "metadata": {
  "kernelspec": {
   "display_name": "Python 3",
   "language": "python",
   "name": "python3"
  },
  "language_info": {
   "codemirror_mode": {
    "name": "ipython",
    "version": 3
   },
   "file_extension": ".py",
   "mimetype": "text/x-python",
   "name": "python",
   "nbconvert_exporter": "python",
   "pygments_lexer": "ipython3",
   "version": "3.7.4"
  }
 },
 "nbformat": 4,
 "nbformat_minor": 2
}
