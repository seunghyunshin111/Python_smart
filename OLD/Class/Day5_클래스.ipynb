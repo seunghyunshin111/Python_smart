{
 "cells": [
  {
   "cell_type": "markdown",
   "metadata": {},
   "source": [
    "# 클래스"
   ]
  },
  {
   "cell_type": "code",
   "execution_count": 3,
   "metadata": {},
   "outputs": [
    {
     "name": "stdout",
     "output_type": "stream",
     "text": [
      "3\n",
      "7\n",
      "3\n",
      "10\n"
     ]
    }
   ],
   "source": [
    "class Calculator:\n",
    "    def __init__(self):\n",
    "        self.result = 0  # 데이터\n",
    "\n",
    "    def add(self, num):  # 실제 기능\n",
    "        self.result += num\n",
    "        return self.result\n",
    "\n",
    "    \n",
    "cal1 = Calculator()  # __init__ 부르는 것\n",
    "cal2 = Calculator()\n",
    "\n",
    "\n",
    "print(cal1.add(3))  # 실행은 cal1 이 한다.\n",
    "print(cal1.add(4))\n",
    "print(cal2.add(3))\n",
    "print(cal2.add(7))"
   ]
  },
  {
   "cell_type": "code",
   "execution_count": 1,
   "metadata": {},
   "outputs": [],
   "source": [
    "class Enemy:\n",
    "    pass  # 빈 공간 나면 안 되니까 일단 pass로 틀 생성\n",
    "\n",
    "e1 = Enemy()\n",
    "e2 = Enemy()\n",
    "e3 = Enemy()"
   ]
  },
  {
   "cell_type": "code",
   "execution_count": 2,
   "metadata": {},
   "outputs": [],
   "source": [
    "class Enemy:\n",
    "    def __init__(self):\n",
    "        self.x = 10  # 값은 각자의 독립변수에 의해 언제든 바뀜\n",
    "        self.y = 20\n",
    "        \n",
    "    def display(self, *name):\n",
    "        print(x, y)   # self. 안 했는데 오류가 안 남! (display() 호출하지 않음.)\n",
    "        \n",
    "\n",
    "e1 = Enemy()  # self = e1\n",
    "e2 = Enemy()\n",
    "e3 = Enemy()\n",
    "\n"
   ]
  },
  {
   "cell_type": "code",
   "execution_count": 3,
   "metadata": {},
   "outputs": [
    {
     "ename": "NameError",
     "evalue": "name 'x' is not defined",
     "output_type": "error",
     "traceback": [
      "\u001b[1;31m---------------------------------------------------------------------------\u001b[0m",
      "\u001b[1;31mNameError\u001b[0m                                 Traceback (most recent call last)",
      "\u001b[1;32m<ipython-input-3-0e83711e4e53>\u001b[0m in \u001b[0;36m<module>\u001b[1;34m\u001b[0m\n\u001b[1;32m----> 1\u001b[1;33m \u001b[0me1\u001b[0m\u001b[1;33m.\u001b[0m\u001b[0mdisplay\u001b[0m\u001b[1;33m(\u001b[0m\u001b[1;33m)\u001b[0m\u001b[1;33m\u001b[0m\u001b[1;33m\u001b[0m\u001b[0m\n\u001b[0m",
      "\u001b[1;32m<ipython-input-2-acc72e0955be>\u001b[0m in \u001b[0;36mdisplay\u001b[1;34m(self, *name)\u001b[0m\n\u001b[0;32m      5\u001b[0m \u001b[1;33m\u001b[0m\u001b[0m\n\u001b[0;32m      6\u001b[0m     \u001b[1;32mdef\u001b[0m \u001b[0mdisplay\u001b[0m\u001b[1;33m(\u001b[0m\u001b[0mself\u001b[0m\u001b[1;33m,\u001b[0m \u001b[1;33m*\u001b[0m\u001b[0mname\u001b[0m\u001b[1;33m)\u001b[0m\u001b[1;33m:\u001b[0m\u001b[1;33m\u001b[0m\u001b[1;33m\u001b[0m\u001b[0m\n\u001b[1;32m----> 7\u001b[1;33m         \u001b[0mprint\u001b[0m\u001b[1;33m(\u001b[0m\u001b[0mx\u001b[0m\u001b[1;33m,\u001b[0m \u001b[0my\u001b[0m\u001b[1;33m)\u001b[0m\u001b[1;33m\u001b[0m\u001b[1;33m\u001b[0m\u001b[0m\n\u001b[0m\u001b[0;32m      8\u001b[0m \u001b[1;33m\u001b[0m\u001b[0m\n\u001b[0;32m      9\u001b[0m \u001b[1;33m\u001b[0m\u001b[0m\n",
      "\u001b[1;31mNameError\u001b[0m: name 'x' is not defined"
     ]
    }
   ],
   "source": [
    "e1.display()\n",
    "\n",
    "\n",
    "# display 안의 지역변수 x를 찾는 소리 (밑에 다시 실행)"
   ]
  },
  {
   "cell_type": "code",
   "execution_count": 4,
   "metadata": {},
   "outputs": [
    {
     "ename": "NameError",
     "evalue": "name 'y' is not defined",
     "output_type": "error",
     "traceback": [
      "\u001b[1;31m---------------------------------------------------------------------------\u001b[0m",
      "\u001b[1;31mNameError\u001b[0m                                 Traceback (most recent call last)",
      "\u001b[1;32m<ipython-input-4-473a1811c526>\u001b[0m in \u001b[0;36m<module>\u001b[1;34m\u001b[0m\n\u001b[0;32m     13\u001b[0m \u001b[0me3\u001b[0m \u001b[1;33m=\u001b[0m \u001b[0mEnemy\u001b[0m\u001b[1;33m(\u001b[0m\u001b[1;33m)\u001b[0m\u001b[1;33m\u001b[0m\u001b[1;33m\u001b[0m\u001b[0m\n\u001b[0;32m     14\u001b[0m \u001b[1;33m\u001b[0m\u001b[0m\n\u001b[1;32m---> 15\u001b[1;33m \u001b[0me1\u001b[0m\u001b[1;33m.\u001b[0m\u001b[0mdisplay\u001b[0m\u001b[1;33m(\u001b[0m\u001b[1;33m)\u001b[0m\u001b[1;33m\u001b[0m\u001b[1;33m\u001b[0m\u001b[0m\n\u001b[0m",
      "\u001b[1;32m<ipython-input-4-473a1811c526>\u001b[0m in \u001b[0;36mdisplay\u001b[1;34m(self, *name)\u001b[0m\n\u001b[0;32m      6\u001b[0m     \u001b[1;32mdef\u001b[0m \u001b[0mdisplay\u001b[0m\u001b[1;33m(\u001b[0m\u001b[0mself\u001b[0m\u001b[1;33m,\u001b[0m \u001b[1;33m*\u001b[0m\u001b[0mname\u001b[0m\u001b[1;33m)\u001b[0m\u001b[1;33m:\u001b[0m\u001b[1;33m\u001b[0m\u001b[1;33m\u001b[0m\u001b[0m\n\u001b[0;32m      7\u001b[0m         \u001b[0mx\u001b[0m \u001b[1;33m=\u001b[0m \u001b[1;36m100\u001b[0m\u001b[1;33m\u001b[0m\u001b[1;33m\u001b[0m\u001b[0m\n\u001b[1;32m----> 8\u001b[1;33m         \u001b[0mprint\u001b[0m\u001b[1;33m(\u001b[0m\u001b[0mx\u001b[0m\u001b[1;33m,\u001b[0m \u001b[0my\u001b[0m\u001b[1;33m)\u001b[0m   \u001b[1;31m# self. 안 했는데 오류가 안 남! (display() 호출하지 않음.)\u001b[0m\u001b[1;33m\u001b[0m\u001b[1;33m\u001b[0m\u001b[0m\n\u001b[0m\u001b[0;32m      9\u001b[0m \u001b[1;33m\u001b[0m\u001b[0m\n\u001b[0;32m     10\u001b[0m \u001b[1;33m\u001b[0m\u001b[0m\n",
      "\u001b[1;31mNameError\u001b[0m: name 'y' is not defined"
     ]
    }
   ],
   "source": [
    "class Enemy:\n",
    "    def __init__(self):\n",
    "        self.x = 10  # 값은 각자의 독립변수에 의해 언제든 바뀜\n",
    "        self.y = 20\n",
    "        \n",
    "    def display(self, *name):\n",
    "        x = 100\n",
    "        print(x, y)   # self. 안 했는데 오류가 안 남! (display() 호출하지 않음.)\n",
    "        \n",
    "\n",
    "e1 = Enemy()  # self = e1\n",
    "e2 = Enemy()\n",
    "e3 = Enemy()\n",
    "\n",
    "e1.display()\n",
    "\n",
    "# 지역변수 y를 설정하거나 self.x 등으로 밖에 있는 변수를 따로 설정해줘야 불러올 수 있음!\n",
    "# (밑에 성공 예시)"
   ]
  },
  {
   "cell_type": "code",
   "execution_count": 5,
   "metadata": {},
   "outputs": [
    {
     "name": "stdout",
     "output_type": "stream",
     "text": [
      "10 20\n"
     ]
    }
   ],
   "source": [
    "class Enemy:\n",
    "    def __init__(self):\n",
    "        self.x = 10  # 값은 각자의 독립변수에 의해 언제든 바뀜\n",
    "        self.y = 20\n",
    "        \n",
    "    def display(self, *name):\n",
    "        print(self.x, self.y)  \n",
    "        \n",
    "\n",
    "e1 = Enemy()  # self = e1\n",
    "e2 = Enemy()\n",
    "e3 = Enemy()\n",
    "\n",
    "e1.display()\n",
    "\n",
    "\n",
    "# 이제 성공!"
   ]
  },
  {
   "cell_type": "code",
   "execution_count": 33,
   "metadata": {},
   "outputs": [],
   "source": [
    "# 성적관리프로그램을 파이썬 객체지향기법으로 작성하시오.\n",
    "\n",
    "# 1) 객체 추출(하나의 역할을 기준)\n",
    "# 2) Class -> object 생성되므로 Class를 정의\n",
    "# - UML로 설계\n",
    "# - 구현\n",
    "# - 변수: 36개\n",
    "\n",
    "\n",
    "# Object를 가로(행) 기준으로 본다면? \n",
    "\n",
    "# Student : 클래스명\n",
    "# num, name 등 : 속성명 (모든 값이 다 다른 값을 가져야 함)\n",
    "\n",
    "\n",
    "\n",
    "class Student:\n",
    "    def __init__(self, num, name, kor, eng, math):\n",
    "        self.num = num         # 속성 내용들 초기화\n",
    "        self.name = name\n",
    "        self.score1 = kor\n",
    "        self.score2 = eng\n",
    "        self.score3 = math\n",
    "        self.total = 0\n",
    "        \n",
    "    def add(self):\n",
    "        self.total = (self.score1 + self.score2 + self.score3) / 3\n",
    "        return self.total\n",
    "    \n",
    "    def display(self):  # 큰 그림 코딩 먼저(세부적인 거 하다가 몇 개 놓침)\n",
    "        self.add()\n",
    "        result = print(self.num, self.name, \":\", self.total)\n",
    "        return result\n",
    "    \n",
    "\n",
    "# class Student(object):\n",
    "    \n",
    "#     def __init__(self, num, name, score1, score2, score3, total):\n",
    "#         self.num = {}\n",
    "#         self.name = {}\n",
    "#         self.score1 = {}\n",
    "#         self.score2 = {}\n",
    "#         self.score3 = {}\n",
    "#         self.total = {}\n",
    "        \n",
    "#     def class_score(self, num, name, score1, score2, score3, total):\n",
    "#         return \"이름 : %s\"\n",
    "    \n"
   ]
  },
  {
   "cell_type": "code",
   "execution_count": 34,
   "metadata": {
    "scrolled": true
   },
   "outputs": [
    {
     "name": "stdout",
     "output_type": "stream",
     "text": [
      "1 홍길동 : 38.333333333333336\n",
      "2 김길동 : 93.33333333333333\n"
     ]
    }
   ],
   "source": [
    "s1 = Student(num = 1, name = \"홍길동\", kor =  25, eng = 34, math = 56)\n",
    "s1.display()\n",
    "\n",
    "s1 = Student(num = 2, name = \"김길동\", kor =  100, eng = 85, math = 95)\n",
    "s1.display()"
   ]
  },
  {
   "cell_type": "code",
   "execution_count": 37,
   "metadata": {},
   "outputs": [
    {
     "name": "stdout",
     "output_type": "stream",
     "text": [
      "1 홍길동 : 38.333333333333336\n"
     ]
    }
   ],
   "source": [
    "# 외국 학생이 있는 경우 (상속!!! 코드 카피 방법 아님!)\n",
    "\n",
    "class FStudent(Student):       # 상속관계!!!\n",
    "    pass\n",
    "\n",
    "\n",
    "fs = FStudent(num = 1, name = \"홍길동\", kor =  25, eng = 34, math = 56)\n",
    "fs.display()\n",
    "\n",
    "\n",
    "# 정의 내리지 않았는데도 display() 값이 수행된 이유는\n",
    "# '상속' 받았기 때문이다!"
   ]
  },
  {
   "cell_type": "code",
   "execution_count": 41,
   "metadata": {},
   "outputs": [
    {
     "name": "stdout",
     "output_type": "stream",
     "text": [
      "총점:  38.333333333333336\n"
     ]
    }
   ],
   "source": [
    "# 상속\n",
    "# 메서드 오버라이딩\n",
    "# 부모가 물려준 것을 내 스타일로 바꿔서(수정) 쓰는 것\n",
    "# 원본에 덮어쓰기 하는 느낌\n",
    "\n",
    "\n",
    "class FStudent(Student):       # 상속관계!!!\n",
    "    \n",
    "    def display(self):   # 기존에 있는 것에 덮어쓴 것(메서드 오버라이딩!)\n",
    "        self.add()\n",
    "        print(\"총점: \", self.total)\n",
    "        \n",
    "        \n",
    "fs = FStudent(num = 1, name = \"홍길동\", kor =  25, eng = 34, math = 56)\n",
    "fs.display()\n",
    "\n",
    "\n",
    "\n",
    "# 남이 준 코드인데, 일부가 마음에 안 드는 경우 일부만 내 스타일로 재정의해서 쓸 수 있음.\n"
   ]
  },
  {
   "cell_type": "code",
   "execution_count": null,
   "metadata": {},
   "outputs": [],
   "source": []
  }
 ],
 "metadata": {
  "kernelspec": {
   "display_name": "Python 3",
   "language": "python",
   "name": "python3"
  },
  "language_info": {
   "codemirror_mode": {
    "name": "ipython",
    "version": 3
   },
   "file_extension": ".py",
   "mimetype": "text/x-python",
   "name": "python",
   "nbconvert_exporter": "python",
   "pygments_lexer": "ipython3",
   "version": "3.7.4"
  }
 },
 "nbformat": 4,
 "nbformat_minor": 2
}
