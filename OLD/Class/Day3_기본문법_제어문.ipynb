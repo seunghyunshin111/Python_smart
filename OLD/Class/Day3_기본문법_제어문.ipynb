{
 "cells": [
  {
   "cell_type": "markdown",
   "metadata": {},
   "source": [
    "# if문"
   ]
  },
  {
   "cell_type": "code",
   "execution_count": null,
   "metadata": {},
   "outputs": [],
   "source": [
    "# if문\n",
    "\n",
    "money = True\n",
    "if money:\n",
    "    print(\"택시를 타고 가라\")\n",
    "else:\n",
    "    print(\"걸어 가라\")"
   ]
  },
  {
   "cell_type": "code",
   "execution_count": 7,
   "metadata": {},
   "outputs": [
    {
     "name": "stdout",
     "output_type": "stream",
     "text": [
      "택시를\n",
      "타고\n",
      "가라\n"
     ]
    }
   ],
   "source": [
    "# 들여쓰기\n",
    "\n",
    "money = True\n",
    "if money:\n",
    "    print(\"택시를\")\n",
    "    print(\"타고\")\n",
    "    print(\"가라\")"
   ]
  },
  {
   "cell_type": "code",
   "execution_count": 8,
   "metadata": {},
   "outputs": [
    {
     "name": "stdout",
     "output_type": "stream",
     "text": [
      "걸어가라\n"
     ]
    }
   ],
   "source": [
    "money = 2000\n",
    "if money >= 3000:\n",
    "    print(\"택시를 타고 걸어 가라\")\n",
    "    \n",
    "else:\n",
    "    print(\"걸어가라\")"
   ]
  },
  {
   "cell_type": "code",
   "execution_count": 24,
   "metadata": {
    "scrolled": true
   },
   "outputs": [
    {
     "name": "stdout",
     "output_type": "stream",
     "text": [
      "택시를 타고 가라\n"
     ]
    }
   ],
   "source": [
    "money = 2000\n",
    "\n",
    "card = True\n",
    "\n",
    "if money >= 3000 or card:\n",
    "    print(\"택시를 타고 가라\")\n",
    "    \n",
    "else:\n",
    "    print(\"걸어가라\")"
   ]
  },
  {
   "cell_type": "markdown",
   "metadata": {},
   "source": [
    "# x in s, x not in s\n",
    "\n",
    "## s 안에 x가 있느냐, s 안에 x가 없느냐\n",
    "\n",
    "### True / False"
   ]
  },
  {
   "cell_type": "code",
   "execution_count": 9,
   "metadata": {},
   "outputs": [
    {
     "data": {
      "text/plain": [
       "True"
      ]
     },
     "execution_count": 9,
     "metadata": {},
     "output_type": "execute_result"
    }
   ],
   "source": [
    "# 1, 2, 3 이라는 list 안에 1이 있는가? (조건문)\n",
    "\n",
    "1 in [1, 2, 3]"
   ]
  },
  {
   "cell_type": "code",
   "execution_count": 10,
   "metadata": {},
   "outputs": [
    {
     "data": {
      "text/plain": [
       "False"
      ]
     },
     "execution_count": 10,
     "metadata": {},
     "output_type": "execute_result"
    }
   ],
   "source": [
    "# [1, 2, 3]이라는 리스트 안에 1이 없는가?(조건문)\n",
    "\n",
    "1 not in [1, 2, 3]"
   ]
  },
  {
   "cell_type": "code",
   "execution_count": 11,
   "metadata": {
    "scrolled": true
   },
   "outputs": [
    {
     "data": {
      "text/plain": [
       "True"
      ]
     },
     "execution_count": 11,
     "metadata": {},
     "output_type": "execute_result"
    }
   ],
   "source": [
    "'j' not in 'python'"
   ]
  },
  {
   "cell_type": "code",
   "execution_count": 12,
   "metadata": {},
   "outputs": [
    {
     "name": "stdout",
     "output_type": "stream",
     "text": [
      "택시를 타고가라\n"
     ]
    }
   ],
   "source": [
    "# 다양한 조건을 판단하는 elif\n",
    "\n",
    "pocket = ['paper', 'handphone']\n",
    "\n",
    "card = True\n",
    "\n",
    "if 'money' in pocket:\n",
    "     print(\"택시를 타고가라\")   \n",
    "        \n",
    "else:\n",
    "    \n",
    "    if card:\n",
    "        print(\"택시를 타고가라\")     \n",
    "        \n",
    "    else:\n",
    "        print(\"걸어가라\")\n"
   ]
  },
  {
   "cell_type": "code",
   "execution_count": 13,
   "metadata": {},
   "outputs": [
    {
     "name": "stdout",
     "output_type": "stream",
     "text": [
      "택시를 타고가라\n"
     ]
    }
   ],
   "source": [
    "pocket = ['paper', 'cellphone']\n",
    "\n",
    "card = True\n",
    "\n",
    "if 'money' in pocket:\n",
    "    print(\"택시를 타고가라\")\n",
    "    \n",
    "elif card: \n",
    "    print(\"택시를 타고가라\")\n",
    "    \n",
    "else:\n",
    "    print(\"걸어가라\")"
   ]
  },
  {
   "cell_type": "code",
   "execution_count": 28,
   "metadata": {},
   "outputs": [
    {
     "name": "stdout",
     "output_type": "stream",
     "text": [
      "*\n"
     ]
    }
   ],
   "source": [
    "## 일반 프로그래밍에서! *(코드 간단히!)\n",
    "## 시험용이면 이렇게 쓰면 감점!\n",
    "\n",
    "pocket = ['paper', 'money', 'cellphone']\n",
    "\n",
    "if 'cellphone' in pocket:\n",
    "    print(\"*\")"
   ]
  },
  {
   "cell_type": "code",
   "execution_count": 15,
   "metadata": {},
   "outputs": [
    {
     "name": "stdout",
     "output_type": "stream",
     "text": [
      "거짓\n"
     ]
    }
   ],
   "source": [
    "if \"\":\n",
    "    print(\"참\")\n",
    "    \n",
    "else:\n",
    "    print(\"거짓\")\n",
    "    \n",
    "    \n",
    "## 파이썬 자체에서 형 변환을 시켜 '논리형'으로 바꿔줌"
   ]
  },
  {
   "cell_type": "code",
   "execution_count": 16,
   "metadata": {},
   "outputs": [],
   "source": [
    "# 같지 않다 !=   <>(간혹 이렇게 쓰이는 프로그래밍 언어가 있다.)"
   ]
  },
  {
   "cell_type": "code",
   "execution_count": 29,
   "metadata": {},
   "outputs": [],
   "source": [
    "message = \"success\" if score >= 60 else \"failure\"\n",
    "\n",
    "\n",
    "# 조건부 표현식은 다음과 같이 정의한다.\n",
    "# 조건문이 참인 경우 if 조건문 else 조건문이 거짓인 경우"
   ]
  },
  {
   "cell_type": "markdown",
   "metadata": {},
   "source": [
    "# while문"
   ]
  },
  {
   "cell_type": "code",
   "execution_count": 39,
   "metadata": {},
   "outputs": [
    {
     "name": "stdout",
     "output_type": "stream",
     "text": [
      "나무를 1번 찍었습니다.\n",
      "\n",
      "나무를 2번 찍었습니다.\n",
      "\n",
      "나무를 3번 찍었습니다.\n",
      "\n",
      "나무를 4번 찍었습니다.\n",
      "\n",
      "나무를 5번 찍었습니다.\n",
      "\n",
      "나무를 6번 찍었습니다.\n",
      "\n",
      "나무를 7번 찍었습니다.\n",
      "\n",
      "나무를 8번 찍었습니다.\n",
      "\n",
      "나무를 9번 찍었습니다.\n",
      "\n",
      "나무를 10번 찍었습니다.\n",
      "\n",
      "나무 넘어갑니다.\n"
     ]
    }
   ],
   "source": [
    "treeHit = 0\n",
    "while treeHit < 10:\n",
    "    treeHit = treeHit +1\n",
    "    \n",
    "    print(\"나무를 %d번 찍었습니다.\\n\" % treeHit)\n",
    "     \n",
    "    if treeHit == 10:\n",
    "        print(\"나무 넘어갑니다.\")"
   ]
  },
  {
   "cell_type": "code",
   "execution_count": 38,
   "metadata": {},
   "outputs": [
    {
     "name": "stdout",
     "output_type": "stream",
     "text": [
      "돈을 받았으니 커피를 줍니다.\n",
      "남은 커피의 양은 9개입니다.\n",
      "\n",
      "돈을 받았으니 커피를 줍니다.\n",
      "남은 커피의 양은 8개입니다.\n",
      "\n",
      "돈을 받았으니 커피를 줍니다.\n",
      "남은 커피의 양은 7개입니다.\n",
      "\n",
      "돈을 받았으니 커피를 줍니다.\n",
      "남은 커피의 양은 6개입니다.\n",
      "\n",
      "돈을 받았으니 커피를 줍니다.\n",
      "남은 커피의 양은 5개입니다.\n",
      "\n",
      "돈을 받았으니 커피를 줍니다.\n",
      "남은 커피의 양은 4개입니다.\n",
      "\n",
      "돈을 받았으니 커피를 줍니다.\n",
      "남은 커피의 양은 3개입니다.\n",
      "\n",
      "돈을 받았으니 커피를 줍니다.\n",
      "남은 커피의 양은 2개입니다.\n",
      "\n",
      "돈을 받았으니 커피를 줍니다.\n",
      "남은 커피의 양은 1개입니다.\n",
      "\n",
      "돈을 받았으니 커피를 줍니다.\n",
      "남은 커피의 양은 0개입니다.\n",
      "\n",
      "커피가 다 떨어졌습니다. 판매를 중지합니다.\n"
     ]
    }
   ],
   "source": [
    "# while => *break*\n",
    "\n",
    "coffee = 10\n",
    "money = 300\n",
    "\n",
    "while money:\n",
    "    print(\"돈을 받았으니 커피를 줍니다.\")\n",
    "    \n",
    "    coffee = coffee -1\n",
    "    print(\"남은 커피의 양은 %d개입니다.\\n\" % coffee)\n",
    "    \n",
    "    if coffee == 0:\n",
    "        print(\"커피가 다 떨어졌습니다. 판매를 중지합니다.\")\n",
    "       \n",
    "        break\n",
    "\n",
    "\n",
    "## 300원은 계속 들어간다."
   ]
  },
  {
   "cell_type": "code",
   "execution_count": 1,
   "metadata": {},
   "outputs": [
    {
     "name": "stdout",
     "output_type": "stream",
     "text": [
      "300원에 커피 1잔\n",
      "남은 커피는 9잔입니다. \n",
      "\n",
      "300원에 커피 1잔\n",
      "남은 커피는 8잔입니다. \n",
      "\n",
      "300원에 커피 1잔\n",
      "남은 커피는 7잔입니다. \n",
      "\n",
      "300원에 커피 1잔\n",
      "남은 커피는 6잔입니다. \n",
      "\n",
      "300원에 커피 1잔\n",
      "남은 커피는 5잔입니다. \n",
      "\n",
      "300원에 커피 1잔\n",
      "남은 커피는 4잔입니다. \n",
      "\n",
      "300원에 커피 1잔\n",
      "남은 커피는 3잔입니다. \n",
      "\n",
      "300원에 커피 1잔\n",
      "남은 커피는 2잔입니다. \n",
      "\n",
      "300원에 커피 1잔\n",
      "남은 커피는 1잔입니다. \n",
      "\n",
      "300원에 커피 1잔\n",
      "남은 커피는 0잔입니다. \n",
      "\n",
      "커피 Sold out.\n"
     ]
    }
   ],
   "source": [
    "coffee = 10\n",
    "money = 300\n",
    "\n",
    "while money:\n",
    "    print(\"300원에 커피 1잔\")\n",
    "    \n",
    "    coffee = coffee - 1\n",
    "    print(\"남은 커피는 %d잔입니다. \\n\" % coffee)\n",
    "    \n",
    "    \n",
    "    if coffee == 0:\n",
    "        print(\"커피 Sold out.\")\n",
    "        \n",
    "        break"
   ]
  },
  {
   "cell_type": "code",
   "execution_count": null,
   "metadata": {},
   "outputs": [],
   "source": [
    "# 무한 루프\n",
    "\n",
    "while True:\n",
    "    print(\"Ctrl+C를 눌러야 while문을 빠져나갈 수 있습니다.\")"
   ]
  },
  {
   "cell_type": "code",
   "execution_count": null,
   "metadata": {},
   "outputs": [],
   "source": [
    "## 모듈, 패키지 (프로그래밍에 많이 쓰인다.)"
   ]
  },
  {
   "cell_type": "markdown",
   "metadata": {},
   "source": [
    "# for문"
   ]
  },
  {
   "cell_type": "code",
   "execution_count": 2,
   "metadata": {},
   "outputs": [
    {
     "name": "stdout",
     "output_type": "stream",
     "text": [
      "one\n",
      "two\n",
      "three\n"
     ]
    }
   ],
   "source": [
    "test_list = ['one', 'two', 'three']\n",
    "for i in test_list:\n",
    "    print(i)"
   ]
  },
  {
   "cell_type": "code",
   "execution_count": 1,
   "metadata": {},
   "outputs": [
    {
     "name": "stdout",
     "output_type": "stream",
     "text": [
      "3\n",
      "7\n",
      "11\n"
     ]
    }
   ],
   "source": [
    "a = [(1,2), (3,4), (5,6)]\n",
    "\n",
    "for (first, last) in a:\n",
    "    print(first + last)\n",
    "    \n",
    "    ## 괄호를 생략할 수 있다.\n",
    "    \n",
    "    ## a 리스트의 요솟값이 튜플이기 때문에 각각의 요소가 자동으로 (first, last) 변수에 대입된다."
   ]
  },
  {
   "cell_type": "code",
   "execution_count": 5,
   "metadata": {},
   "outputs": [
    {
     "name": "stdout",
     "output_type": "stream",
     "text": [
      "1번 학생은 합격입니다.\n",
      "2번 학생은 불합격입니다.\n",
      "3번 학생은 합격입니다.\n",
      "4번 학생은 불합격입니다.\n",
      "5번 학생은 합격입니다.\n"
     ]
    }
   ],
   "source": [
    "# for문의 응용\n",
    "\n",
    "marks = [90, 25, 67, 45, 80]\n",
    "\n",
    "number = 0\n",
    "for mark in marks:\n",
    "    number = number + 1\n",
    "    \n",
    "    if mark >= 60:\n",
    "        print(\"%d번 학생은 합격입니다.\" % number)\n",
    "        \n",
    "    else:\n",
    "        print(\"%d번 학생은 불합격입니다.\" % number)\n",
    "        \n",
    "        \n",
    "## 각 점수는 컬럼 하나가 됨.\n",
    "## 5가 되면 mark에 값이 없어서 False가 되어 for문을 빠져나오게 됨."
   ]
  },
  {
   "cell_type": "code",
   "execution_count": 6,
   "metadata": {},
   "outputs": [
    {
     "name": "stdout",
     "output_type": "stream",
     "text": [
      "1번 학생 축하합니다. 합격입니다.\n",
      "3번 학생 축하합니다. 합격입니다.\n",
      "5번 학생 축하합니다. 합격입니다.\n"
     ]
    }
   ],
   "source": [
    "# for문과 continue\n",
    "\n",
    "marks = [90, 25, 67, 45, 80]\n",
    "\n",
    "number = 0\n",
    "\n",
    "for mark in marks:\n",
    "    number = number + 1\n",
    "    \n",
    "    if mark < 60:\n",
    "        continue  # 60보다 작으면 for문 처음으로!\n",
    "    \n",
    "    print(\"%d번 학생 축하합니다. 합격입니다.\" % number)"
   ]
  },
  {
   "cell_type": "code",
   "execution_count": 7,
   "metadata": {},
   "outputs": [
    {
     "data": {
      "text/plain": [
       "range(0, 10)"
      ]
     },
     "execution_count": 7,
     "metadata": {},
     "output_type": "execute_result"
    }
   ],
   "source": [
    "# for문과 함께 자주 사용하는 range 함수\n",
    "\n",
    "a = range(10)\n",
    "a\n",
    "\n",
    "# 0부터 10미만!"
   ]
  },
  {
   "cell_type": "code",
   "execution_count": 9,
   "metadata": {},
   "outputs": [
    {
     "name": "stdout",
     "output_type": "stream",
     "text": [
      "5050\n"
     ]
    }
   ],
   "source": [
    "## 지역변수는 반드시 초기화 '0' 해야 한다.\n",
    "## 들어가는 변수가 초기화하고 들어가야 함.\n",
    "## 지역변수는 절대 초기화 안 해줘서 직접 해줘야 함.\n",
    "\n",
    "sum = 0\n",
    "\n",
    "for i in range(1, 101):\n",
    "    sum = sum + i\n",
    "    \n",
    "print(sum)"
   ]
  },
  {
   "cell_type": "code",
   "execution_count": 10,
   "metadata": {
    "scrolled": false
   },
   "outputs": [
    {
     "name": "stdout",
     "output_type": "stream",
     "text": [
      "1번 학생 축하합니다. 합격입니다.\n",
      "3번 학생 축하합니다. 합격입니다.\n",
      "5번 학생 축하합니다. 합격입니다.\n"
     ]
    }
   ],
   "source": [
    "marks = [90, 25, 67, 45, 80]\n",
    "\n",
    "for number in range(len(marks)):\n",
    "    if marks[number] < 60:\n",
    "        continue\n",
    "        \n",
    "    print(\"%d번 학생 축하합니다. 합격입니다.\" % (number + 1))"
   ]
  },
  {
   "cell_type": "code",
   "execution_count": 25,
   "metadata": {},
   "outputs": [
    {
     "name": "stdout",
     "output_type": "stream",
     "text": [
      "2 X 1 = 2 \n",
      "\n",
      "2 X 2 = 4 \n",
      "\n",
      "2 X 3 = 6 \n",
      "\n",
      "2 X 4 = 8 \n",
      "\n",
      "2 X 5 = 10 \n",
      "\n",
      "2 X 6 = 12 \n",
      "\n",
      "2 X 7 = 14 \n",
      "\n",
      "2 X 8 = 16 \n",
      "\n",
      "2 X 9 = 18 \n",
      "\n",
      "\n",
      "3 X 1 = 3 \n",
      "\n",
      "3 X 2 = 6 \n",
      "\n",
      "3 X 3 = 9 \n",
      "\n",
      "3 X 4 = 12 \n",
      "\n",
      "3 X 5 = 15 \n",
      "\n",
      "3 X 6 = 18 \n",
      "\n",
      "3 X 7 = 21 \n",
      "\n",
      "3 X 8 = 24 \n",
      "\n",
      "3 X 9 = 27 \n",
      "\n",
      "\n",
      "4 X 1 = 4 \n",
      "\n",
      "4 X 2 = 8 \n",
      "\n",
      "4 X 3 = 12 \n",
      "\n",
      "4 X 4 = 16 \n",
      "\n",
      "4 X 5 = 20 \n",
      "\n",
      "4 X 6 = 24 \n",
      "\n",
      "4 X 7 = 28 \n",
      "\n",
      "4 X 8 = 32 \n",
      "\n",
      "4 X 9 = 36 \n",
      "\n",
      "\n",
      "5 X 1 = 5 \n",
      "\n",
      "5 X 2 = 10 \n",
      "\n",
      "5 X 3 = 15 \n",
      "\n",
      "5 X 4 = 20 \n",
      "\n",
      "5 X 5 = 25 \n",
      "\n",
      "5 X 6 = 30 \n",
      "\n",
      "5 X 7 = 35 \n",
      "\n",
      "5 X 8 = 40 \n",
      "\n",
      "5 X 9 = 45 \n",
      "\n",
      "\n",
      "6 X 1 = 6 \n",
      "\n",
      "6 X 2 = 12 \n",
      "\n",
      "6 X 3 = 18 \n",
      "\n",
      "6 X 4 = 24 \n",
      "\n",
      "6 X 5 = 30 \n",
      "\n",
      "6 X 6 = 36 \n",
      "\n",
      "6 X 7 = 42 \n",
      "\n",
      "6 X 8 = 48 \n",
      "\n",
      "6 X 9 = 54 \n",
      "\n",
      "\n",
      "7 X 1 = 7 \n",
      "\n",
      "7 X 2 = 14 \n",
      "\n",
      "7 X 3 = 21 \n",
      "\n",
      "7 X 4 = 28 \n",
      "\n",
      "7 X 5 = 35 \n",
      "\n",
      "7 X 6 = 42 \n",
      "\n",
      "7 X 7 = 49 \n",
      "\n",
      "7 X 8 = 56 \n",
      "\n",
      "7 X 9 = 63 \n",
      "\n",
      "\n",
      "8 X 1 = 8 \n",
      "\n",
      "8 X 2 = 16 \n",
      "\n",
      "8 X 3 = 24 \n",
      "\n",
      "8 X 4 = 32 \n",
      "\n",
      "8 X 5 = 40 \n",
      "\n",
      "8 X 6 = 48 \n",
      "\n",
      "8 X 7 = 56 \n",
      "\n",
      "8 X 8 = 64 \n",
      "\n",
      "8 X 9 = 72 \n",
      "\n",
      "\n",
      "9 X 1 = 9 \n",
      "\n",
      "9 X 2 = 18 \n",
      "\n",
      "9 X 3 = 27 \n",
      "\n",
      "9 X 4 = 36 \n",
      "\n",
      "9 X 5 = 45 \n",
      "\n",
      "9 X 6 = 54 \n",
      "\n",
      "9 X 7 = 63 \n",
      "\n",
      "9 X 8 = 72 \n",
      "\n",
      "9 X 9 = 81 \n",
      "\n",
      "\n"
     ]
    }
   ],
   "source": [
    "for i in range(2, 10):        # ①번 for문\n",
    "    for j in range(1, 10):   # ②번 for문\n",
    "        print(i, \"X\", j, \"=\", i*j, \"\\n\") \n",
    "    print('') "
   ]
  },
  {
   "cell_type": "markdown",
   "metadata": {},
   "source": [
    "## 리스트 내포(List comprehension) (중요!)\n",
    "\n",
    "<br>\n",
    "[표현식 for 항목 in 반복가능객체 if 조건문]"
   ]
  },
  {
   "cell_type": "code",
   "execution_count": 27,
   "metadata": {},
   "outputs": [
    {
     "name": "stdout",
     "output_type": "stream",
     "text": [
      "[3, 6, 9, 12]\n"
     ]
    }
   ],
   "source": [
    "## a list의 각 항목에 3을 곱한 결과를 result에 담는 예제\n",
    "\n",
    "a = [1, 2, 3, 4]\n",
    "result = []   # 초기화\n",
    "\n",
    "for num in a:\n",
    "    result.append(num * 3)\n",
    "    \n",
    "print(result)\n",
    "    "
   ]
  },
  {
   "cell_type": "code",
   "execution_count": 28,
   "metadata": {},
   "outputs": [
    {
     "data": {
      "text/plain": [
       "[3, 6, 9, 12]"
      ]
     },
     "execution_count": 28,
     "metadata": {},
     "output_type": "execute_result"
    }
   ],
   "source": [
    "## 위의 for문을 리스트 내포로 간단하게!\n",
    "\n",
    "a = [1, 2, 3, 4]\n",
    "result = [num * 3 for num in a]\n",
    "\n",
    "result"
   ]
  },
  {
   "cell_type": "code",
   "execution_count": 29,
   "metadata": {},
   "outputs": [
    {
     "data": {
      "text/plain": [
       "[6, 12]"
      ]
     },
     "execution_count": 29,
     "metadata": {},
     "output_type": "execute_result"
    }
   ],
   "source": [
    "# 리스트 내포 + if 조건\n",
    "\n",
    "a = [1, 2, 3, 4]\n",
    "result = [num * 3 for num in a if num % 2 == 0]\n",
    "\n",
    "result"
   ]
  },
  {
   "cell_type": "code",
   "execution_count": 32,
   "metadata": {},
   "outputs": [
    {
     "data": {
      "text/plain": [
       "[2,\n",
       " 4,\n",
       " 6,\n",
       " 8,\n",
       " 10,\n",
       " 12,\n",
       " 14,\n",
       " 16,\n",
       " 18,\n",
       " 3,\n",
       " 6,\n",
       " 9,\n",
       " 12,\n",
       " 15,\n",
       " 18,\n",
       " 21,\n",
       " 24,\n",
       " 27,\n",
       " 4,\n",
       " 8,\n",
       " 12,\n",
       " 16,\n",
       " 20,\n",
       " 24,\n",
       " 28,\n",
       " 32,\n",
       " 36,\n",
       " 5,\n",
       " 10,\n",
       " 15,\n",
       " 20,\n",
       " 25,\n",
       " 30,\n",
       " 35,\n",
       " 40,\n",
       " 45,\n",
       " 6,\n",
       " 12,\n",
       " 18,\n",
       " 24,\n",
       " 30,\n",
       " 36,\n",
       " 42,\n",
       " 48,\n",
       " 54,\n",
       " 7,\n",
       " 14,\n",
       " 21,\n",
       " 28,\n",
       " 35,\n",
       " 42,\n",
       " 49,\n",
       " 56,\n",
       " 63,\n",
       " 8,\n",
       " 16,\n",
       " 24,\n",
       " 32,\n",
       " 40,\n",
       " 48,\n",
       " 56,\n",
       " 64,\n",
       " 72,\n",
       " 9,\n",
       " 18,\n",
       " 27,\n",
       " 36,\n",
       " 45,\n",
       " 54,\n",
       " 63,\n",
       " 72,\n",
       " 81]"
      ]
     },
     "execution_count": 32,
     "metadata": {},
     "output_type": "execute_result"
    }
   ],
   "source": [
    "# 구구단의 모든 결과를 리스트에 담고 싶다면? 리스트 내포를 사용!\n",
    "\n",
    "result = [x * y for x in range(2, 10)\n",
    "          for y in range(1, 10)]\n",
    "\n",
    "result"
   ]
  }
 ],
 "metadata": {
  "kernelspec": {
   "display_name": "Python 3",
   "language": "python",
   "name": "python3"
  },
  "language_info": {
   "codemirror_mode": {
    "name": "ipython",
    "version": 3
   },
   "file_extension": ".py",
   "mimetype": "text/x-python",
   "name": "python",
   "nbconvert_exporter": "python",
   "pygments_lexer": "ipython3",
   "version": "3.7.4"
  }
 },
 "nbformat": 4,
 "nbformat_minor": 2
}
