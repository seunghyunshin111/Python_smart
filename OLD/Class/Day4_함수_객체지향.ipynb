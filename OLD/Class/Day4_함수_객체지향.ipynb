{
 "cells": [
  {
   "cell_type": "markdown",
   "metadata": {},
   "source": [
    "# 함수"
   ]
  },
  {
   "cell_type": "code",
   "execution_count": 1,
   "metadata": {},
   "outputs": [],
   "source": [
    "def add(a, b):\n",
    "    return a + b\n",
    "\n",
    "# \"이 함수의 이름(함수 이름)은 add이고,\n",
    "# 입력으로 2개의 값을 받으며 결괏값은 2개의 입력값을 더한 값이다.\""
   ]
  },
  {
   "cell_type": "code",
   "execution_count": 2,
   "metadata": {},
   "outputs": [
    {
     "data": {
      "text/plain": [
       "5"
      ]
     },
     "execution_count": 2,
     "metadata": {},
     "output_type": "execute_result"
    }
   ],
   "source": [
    "a = 2\n",
    "b = 3\n",
    "c = add(a, b)\n",
    "c"
   ]
  },
  {
   "cell_type": "code",
   "execution_count": 3,
   "metadata": {},
   "outputs": [],
   "source": [
    "# 함수가 에러는 안 나는데 기능이 이상하면 다른 것과 중복되지는 않았는지 확인해 보기!"
   ]
  },
  {
   "cell_type": "code",
   "execution_count": 4,
   "metadata": {
    "scrolled": true
   },
   "outputs": [
    {
     "data": {
      "text/plain": [
       "30"
      ]
     },
     "execution_count": 4,
     "metadata": {},
     "output_type": "execute_result"
    }
   ],
   "source": [
    "add(10, 20)"
   ]
  },
  {
   "cell_type": "code",
   "execution_count": 5,
   "metadata": {
    "scrolled": true
   },
   "outputs": [
    {
     "name": "stdout",
     "output_type": "stream",
     "text": [
      "8\n"
     ]
    }
   ],
   "source": [
    "def add(a, b):  # a, b는 매개변수\n",
    "    return a + b\n",
    "\n",
    "print(add(3, 5))  # 3, 5는 인수"
   ]
  },
  {
   "cell_type": "markdown",
   "metadata": {},
   "source": [
    "### 입력값 ---> 함수 ----> 결괏값"
   ]
  },
  {
   "cell_type": "code",
   "execution_count": 6,
   "metadata": {},
   "outputs": [],
   "source": [
    "def add(a, b):\n",
    "    result = a + b\n",
    "    return result"
   ]
  },
  {
   "cell_type": "code",
   "execution_count": 7,
   "metadata": {},
   "outputs": [
    {
     "data": {
      "text/plain": [
       "11"
      ]
     },
     "execution_count": 7,
     "metadata": {},
     "output_type": "execute_result"
    }
   ],
   "source": [
    "a = add(3, 8)\n",
    "a"
   ]
  },
  {
   "cell_type": "code",
   "execution_count": 8,
   "metadata": {},
   "outputs": [],
   "source": [
    "# 입력값이 없는 함수\n",
    "\n",
    "def say():\n",
    "    return 'Hi'"
   ]
  },
  {
   "cell_type": "code",
   "execution_count": 9,
   "metadata": {},
   "outputs": [
    {
     "data": {
      "text/plain": [
       "'Hi'"
      ]
     },
     "execution_count": 9,
     "metadata": {},
     "output_type": "execute_result"
    }
   ],
   "source": [
    "aa = say()\n",
    "aa\n",
    "\n",
    "# 위 함수를 쓰려면 say()처럼 괄호 안에 아무 값도 넣지 않아야 한다.\n",
    "# 결괏값을 받을 변수 = 함수 이름()"
   ]
  },
  {
   "cell_type": "code",
   "execution_count": 12,
   "metadata": {},
   "outputs": [],
   "source": [
    "# 결괏값이 없는 함수\n",
    "\n",
    "def add(a, b):\n",
    "    print(\"%d, %d의 합은 %d입니다.\" % (a, b, a + b))\n",
    "    "
   ]
  },
  {
   "cell_type": "code",
   "execution_count": 13,
   "metadata": {},
   "outputs": [
    {
     "name": "stdout",
     "output_type": "stream",
     "text": [
      "3, 8의 합은 11입니다.\n"
     ]
    }
   ],
   "source": [
    "add(3, 8)\n",
    "\n",
    "# 결괏값이 없는 함수 사용법!!\n",
    "# 함수이름(입력인수1, 입력인수2, ...)\n",
    "# 결괏값은 오직 'return' 명령어로만 돌려받을 수 있다."
   ]
  },
  {
   "cell_type": "code",
   "execution_count": 18,
   "metadata": {},
   "outputs": [
    {
     "name": "stdout",
     "output_type": "stream",
     "text": [
      "3, 8의 합은 11입니다.\n",
      "None\n"
     ]
    }
   ],
   "source": [
    "a = add(3, 8)\n",
    "a\n",
    "print(a)\n",
    "\n",
    "# add 함수처럼 결괏값이 없을 때 a = add(3, 4)처럼 쓰면\n",
    "# 함수 add는 반환 값으로 a 변수에 None을 돌려준다.\n",
    "# 이것을 가지고 결괏값이 있다고 생각하면 곤란하다."
   ]
  },
  {
   "cell_type": "code",
   "execution_count": 19,
   "metadata": {},
   "outputs": [],
   "source": [
    "# 입력값도 결괏값도 없는 함수\n",
    "\n",
    "def say():\n",
    "    print('Hi')\n",
    "    \n",
    "    \n",
    "# 입력 인수를 받는 매개변수도 없고 return문도 없으니\n",
    "# 입력값도 결괏값도 없는 함수이다.\n",
    "# 이 함수를 사용하는 방법은 단 한 가지이다."
   ]
  },
  {
   "cell_type": "code",
   "execution_count": 20,
   "metadata": {},
   "outputs": [
    {
     "name": "stdout",
     "output_type": "stream",
     "text": [
      "Hi\n"
     ]
    }
   ],
   "source": [
    "say()\n",
    "\n",
    "# 함수이름()"
   ]
  },
  {
   "cell_type": "code",
   "execution_count": 21,
   "metadata": {},
   "outputs": [],
   "source": [
    "# 매개변수 지정하여 호출하기\n",
    "\n",
    "def add(a, b):\n",
    "    return a * b"
   ]
  },
  {
   "cell_type": "code",
   "execution_count": 22,
   "metadata": {},
   "outputs": [
    {
     "name": "stdout",
     "output_type": "stream",
     "text": [
      "21\n"
     ]
    }
   ],
   "source": [
    "result = add(a = 3, b = 7) # a에 3, b에 7을 전달\n",
    "print(result)"
   ]
  },
  {
   "cell_type": "code",
   "execution_count": 24,
   "metadata": {},
   "outputs": [
    {
     "name": "stdout",
     "output_type": "stream",
     "text": [
      "15\n"
     ]
    }
   ],
   "source": [
    "result = add(b = 5, a = 3)\n",
    "print(result)\n",
    "\n",
    "# 매개변수를 지정하면 순서에 상관없이 사용할 수 있다는 장점이 있다."
   ]
  },
  {
   "cell_type": "markdown",
   "metadata": {},
   "source": [
    "##### 입력값이 몇 개가 될지 모를 때<br>\n",
    "<br>\n",
    "def 함수이름(*매개변수): <br>\n",
    "    <수행할 문장><br>\n",
    "    ...<br>"
   ]
  },
  {
   "cell_type": "code",
   "execution_count": 25,
   "metadata": {},
   "outputs": [],
   "source": [
    "# 여러 개의 입력값을 받는 함수 만들기\n",
    "\n",
    "def add_many(*args):\n",
    "    result = 0\n",
    "    \n",
    "    for i in args:\n",
    "        result += i\n",
    "        \n",
    "    return result\n",
    "\n",
    "\n",
    "# *args 매개변수 앞에 *을 붙이면, 입력값을 전부 모아 튜플로 만들어 줌!\n",
    "# *args는 임의로 정한 변수 이름"
   ]
  },
  {
   "cell_type": "code",
   "execution_count": 27,
   "metadata": {},
   "outputs": [
    {
     "name": "stdout",
     "output_type": "stream",
     "text": [
      "6\n",
      "55\n"
     ]
    }
   ],
   "source": [
    "result = add_many(1, 2, 3)\n",
    "print(result)\n",
    "\n",
    "result = add_many(1, 2, 3, 4, 5, 6, 7, 8, 9, 10)\n",
    "print(result)"
   ]
  },
  {
   "cell_type": "code",
   "execution_count": 28,
   "metadata": {},
   "outputs": [],
   "source": [
    "# 실습\n",
    "\n",
    "def add_many(*sum):\n",
    "    result = 0\n",
    "    \n",
    "    for i in sum:\n",
    "        result += i\n",
    "        \n",
    "    return(result)\n"
   ]
  },
  {
   "cell_type": "code",
   "execution_count": 30,
   "metadata": {},
   "outputs": [
    {
     "data": {
      "text/plain": [
       "6"
      ]
     },
     "execution_count": 30,
     "metadata": {},
     "output_type": "execute_result"
    }
   ],
   "source": [
    "result = add_many(1, 2, 3)\n",
    "result"
   ]
  },
  {
   "cell_type": "code",
   "execution_count": 31,
   "metadata": {},
   "outputs": [],
   "source": [
    "# 매개변수 추가\n",
    "\n",
    "def add_mul(choice, *args):\n",
    "    if choice == \"add\":\n",
    "        result = 0\n",
    "        for i in args:\n",
    "            result += i\n",
    "            \n",
    "    elif choice == \"mul\":\n",
    "        result = 1\n",
    "        for i in args:\n",
    "            result *= i\n",
    "            \n",
    "    return(result)"
   ]
  },
  {
   "cell_type": "code",
   "execution_count": 32,
   "metadata": {},
   "outputs": [
    {
     "name": "stdout",
     "output_type": "stream",
     "text": [
      "15\n",
      "120\n"
     ]
    }
   ],
   "source": [
    "result = add_mul('add', 1, 2, 3, 4, 5)\n",
    "print(result)\n",
    "\n",
    "result = add_mul('mul', 1, 2, 3, 4, 5)\n",
    "print(result)"
   ]
  },
  {
   "cell_type": "code",
   "execution_count": 33,
   "metadata": {},
   "outputs": [],
   "source": [
    "# 실습\n",
    "\n",
    "def add_mul(choice, *args):\n",
    "    if choice == \"add\":\n",
    "        result = 0\n",
    "        for i in args:\n",
    "            result += i\n",
    "            \n",
    "    elif choice == \"mul\":\n",
    "        result = 1\n",
    "        for i in args:\n",
    "            result *= i\n",
    "            \n",
    "    return(result)"
   ]
  },
  {
   "cell_type": "code",
   "execution_count": 34,
   "metadata": {},
   "outputs": [
    {
     "name": "stdout",
     "output_type": "stream",
     "text": [
      "6\n",
      "6\n"
     ]
    }
   ],
   "source": [
    "result = add_mul(\"add\", 1, 2, 3)\n",
    "print(result)\n",
    "\n",
    "result = add_mul(\"mul\", 1, 2, 3)\n",
    "print(result)"
   ]
  },
  {
   "cell_type": "code",
   "execution_count": 35,
   "metadata": {},
   "outputs": [],
   "source": [
    "# 튜플은 수정 불가.\n",
    "# 수정하고 싶으면, 원래 값의 복사본을 만들어 수정.(지역변수에)"
   ]
  },
  {
   "cell_type": "code",
   "execution_count": 36,
   "metadata": {},
   "outputs": [],
   "source": [
    "# 키워드 파라미터 \n",
    "# 키워드 파라미터에는 '**매개변수'\n",
    "\n",
    "def print_kwargs(**kwargs):\n",
    "    print(kwargs)"
   ]
  },
  {
   "cell_type": "code",
   "execution_count": 37,
   "metadata": {},
   "outputs": [
    {
     "name": "stdout",
     "output_type": "stream",
     "text": [
      "{'a': 1}\n"
     ]
    },
    {
     "data": {
      "text/plain": [
       "{'a': 1}"
      ]
     },
     "execution_count": 37,
     "metadata": {},
     "output_type": "execute_result"
    }
   ],
   "source": [
    "print_kwargs(a = 1)\n",
    "{'a':1}"
   ]
  },
  {
   "cell_type": "code",
   "execution_count": 38,
   "metadata": {},
   "outputs": [
    {
     "name": "stdout",
     "output_type": "stream",
     "text": [
      "{'name': 'foo', 'age': 3}\n"
     ]
    },
    {
     "data": {
      "text/plain": [
       "{'age': 3, 'name': 'foo'}"
      ]
     },
     "execution_count": 38,
     "metadata": {},
     "output_type": "execute_result"
    }
   ],
   "source": [
    "print_kwargs(name = 'foo', age = 3)\n",
    "{'age':3, 'name':'foo'}"
   ]
  },
  {
   "cell_type": "markdown",
   "metadata": {},
   "source": [
    "입력값 a=1 또는 name='foo', age=3이 모두 딕셔너리로 만들어져서 출력된다는 것을 확인할 수 있다.\n",
    "\n",
    "즉 '**kwargs'처럼 매개변수 이름 앞에 별 두개를 붙이면\n",
    "매개변수 kwargs는 딕셔너리가 되고\n",
    "모든 key=value 형태의 결괏값이 그 딕셔너리에 저장된다."
   ]
  },
  {
   "cell_type": "code",
   "execution_count": 39,
   "metadata": {},
   "outputs": [],
   "source": [
    "# 함수의 결괏값은 언제나 하나\n",
    "\n",
    "def add_and_mul(a, b):\n",
    "    return a + b, a * b"
   ]
  },
  {
   "cell_type": "code",
   "execution_count": 41,
   "metadata": {},
   "outputs": [
    {
     "data": {
      "text/plain": [
       "(8, 15)"
      ]
     },
     "execution_count": 41,
     "metadata": {},
     "output_type": "execute_result"
    }
   ],
   "source": [
    "result = add_and_mul(3, 5)\n",
    "result\n",
    "\n",
    "# 튜플값 하나인 (a + b, a * b)로 돌려준다."
   ]
  },
  {
   "cell_type": "code",
   "execution_count": 46,
   "metadata": {},
   "outputs": [
    {
     "name": "stdout",
     "output_type": "stream",
     "text": [
      "8\n",
      "15\n"
     ]
    },
    {
     "data": {
      "text/plain": [
       "15"
      ]
     },
     "execution_count": 46,
     "metadata": {},
     "output_type": "execute_result"
    }
   ],
   "source": [
    "# 하나의 튜플값을 2개의 결괏값처럼 받고 싶다면?\n",
    "\n",
    "result1, result2 = add_and_mul(3, 5)\n",
    "result1, result2\n",
    "print(result1)\n",
    "print(result2)\n",
    "result2"
   ]
  },
  {
   "cell_type": "code",
   "execution_count": 47,
   "metadata": {},
   "outputs": [],
   "source": [
    "# 함수는 return문을 만나는 순간, 결괏값을 돌려준 다음 함수를 빠져나간다.\n",
    "\n",
    "# 따라서 return문을 2번 쓴다 해도 첫 번째 return 결괏값만 실행된다."
   ]
  },
  {
   "cell_type": "code",
   "execution_count": 49,
   "metadata": {},
   "outputs": [],
   "source": [
    "# return\n",
    "# return으로 함수를 빠져나가기!\n",
    "\n",
    "\n",
    "def say_nick(nick):\n",
    "    if nick == \"바보\":\n",
    "        \n",
    "        return\n",
    "    print(\"나의 별명은 %s 입니다.\" % nick)\n",
    "\n",
    "    # 이 함수 역시 반환 값(결괏값)이 없다.\n",
    "    # 반환값은 오직 return문을 통해서만 나타나기 때문에\n",
    "    # '바보'라는 값이 나타나지 않는 이상 아예 결과가 출력되지 않는다.\n",
    "    "
   ]
  },
  {
   "cell_type": "code",
   "execution_count": 50,
   "metadata": {},
   "outputs": [
    {
     "name": "stdout",
     "output_type": "stream",
     "text": [
      "나의 별명은 야호 입니다.\n"
     ]
    }
   ],
   "source": [
    "say_nick('야호')\n",
    "say_nick('바보')"
   ]
  },
  {
   "cell_type": "markdown",
   "metadata": {},
   "source": [
    "### 매개변수에 초깃값 미리 설정하기\n",
    "### man=True : 디폴트 값 있는 경우는 뒤로 밀어버리기!\n",
    "### (\"박응용\", 27) 에서 27이 두번째 인수로 인식해버리기도 하기 때문!\n"
   ]
  },
  {
   "cell_type": "code",
   "execution_count": 51,
   "metadata": {},
   "outputs": [],
   "source": [
    "def say_myself(name, old, man = True):\n",
    "    print(\"나의 이름은 %s 입니다.\" % name)\n",
    "    print(\"나이는 %d살입니다.\" % old)\n",
    "    \n",
    "    if man:\n",
    "        print(\"남자입니다.\")\n",
    "        \n",
    "    else:\n",
    "        print(\"여자입니다.\")\n",
    "        \n",
    "        \n",
    "# ※ say_myself 함수는 3개의 매개변수를 받아서\n",
    "# 마지막 인수인 man이 True이면 \"남자입니다.\",\n",
    "# False이면 \"여자입니다.\"를 출력한다."
   ]
  },
  {
   "cell_type": "code",
   "execution_count": 52,
   "metadata": {},
   "outputs": [
    {
     "name": "stdout",
     "output_type": "stream",
     "text": [
      "나의 이름은 박응용 입니다.\n",
      "나이는 27살입니다.\n",
      "남자입니다.\n"
     ]
    }
   ],
   "source": [
    "say_myself(\"박응용\", 27)\n",
    "\n",
    "\n",
    "# 입력값으로 \"박응용\", 27처럼 2개를 주면 name, old에 각각 값이 대입된다.\n",
    "# man 변수에는 입력값을 주지 않아도 초깃값 True를 갖는다."
   ]
  },
  {
   "cell_type": "code",
   "execution_count": 53,
   "metadata": {},
   "outputs": [
    {
     "name": "stdout",
     "output_type": "stream",
     "text": [
      "나의 이름은 박응용 입니다.\n",
      "나이는 27살입니다.\n",
      "남자입니다.\n"
     ]
    }
   ],
   "source": [
    "say_myself(\"박응용\", 27, True)"
   ]
  },
  {
   "cell_type": "code",
   "execution_count": 54,
   "metadata": {},
   "outputs": [
    {
     "name": "stdout",
     "output_type": "stream",
     "text": [
      "나의 이름은 박응선 입니다.\n",
      "나이는 27살입니다.\n",
      "여자입니다.\n"
     ]
    }
   ],
   "source": [
    "# 초깃값 변경\n",
    "\n",
    "say_myself(\"박응선\", 27, False)"
   ]
  },
  {
   "cell_type": "code",
   "execution_count": 56,
   "metadata": {
    "scrolled": true
   },
   "outputs": [
    {
     "ename": "SyntaxError",
     "evalue": "non-default argument follows default argument (<ipython-input-56-19c1157b9347>, line 1)",
     "output_type": "error",
     "traceback": [
      "\u001b[1;36m  File \u001b[1;32m\"<ipython-input-56-19c1157b9347>\"\u001b[1;36m, line \u001b[1;32m1\u001b[0m\n\u001b[1;33m    def say_myself(name, man = True, old):\u001b[0m\n\u001b[1;37m                  ^\u001b[0m\n\u001b[1;31mSyntaxError\u001b[0m\u001b[1;31m:\u001b[0m non-default argument follows default argument\n"
     ]
    }
   ],
   "source": [
    "def say_myself(name, man = True, old):\n",
    "    print(\"나의 이름은 %s 입니다.\" % name) \n",
    "    print(\"나이는 %d살입니다.\" % old) \n",
    "    \n",
    "    if man: \n",
    "        print(\"남자입니다.\") \n",
    "    else: \n",
    "        print(\"여자입니다.\")\n",
    "\n",
    "        \n",
    "        \n",
    "# 위 오류 메시지는 초깃값을 설정해 놓은 매개변수 뒤에\n",
    "# 초깃값을 설정해 놓지 않은 매개변수는 사용할 수 없다는 뜻이다.\n",
    "# 즉 매개변수로 (name, old, man=True)는 되지만 (name, man=True, old)는 안 된다는 것이다.\n",
    "# 초기화시키고 싶은 매개변수를 항상 뒤쪽에 놓는 것을 잊지 말자."
   ]
  },
  {
   "cell_type": "code",
   "execution_count": 57,
   "metadata": {},
   "outputs": [
    {
     "name": "stdout",
     "output_type": "stream",
     "text": [
      "1\n"
     ]
    }
   ],
   "source": [
    "# 함수 안에서 선언한 변수의 효력 범위\n",
    "\n",
    "a = 1\n",
    "\n",
    "def vartest(a):\n",
    "    a += 1\n",
    "    \n",
    "vartest(a)\n",
    "print(a)\n",
    "\n",
    "\n",
    "# vartest(): 결괏값을 돌려주지 않는다.\n",
    "# def vartest(a)에서 입력값을 전달받는 매개변수 a는 함수 안에서만 사용하는 지역변수! (함수 밖에서 사용 X)\n",
    "# 함수 안에서 사용하는 지역변수는 밖의 변수 이름과는 무관하다."
   ]
  },
  {
   "cell_type": "code",
   "execution_count": 62,
   "metadata": {},
   "outputs": [
    {
     "ename": "NameError",
     "evalue": "name 'aaa' is not defined",
     "output_type": "error",
     "traceback": [
      "\u001b[1;31m---------------------------------------------------------------------------\u001b[0m",
      "\u001b[1;31mNameError\u001b[0m                                 Traceback (most recent call last)",
      "\u001b[1;32m<ipython-input-62-beeb9ce6c87c>\u001b[0m in \u001b[0;36m<module>\u001b[1;34m\u001b[0m\n\u001b[0;32m      5\u001b[0m \u001b[1;33m\u001b[0m\u001b[0m\n\u001b[0;32m      6\u001b[0m \u001b[0mvartest\u001b[0m\u001b[1;33m(\u001b[0m\u001b[1;36m3\u001b[0m\u001b[1;33m)\u001b[0m  \u001b[1;31m# 4가 나와야 하지만 그렇지 않음.\u001b[0m\u001b[1;33m\u001b[0m\u001b[1;33m\u001b[0m\u001b[0m\n\u001b[1;32m----> 7\u001b[1;33m \u001b[0mprint\u001b[0m\u001b[1;33m(\u001b[0m\u001b[0maaa\u001b[0m\u001b[1;33m)\u001b[0m\u001b[1;33m\u001b[0m\u001b[1;33m\u001b[0m\u001b[0m\n\u001b[0m",
      "\u001b[1;31mNameError\u001b[0m: name 'aaa' is not defined"
     ]
    }
   ],
   "source": [
    "# 예제\n",
    "\n",
    "def vartest(aaa):\n",
    "    aaa += 1\n",
    "    \n",
    "vartest(3)  # 4가 나와야 하지만 그렇지 않음.\n",
    "\n",
    "print(aaa)  # aaa라는 변수를 찾을 수 없음."
   ]
  },
  {
   "cell_type": "code",
   "execution_count": 63,
   "metadata": {},
   "outputs": [
    {
     "name": "stdout",
     "output_type": "stream",
     "text": [
      "2\n"
     ]
    }
   ],
   "source": [
    "# 함수 안에서 함수 밖의 변수를 변경하는 방법\n",
    "# 1. return 사용!\n",
    "\n",
    "a = 1\n",
    "\n",
    "def vartest(a):\n",
    "    a += 1\n",
    "    \n",
    "    return a\n",
    "\n",
    "a = vartest(a)\n",
    "print(a)"
   ]
  },
  {
   "cell_type": "code",
   "execution_count": 64,
   "metadata": {},
   "outputs": [
    {
     "name": "stdout",
     "output_type": "stream",
     "text": [
      "2\n"
     ]
    }
   ],
   "source": [
    "# 2. global 명령어 사용하기\n",
    "\n",
    "a = 1\n",
    "\n",
    "def vartest():\n",
    "    global a\n",
    "    \n",
    "    a += 1\n",
    "    \n",
    "vartest()\n",
    "print(a)\n",
    "\n",
    "\n",
    "# vartest 함수 안의 global a 문장은 함수 안에서 함수 밖의 a 변수를 직접 사용하겠다는 뜻!\n",
    "# 프로그래밍할 때는 사용하지 않는 것이 좋음.\n",
    "# 함수는 독립적으로 존재하는 것이 좋다.\n",
    "# 가급적 global() 사용은 피하도록 하자."
   ]
  },
  {
   "cell_type": "code",
   "execution_count": null,
   "metadata": {},
   "outputs": [],
   "source": [
    "# lambda\n",
    "\n",
    "# lambda는 함수를 생성할 때 사용하는 예약어\n",
    "# def와 동일한 역할\n",
    "# 보통 함수를 한줄로 간결하게 만들 때 사용\n",
    "# 우리말로는 \"람다\"라고 읽음\n",
    "# def를 사용해야 할 정도로 복잡하지 않거나 def를 사용할 수 없는 곳에 주로 쓰인다."
   ]
  },
  {
   "cell_type": "code",
   "execution_count": 65,
   "metadata": {},
   "outputs": [
    {
     "name": "stdout",
     "output_type": "stream",
     "text": [
      "7\n"
     ]
    }
   ],
   "source": [
    "add = lambda a, b: a+b\n",
    "\n",
    "result = add(3, 4)\n",
    "\n",
    "print(result)"
   ]
  }
 ],
 "metadata": {
  "kernelspec": {
   "display_name": "Python 3",
   "language": "python",
   "name": "python3"
  },
  "language_info": {
   "codemirror_mode": {
    "name": "ipython",
    "version": 3
   },
   "file_extension": ".py",
   "mimetype": "text/x-python",
   "name": "python",
   "nbconvert_exporter": "python",
   "pygments_lexer": "ipython3",
   "version": "3.7.4"
  }
 },
 "nbformat": 4,
 "nbformat_minor": 2
}
