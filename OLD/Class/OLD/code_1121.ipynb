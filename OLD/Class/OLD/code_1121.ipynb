{
 "cells": [
  {
   "cell_type": "code",
   "execution_count": 2,
   "metadata": {},
   "outputs": [],
   "source": [
    "def test1(a):\n",
    "    p = a * 10\n",
    "    return p"
   ]
  },
  {
   "cell_type": "code",
   "execution_count": null,
   "metadata": {},
   "outputs": [],
   "source": [
    "# w e l c o m e 을 완성하는 게임\n",
    "\n",
    "data = internationalization\n",
    "\n",
    "while True:\n",
    "    data = (input('맞는 알파벳을 입력하세요! >>> '))\n",
    "    if data < hidden:\n",
    "        print(\"크다\")\n",
    "    elif data > hidden:\n",
    "        print(\"작다\")\n",
    "    else:\n",
    "        print(\"일치\")\n",
    "        break"
   ]
  },
  {
   "cell_type": "code",
   "execution_count": 4,
   "metadata": {},
   "outputs": [],
   "source": [
    "import random as rnd\n",
    "\n",
    "words = 'internationalization'\n",
    "hidden_size = int(len(words)*0.3)  # 30% 만큼 숨기자~!!\n",
    "# hidden_size만큼 랜덤수 생성(0~len(words))\n"
   ]
  },
  {
   "cell_type": "code",
   "execution_count": 5,
   "metadata": {},
   "outputs": [
    {
     "name": "stdout",
     "output_type": "stream",
     "text": [
      "[1, 5, 2, 5, 3, 3, 3, 2, 4, 3, 0, 2, 1, 3, 2, 0, 0, 3, 5, 5]\n"
     ]
    }
   ],
   "source": [
    "hidden_index = []\n",
    "for i in range(len(words)):\n",
    "    hidden_index.append(rnd.randrange(hidden_size))\n",
    "    \n",
    "print(hidden_index)\n",
    "    "
   ]
  },
  {
   "cell_type": "code",
   "execution_count": 12,
   "metadata": {},
   "outputs": [
    {
     "ename": "IndentationError",
     "evalue": "expected an indented block (<ipython-input-12-75419086ab42>, line 3)",
     "output_type": "error",
     "traceback": [
      "\u001b[1;36m  File \u001b[1;32m\"<ipython-input-12-75419086ab42>\"\u001b[1;36m, line \u001b[1;32m3\u001b[0m\n\u001b[1;33m    print(words[idx], end = ' ')\u001b[0m\n\u001b[1;37m        ^\u001b[0m\n\u001b[1;31mIndentationError\u001b[0m\u001b[1;31m:\u001b[0m expected an indented block\n"
     ]
    }
   ],
   "source": [
    "for idx in range(len(words)):\n",
    "    if idx not in hidden_index:\n",
    "    print(words[idx], end = ' ')\n",
    "    else:\n",
    "    print(\"_\", end = ' ')"
   ]
  },
  {
   "cell_type": "code",
   "execution_count": null,
   "metadata": {},
   "outputs": [],
   "source": [
    "while True:\n",
    "    try_letter = input('please input letter >>> ')\n",
    "    \n",
    "    \n",
    "    \n",
    "    if len(hidden_index)==0:\n",
    "        break"
   ]
  },
  {
   "cell_type": "code",
   "execution_count": 15,
   "metadata": {},
   "outputs": [
    {
     "data": {
      "text/plain": [
       "0.0012244897959183673"
      ]
     },
     "execution_count": 15,
     "metadata": {},
     "output_type": "execute_result"
    }
   ],
   "source": [
    "6/4900"
   ]
  },
  {
   "cell_type": "code",
   "execution_count": 18,
   "metadata": {},
   "outputs": [],
   "source": [
    "t1 = ()\n",
    "t2 = (1, )\n",
    "t2 = (1, 2, 3)\n",
    "t4 = 1, 2, 3\n",
    "t5 = ('a', 'b', ('ab', 'cd'))"
   ]
  },
  {
   "cell_type": "code",
   "execution_count": null,
   "metadata": {},
   "outputs": [],
   "source": []
  },
  {
   "cell_type": "code",
   "execution_count": null,
   "metadata": {},
   "outputs": [],
   "source": []
  },
  {
   "cell_type": "code",
   "execution_count": null,
   "metadata": {},
   "outputs": [],
   "source": []
  },
  {
   "cell_type": "code",
   "execution_count": null,
   "metadata": {},
   "outputs": [],
   "source": []
  },
  {
   "cell_type": "code",
   "execution_count": null,
   "metadata": {},
   "outputs": [],
   "source": []
  },
  {
   "cell_type": "code",
   "execution_count": null,
   "metadata": {},
   "outputs": [],
   "source": []
  }
 ],
 "metadata": {
  "kernelspec": {
   "display_name": "Python 3",
   "language": "python",
   "name": "python3"
  },
  "language_info": {
   "codemirror_mode": {
    "name": "ipython",
    "version": 3
   },
   "file_extension": ".py",
   "mimetype": "text/x-python",
   "name": "python",
   "nbconvert_exporter": "python",
   "pygments_lexer": "ipython3",
   "version": "3.7.4"
  }
 },
 "nbformat": 4,
 "nbformat_minor": 2
}
