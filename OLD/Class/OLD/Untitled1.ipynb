{
 "cells": [
  {
   "cell_type": "code",
   "execution_count": 4,
   "metadata": {},
   "outputs": [
    {
     "ename": "IndentationError",
     "evalue": "unexpected indent (<ipython-input-4-35153010133b>, line 15)",
     "output_type": "error",
     "traceback": [
      "\u001b[1;36m  File \u001b[1;32m\"<ipython-input-4-35153010133b>\"\u001b[1;36m, line \u001b[1;32m15\u001b[0m\n\u001b[1;33m    if count == 2:\u001b[0m\n\u001b[1;37m    ^\u001b[0m\n\u001b[1;31mIndentationError\u001b[0m\u001b[1;31m:\u001b[0m unexpected indent\n"
     ]
    }
   ],
   "source": [
    "# 1000 ~ 1250 사이의 소수를 찾아 출력\n",
    "\n",
    "# N이라는 숫자의 소수 여부 판별\n",
    "# 1 ~ N 까지의 수로 나누어서 떨어지는 경우가 2개인 것을 찾는 것\n",
    "# 1, 자기자신으로만 나누어 떨어지는 수 -> 소수\n",
    "\n",
    "for number in range(1000,1251):\n",
    "    n = 5\n",
    "    count = 0\n",
    "    for i in range(1,n+1):\n",
    "        if n % i == 0:\n",
    "            count = count + 1\n",
    "            pass\n",
    "        pass\n",
    "         if count == 2:\n",
    "    print (f'{number} is prime number')\n",
    "\n"
   ]
  },
  {
   "cell_type": "code",
   "execution_count": 1,
   "metadata": {},
   "outputs": [
    {
     "ename": "IndentationError",
     "evalue": "expected an indented block (<ipython-input-1-8484f497d876>, line 8)",
     "output_type": "error",
     "traceback": [
      "\u001b[1;36m  File \u001b[1;32m\"<ipython-input-1-8484f497d876>\"\u001b[1;36m, line \u001b[1;32m8\u001b[0m\n\u001b[1;33m    if n % i == 0:\u001b[0m\n\u001b[1;37m     ^\u001b[0m\n\u001b[1;31mIndentationError\u001b[0m\u001b[1;31m:\u001b[0m expected an indented block\n"
     ]
    }
   ],
   "source": [
    "# 소수의 개수\n",
    "\n",
    "total = 0\n",
    "for number in range(1000,1251):\n",
    "    n = 5\n",
    "    count = 0\n",
    "    for i in range(1,n+1):\n",
    "    if n % i == 0:\n",
    "        count = count + 1\n",
    "        pass\n",
    "    pass\n",
    "    if count == 2:\n",
    "        print (f'{number} is prime number')\n",
    "        total = total + 1\n",
    "        pass\n",
    "    pass\n",
    "\n",
    "print(total)\n"
   ]
  }
 ],
 "metadata": {
  "kernelspec": {
   "display_name": "Python 3",
   "language": "python",
   "name": "python3"
  },
  "language_info": {
   "codemirror_mode": {
    "name": "ipython",
    "version": 3
   },
   "file_extension": ".py",
   "mimetype": "text/x-python",
   "name": "python",
   "nbconvert_exporter": "python",
   "pygments_lexer": "ipython3",
   "version": "3.7.4"
  }
 },
 "nbformat": 4,
 "nbformat_minor": 2
}
