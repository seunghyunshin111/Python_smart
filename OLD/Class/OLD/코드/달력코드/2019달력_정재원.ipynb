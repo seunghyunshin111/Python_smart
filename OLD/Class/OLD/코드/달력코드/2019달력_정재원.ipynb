{
 "cells": [
  {
   "cell_type": "code",
   "execution_count": 7,
   "metadata": {},
   "outputs": [
    {
     "name": "stdout",
     "output_type": "stream",
     "text": [
      "\t\t2019 년 2 월 달력\n",
      "\n",
      "일\t월\t화\t수\t목\t금\t토\n",
      "\n",
      "\t\t\t\t\t1\t2\t\n",
      "\n",
      "3\t4\t5\t6\t7\t8\t9\t\n",
      "\n",
      "10\t11\t12\t13\t14\t15\t16\t\n",
      "\n",
      "17\t18\t19\t20\t21\t22\t23\t\n",
      "\n",
      "24\t25\t26\t27\t28\t"
     ]
    }
   ],
   "source": [
    "# 2019 달력만들기\n",
    "month = 2 #목적하는 월을 입력\n",
    "weekdays=[2,5,5,1,3,6,1,4,0,2,5,0] #각 월 별 시작요일\n",
    "monthdays=[31,28,31,30,31,30,31,31,30,31,30,31] #각 월의 일 수\n",
    "print(\"\\t\\t2019 년\",month,\"월 달력\\n\\n일\\t월\\t화\\t수\\t목\\t금\\t토\\n\") #달력의 헤더\n",
    "for i in range(weekdays[month-1]): #미리 선언한 배열에서 시작 요일의 위치를 가져와 공백 삽입\n",
    "    print(\"\\t\",end=\"\")\n",
    "for i in range(0,monthdays[month-1]): #미리 선언한 배열에서 날짜 수를 가져와서 반복\n",
    "    print(i+1,end=\"\\t\")\n",
    "    if (i+weekdays[month-1]+1)%7 == 0: #시작 요일위치+반복시행수의 합이 7이 될때마다 개행\n",
    "        print(\"\\n\")     "
   ]
  }
 ],
 "metadata": {
  "kernelspec": {
   "display_name": "Python 3",
   "language": "python",
   "name": "python3"
  },
  "language_info": {
   "codemirror_mode": {
    "name": "ipython",
    "version": 3
   },
   "file_extension": ".py",
   "mimetype": "text/x-python",
   "name": "python",
   "nbconvert_exporter": "python",
   "pygments_lexer": "ipython3",
   "version": "3.7.4"
  }
 },
 "nbformat": 4,
 "nbformat_minor": 2
}
