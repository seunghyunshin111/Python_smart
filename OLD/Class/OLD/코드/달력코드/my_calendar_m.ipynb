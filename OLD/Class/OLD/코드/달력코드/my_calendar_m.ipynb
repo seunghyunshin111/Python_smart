{
 "cells": [
  {
   "cell_type": "code",
   "execution_count": 1,
   "metadata": {},
   "outputs": [
    {
     "name": "stdout",
     "output_type": "stream",
     "text": [
      "\t\t\t2019년 9월\n",
      "\n",
      "\n",
      "일\t월\t화\t수\t목\t금\t토\n",
      "1\t2\t3\t4\t5\t6\t7\n",
      "\n",
      "\n",
      "8\t9\t10\t11\t12\t13\t14\n",
      "\n",
      "\n",
      "15\t16\t17\t18\t19\t20\t21\n",
      "\n",
      "\n",
      "22\t23\t24\t25\t26\t27\t28\n",
      "\n",
      "\n",
      "29\t30\t"
     ]
    }
   ],
   "source": [
    "#달력만들기(2019년 달력만들기) my.ver\n",
    "thirty = [4,6,9]\n",
    "thirtyone = [1,3,5,7,8,10,12]\n",
    "\n",
    "month=9\n",
    "space=0\n",
    "\n",
    "\n",
    "print(\"\\t\\t\\t2019년 {}월\\n\".format(month))\n",
    "print()\n",
    "print(\"일\\t월\\t화\\t수\\t목\\t금\\t토\")\n",
    "for i in range(space):\n",
    "    print(\"\\t\",end=\"\")\n",
    "    pass\n",
    "if month in thirty:\n",
    "    for c in range (1,31):\n",
    "        if (c+space)%7 != 0:\n",
    "            print(c,end=\"\\t\")\n",
    "        else:\n",
    "            print(c)\n",
    "            print(\"\\n\")\n",
    "            pass\n",
    "        pass\n",
    "elif month in thirtyone:\n",
    "    for c in range (1,32):\n",
    "        if (c+space)%7 != 0:\n",
    "            print(c,end=\"\\t\")\n",
    "        else:\n",
    "            print(c)\n",
    "            print(\"\\n\")\n",
    "            pass\n",
    "        pass\n",
    "else:\n",
    "    for c in range (1,29):\n",
    "        if (c+space)%7 != 0:\n",
    "            print(c,end=\"\\t\")\n",
    "        else:\n",
    "            print(c)\n",
    "            print(\"\\n\")\n",
    "            pass\n",
    "        pass\n",
    "    "
   ]
  }
 ],
 "metadata": {
  "kernelspec": {
   "display_name": "Python 3",
   "language": "python",
   "name": "python3"
  },
  "language_info": {
   "codemirror_mode": {
    "name": "ipython",
    "version": 3
   },
   "file_extension": ".py",
   "mimetype": "text/x-python",
   "name": "python",
   "nbconvert_exporter": "python",
   "pygments_lexer": "ipython3",
   "version": "3.7.4"
  }
 },
 "nbformat": 4,
 "nbformat_minor": 2
}
