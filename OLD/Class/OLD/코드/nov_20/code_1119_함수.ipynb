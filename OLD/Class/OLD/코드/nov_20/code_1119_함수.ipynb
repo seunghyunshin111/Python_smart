{
 "cells": [
  {
   "cell_type": "code",
   "execution_count": 10,
   "metadata": {},
   "outputs": [],
   "source": [
    "def make_gugudan(n,m):\n",
    "    # 2단~9단을 작성하시오\n",
    "    # n>=m 경우를 방지하는 코드 작성\n",
    "    # 같을 경우는 뒤의 것을 +1\n",
    "    # 앞의 것이 클경우 뒤의 것과 교환\n",
    "    if n == m:\n",
    "        m = m + 1\n",
    "    elif n > m:\n",
    "        temp = n\n",
    "        n = m\n",
    "        m = temp\n",
    "        \n",
    "        \n",
    "    start = n\n",
    "    end = m\n",
    "    for dan in range(start,end):      \n",
    "        for i in range(1,10):\n",
    "            print(\"{}X{}={}\".format(dan,i,i*dan))\n",
    "            pass\n",
    "        print()\n",
    "        pass\n",
    "    pass"
   ]
  },
  {
   "cell_type": "code",
   "execution_count": 12,
   "metadata": {},
   "outputs": [
    {
     "name": "stdout",
     "output_type": "stream",
     "text": [
      "4X1=4\n",
      "4X2=8\n",
      "4X3=12\n",
      "4X4=16\n",
      "4X5=20\n",
      "4X6=24\n",
      "4X7=28\n",
      "4X8=32\n",
      "4X9=36\n",
      "\n",
      "5X1=5\n",
      "5X2=10\n",
      "5X3=15\n",
      "5X4=20\n",
      "5X5=25\n",
      "5X6=30\n",
      "5X7=35\n",
      "5X8=40\n",
      "5X9=45\n",
      "\n",
      "6X1=6\n",
      "6X2=12\n",
      "6X3=18\n",
      "6X4=24\n",
      "6X5=30\n",
      "6X6=36\n",
      "6X7=42\n",
      "6X8=48\n",
      "6X9=54\n",
      "\n",
      "7X1=7\n",
      "7X2=14\n",
      "7X3=21\n",
      "7X4=28\n",
      "7X5=35\n",
      "7X6=42\n",
      "7X7=49\n",
      "7X8=56\n",
      "7X9=63\n",
      "\n"
     ]
    }
   ],
   "source": [
    "make_gugudan(8,4)"
   ]
  },
  {
   "cell_type": "code",
   "execution_count": 13,
   "metadata": {},
   "outputs": [],
   "source": [
    "def is_leap_year(year1,year2):\n",
    "    for i in range(year1,year2):\n",
    "        year = i\n",
    "        #윤년의 조건 찾아서 파이썬 코드로 변환\n",
    "        if year%400== 0 or (year%4==0 and year%100!=0):\n",
    "            print('{} is leap year'.format(year))\n",
    "    #     else:\n",
    "    #         print('common year')"
   ]
  },
  {
   "cell_type": "code",
   "execution_count": 14,
   "metadata": {},
   "outputs": [
    {
     "name": "stdout",
     "output_type": "stream",
     "text": [
      "2020 is leap year\n"
     ]
    }
   ],
   "source": [
    "is_leap_year(2020,2021)"
   ]
  },
  {
   "cell_type": "code",
   "execution_count": 19,
   "metadata": {},
   "outputs": [],
   "source": [
    "def is_prime_number(k):\n",
    "    number = k\n",
    "    count = 0\n",
    "    aaa = False\n",
    "    for i in range(1,number+1):\n",
    "        if number % i == 0:\n",
    "            count = count + 1\n",
    "            pass\n",
    "        pass\n",
    "\n",
    "    # 소수여부 확인 (2개)\n",
    "    if count==2:\n",
    "        flag = True\n",
    "        pass\n",
    "    \n",
    "    return aaa"
   ]
  },
  {
   "cell_type": "code",
   "execution_count": 20,
   "metadata": {},
   "outputs": [
    {
     "data": {
      "text/plain": [
       "False"
      ]
     },
     "execution_count": 20,
     "metadata": {},
     "output_type": "execute_result"
    }
   ],
   "source": [
    "is_prime_number(5029)"
   ]
  },
  {
   "cell_type": "code",
   "execution_count": null,
   "metadata": {},
   "outputs": [],
   "source": []
  }
 ],
 "metadata": {
  "kernelspec": {
   "display_name": "Python 3",
   "language": "python",
   "name": "python3"
  },
  "language_info": {
   "codemirror_mode": {
    "name": "ipython",
    "version": 3
   },
   "file_extension": ".py",
   "mimetype": "text/x-python",
   "name": "python",
   "nbconvert_exporter": "python",
   "pygments_lexer": "ipython3",
   "version": "3.7.4"
  }
 },
 "nbformat": 4,
 "nbformat_minor": 2
}
