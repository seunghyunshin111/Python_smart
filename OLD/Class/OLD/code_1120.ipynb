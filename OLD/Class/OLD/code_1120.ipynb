{
 "cells": [
  {
   "cell_type": "code",
   "execution_count": 26,
   "metadata": {},
   "outputs": [
    {
     "name": "stdout",
     "output_type": "stream",
     "text": [
      "1000 is prime number\n",
      "1001 is prime number\n",
      "1002 is prime number\n",
      "1003 is prime number\n",
      "1004 is prime number\n",
      "1005 is prime number\n",
      "1006 is prime number\n",
      "1007 is prime number\n",
      "1008 is prime number\n",
      "1009 is prime number\n",
      "1010 is prime number\n",
      "1011 is prime number\n",
      "1012 is prime number\n",
      "1013 is prime number\n",
      "1014 is prime number\n",
      "1015 is prime number\n",
      "1016 is prime number\n",
      "1017 is prime number\n",
      "1018 is prime number\n",
      "1019 is prime number\n",
      "1020 is prime number\n",
      "1021 is prime number\n",
      "1022 is prime number\n",
      "1023 is prime number\n",
      "1024 is prime number\n",
      "1025 is prime number\n",
      "1026 is prime number\n",
      "1027 is prime number\n",
      "1028 is prime number\n",
      "1029 is prime number\n",
      "1030 is prime number\n",
      "1031 is prime number\n",
      "1032 is prime number\n",
      "1033 is prime number\n",
      "1034 is prime number\n",
      "1035 is prime number\n",
      "1036 is prime number\n",
      "1037 is prime number\n",
      "1038 is prime number\n",
      "1039 is prime number\n",
      "1040 is prime number\n",
      "1041 is prime number\n",
      "1042 is prime number\n",
      "1043 is prime number\n",
      "1044 is prime number\n",
      "1045 is prime number\n",
      "1046 is prime number\n",
      "1047 is prime number\n",
      "1048 is prime number\n",
      "1049 is prime number\n",
      "1050 is prime number\n",
      "1051 is prime number\n",
      "1052 is prime number\n",
      "1053 is prime number\n",
      "1054 is prime number\n",
      "1055 is prime number\n",
      "1056 is prime number\n",
      "1057 is prime number\n",
      "1058 is prime number\n",
      "1059 is prime number\n",
      "1060 is prime number\n",
      "1061 is prime number\n",
      "1062 is prime number\n",
      "1063 is prime number\n",
      "1064 is prime number\n",
      "1065 is prime number\n",
      "1066 is prime number\n",
      "1067 is prime number\n",
      "1068 is prime number\n",
      "1069 is prime number\n",
      "1070 is prime number\n",
      "1071 is prime number\n",
      "1072 is prime number\n",
      "1073 is prime number\n",
      "1074 is prime number\n",
      "1075 is prime number\n",
      "1076 is prime number\n",
      "1077 is prime number\n",
      "1078 is prime number\n",
      "1079 is prime number\n",
      "1080 is prime number\n",
      "1081 is prime number\n",
      "1082 is prime number\n",
      "1083 is prime number\n",
      "1084 is prime number\n",
      "1085 is prime number\n",
      "1086 is prime number\n",
      "1087 is prime number\n",
      "1088 is prime number\n",
      "1089 is prime number\n",
      "1090 is prime number\n",
      "1091 is prime number\n",
      "1092 is prime number\n",
      "1093 is prime number\n",
      "1094 is prime number\n",
      "1095 is prime number\n",
      "1096 is prime number\n",
      "1097 is prime number\n",
      "1098 is prime number\n",
      "1099 is prime number\n",
      "1100 is prime number\n",
      "1101 is prime number\n",
      "1102 is prime number\n",
      "1103 is prime number\n",
      "1104 is prime number\n",
      "1105 is prime number\n",
      "1106 is prime number\n",
      "1107 is prime number\n",
      "1108 is prime number\n",
      "1109 is prime number\n",
      "1110 is prime number\n",
      "1111 is prime number\n",
      "1112 is prime number\n",
      "1113 is prime number\n",
      "1114 is prime number\n",
      "1115 is prime number\n",
      "1116 is prime number\n",
      "1117 is prime number\n",
      "1118 is prime number\n",
      "1119 is prime number\n",
      "1120 is prime number\n",
      "1121 is prime number\n",
      "1122 is prime number\n",
      "1123 is prime number\n",
      "1124 is prime number\n",
      "1125 is prime number\n",
      "1126 is prime number\n",
      "1127 is prime number\n",
      "1128 is prime number\n",
      "1129 is prime number\n",
      "1130 is prime number\n",
      "1131 is prime number\n",
      "1132 is prime number\n",
      "1133 is prime number\n",
      "1134 is prime number\n",
      "1135 is prime number\n",
      "1136 is prime number\n",
      "1137 is prime number\n",
      "1138 is prime number\n",
      "1139 is prime number\n",
      "1140 is prime number\n",
      "1141 is prime number\n",
      "1142 is prime number\n",
      "1143 is prime number\n",
      "1144 is prime number\n",
      "1145 is prime number\n",
      "1146 is prime number\n",
      "1147 is prime number\n",
      "1148 is prime number\n",
      "1149 is prime number\n",
      "1150 is prime number\n",
      "1151 is prime number\n",
      "1152 is prime number\n",
      "1153 is prime number\n",
      "1154 is prime number\n",
      "1155 is prime number\n",
      "1156 is prime number\n",
      "1157 is prime number\n",
      "1158 is prime number\n",
      "1159 is prime number\n",
      "1160 is prime number\n",
      "1161 is prime number\n",
      "1162 is prime number\n",
      "1163 is prime number\n",
      "1164 is prime number\n",
      "1165 is prime number\n",
      "1166 is prime number\n",
      "1167 is prime number\n",
      "1168 is prime number\n",
      "1169 is prime number\n",
      "1170 is prime number\n",
      "1171 is prime number\n",
      "1172 is prime number\n",
      "1173 is prime number\n",
      "1174 is prime number\n",
      "1175 is prime number\n",
      "1176 is prime number\n",
      "1177 is prime number\n",
      "1178 is prime number\n",
      "1179 is prime number\n",
      "1180 is prime number\n",
      "1181 is prime number\n",
      "1182 is prime number\n",
      "1183 is prime number\n",
      "1184 is prime number\n",
      "1185 is prime number\n",
      "1186 is prime number\n",
      "1187 is prime number\n",
      "1188 is prime number\n",
      "1189 is prime number\n",
      "1190 is prime number\n",
      "1191 is prime number\n",
      "1192 is prime number\n",
      "1193 is prime number\n",
      "1194 is prime number\n",
      "1195 is prime number\n",
      "1196 is prime number\n",
      "1197 is prime number\n",
      "1198 is prime number\n",
      "1199 is prime number\n",
      "1200 is prime number\n",
      "1201 is prime number\n",
      "1202 is prime number\n",
      "1203 is prime number\n",
      "1204 is prime number\n",
      "1205 is prime number\n",
      "1206 is prime number\n",
      "1207 is prime number\n",
      "1208 is prime number\n",
      "1209 is prime number\n",
      "1210 is prime number\n",
      "1211 is prime number\n",
      "1212 is prime number\n",
      "1213 is prime number\n",
      "1214 is prime number\n",
      "1215 is prime number\n",
      "1216 is prime number\n",
      "1217 is prime number\n",
      "1218 is prime number\n",
      "1219 is prime number\n",
      "1220 is prime number\n",
      "1221 is prime number\n",
      "1222 is prime number\n",
      "1223 is prime number\n",
      "1224 is prime number\n",
      "1225 is prime number\n",
      "1226 is prime number\n",
      "1227 is prime number\n",
      "1228 is prime number\n",
      "1229 is prime number\n",
      "1230 is prime number\n",
      "1231 is prime number\n",
      "1232 is prime number\n",
      "1233 is prime number\n",
      "1234 is prime number\n",
      "1235 is prime number\n",
      "1236 is prime number\n",
      "1237 is prime number\n",
      "1238 is prime number\n",
      "1239 is prime number\n",
      "1240 is prime number\n",
      "1241 is prime number\n",
      "1242 is prime number\n",
      "1243 is prime number\n",
      "1244 is prime number\n",
      "1245 is prime number\n",
      "1246 is prime number\n",
      "1247 is prime number\n",
      "1248 is prime number\n",
      "1249 is prime number\n",
      "1250 is prime number\n",
      "251\n"
     ]
    }
   ],
   "source": [
    "# 1000 ~ 1250 사이의 소수를 찾아 출력\n",
    "# N이라는 숫자의 소수 여부 판별\n",
    "# 1 ~ N 까지의 수로 나누어서 떨어지는 경우가 2개인 것을 찾는 것\n",
    "# 1, 자기자신으로만 나누어 떨어지는 수 -> 소수\n",
    "# 소수의 개수\n",
    "\n",
    "total = 0\n",
    "for number in range(1000,1251):\n",
    "    n = 5\n",
    "    count = 0\n",
    "    for i in range(1,n+1):\n",
    "        if n % i == 0:\n",
    "            count = count + 1\n",
    "    if count == 2:\n",
    "        print (f'{number} is prime number')\n",
    "        total = total + 1\n",
    "\n",
    "print(total)\n"
   ]
  },
  {
   "cell_type": "code",
   "execution_count": 29,
   "metadata": {},
   "outputs": [
    {
     "name": "stdout",
     "output_type": "stream",
     "text": [
      "0 1 1 2 3 5 8 13 21 34 55 89 "
     ]
    }
   ],
   "source": [
    "# 10번째까지의 피보나치 수열을 출력하시오.\n",
    "# 피보나치 수열: 0, 1 값이 주어지고 계속해서 주어진 두 수의 합이 다음에 위치한다.\n",
    "# 예) 0, 1, 1, 2, 3, 5, 8...\n",
    "\n",
    "\n",
    "a = 0\n",
    "b = 1\n",
    "\n",
    "for i in range(10):\n",
    "    p = a + b\n",
    "    if p == 1:\n",
    "        print(a, b, end = ' ')\n",
    "    print(p, end = ' ')\n",
    "    a = b\n",
    "    b = p\n",
    "    \n",
    "    \n",
    "    "
   ]
  },
  {
   "cell_type": "code",
   "execution_count": 30,
   "metadata": {},
   "outputs": [
    {
     "data": {
      "text/plain": [
       "'3.14159'"
      ]
     },
     "execution_count": 30,
     "metadata": {},
     "output_type": "execute_result"
    }
   ],
   "source": [
    "\"{}\".format(3.14159)"
   ]
  },
  {
   "cell_type": "code",
   "execution_count": 31,
   "metadata": {},
   "outputs": [
    {
     "data": {
      "text/plain": [
       "'3.14'"
      ]
     },
     "execution_count": 31,
     "metadata": {},
     "output_type": "execute_result"
    }
   ],
   "source": [
    "\"{:.2f}\".format(3.14159)"
   ]
  },
  {
   "cell_type": "code",
   "execution_count": 36,
   "metadata": {},
   "outputs": [
    {
     "data": {
      "text/plain": [
       "'        이름'"
      ]
     },
     "execution_count": 36,
     "metadata": {},
     "output_type": "execute_result"
    }
   ],
   "source": [
    "# 오른쪽으로 10자리만 밀어라.\n",
    "\n",
    "\"{:>10}\".format(\"이름\")"
   ]
  },
  {
   "cell_type": "code",
   "execution_count": 37,
   "metadata": {},
   "outputs": [
    {
     "data": {
      "text/plain": [
       "'나의 이름은 홍길동입니다. 나이는 30입니다.'"
      ]
     },
     "execution_count": 37,
     "metadata": {},
     "output_type": "execute_result"
    }
   ],
   "source": [
    "name = '홍길동'\n",
    "age = 30\n",
    "f'나의 이름은 {name}입니다. 나이는 {age}입니다.'\n",
    "'나의 이름은 홍길동입니다. 나이는 30입니다.'"
   ]
  },
  {
   "cell_type": "code",
   "execution_count": 38,
   "metadata": {},
   "outputs": [
    {
     "data": {
      "text/plain": [
       "'hi'"
      ]
     },
     "execution_count": 38,
     "metadata": {},
     "output_type": "execute_result"
    }
   ],
   "source": [
    "# 양쪽 공백 지우기 (lstrip, rstrip; 왼쪽, 오른쪽)\n",
    "\n",
    "a = \" hi \"\n",
    "a.strip()\n"
   ]
  },
  {
   "cell_type": "code",
   "execution_count": 40,
   "metadata": {},
   "outputs": [
    {
     "data": {
      "text/plain": [
       "['Life', 'is', 'too', 'short']"
      ]
     },
     "execution_count": 40,
     "metadata": {},
     "output_type": "execute_result"
    }
   ],
   "source": [
    "# split()\n",
    "\n",
    "a = \"Life is too short\"\n",
    "a.split()\n"
   ]
  },
  {
   "cell_type": "code",
   "execution_count": 41,
   "metadata": {},
   "outputs": [
    {
     "data": {
      "text/plain": [
       "['a', 'b', 'c', 'd']"
      ]
     },
     "execution_count": 41,
     "metadata": {},
     "output_type": "execute_result"
    }
   ],
   "source": [
    "b = \"a:b:c:d\"\n",
    "b.split(':')\n"
   ]
  },
  {
   "cell_type": "code",
   "execution_count": 42,
   "metadata": {},
   "outputs": [
    {
     "data": {
      "text/plain": [
       "'I eat 3 apples'"
      ]
     },
     "execution_count": 42,
     "metadata": {},
     "output_type": "execute_result"
    }
   ],
   "source": [
    "# 변수 대입\n",
    "\n",
    "number = 3\n",
    "\"I eat {} apples\".format(number)\n",
    "'I eat 3 apples'\n"
   ]
  },
  {
   "cell_type": "code",
   "execution_count": 48,
   "metadata": {
    "scrolled": true
   },
   "outputs": [
    {
     "name": "stdout",
     "output_type": "stream",
     "text": [
      "990001, addx, 17, 29, 16, 49, 43, 154, C, A, C\n"
     ]
    },
    {
     "data": {
      "text/plain": [
       "['990001',\n",
       " ' addx',\n",
       " ' 17',\n",
       " ' 29',\n",
       " ' 16',\n",
       " ' 49',\n",
       " ' 43',\n",
       " ' 154',\n",
       " ' C',\n",
       " ' A',\n",
       " ' C']"
      ]
     },
     "execution_count": 48,
     "metadata": {},
     "output_type": "execute_result"
    }
   ],
   "source": [
    "# split() 활용\n",
    "\n",
    "line = \"990001, addx, 17, 29, 16, 49, 43, 154, C, A, C\"\n",
    "print(line)\n",
    "\n",
    "data = line.split(\",\")\n",
    "data"
   ]
  },
  {
   "cell_type": "code",
   "execution_count": 49,
   "metadata": {},
   "outputs": [
    {
     "data": {
      "text/plain": [
       "' C'"
      ]
     },
     "execution_count": 49,
     "metadata": {},
     "output_type": "execute_result"
    }
   ],
   "source": [
    "# 인덱싱\n",
    "\n",
    "data[-1]"
   ]
  },
  {
   "cell_type": "code",
   "execution_count": 53,
   "metadata": {},
   "outputs": [
    {
     "data": {
      "text/plain": [
       "' 17 29'"
      ]
     },
     "execution_count": 53,
     "metadata": {},
     "output_type": "execute_result"
    }
   ],
   "source": [
    "data[2] + data[3]"
   ]
  },
  {
   "cell_type": "code",
   "execution_count": 63,
   "metadata": {},
   "outputs": [
    {
     "data": {
      "text/plain": [
       "46"
      ]
     },
     "execution_count": 63,
     "metadata": {},
     "output_type": "execute_result"
    }
   ],
   "source": [
    "# int(): 정수형으로\n",
    "#                    cf. float(): 실수형(0.1)\n",
    "\n",
    "int(data[2]) + int(data[3])"
   ]
  },
  {
   "cell_type": "code",
   "execution_count": 68,
   "metadata": {},
   "outputs": [],
   "source": [
    "data[2] = int(data[2])"
   ]
  },
  {
   "cell_type": "code",
   "execution_count": 69,
   "metadata": {},
   "outputs": [],
   "source": [
    "for i in range(3, 8):\n",
    "    data[i] = int(data[i])"
   ]
  },
  {
   "cell_type": "code",
   "execution_count": 70,
   "metadata": {},
   "outputs": [
    {
     "name": "stdout",
     "output_type": "stream",
     "text": [
      "990001\n",
      " addx\n",
      "17\n",
      "29\n",
      "16\n",
      "49\n",
      "43\n",
      "154\n",
      " C\n",
      " A\n",
      " C\n"
     ]
    }
   ],
   "source": [
    "for ele in data:\n",
    "    print(ele)"
   ]
  },
  {
   "cell_type": "code",
   "execution_count": 128,
   "metadata": {},
   "outputs": [
    {
     "data": {
      "text/plain": [
       "[1, 2, 3, 4, 5]"
      ]
     },
     "execution_count": 128,
     "metadata": {},
     "output_type": "execute_result"
    }
   ],
   "source": [
    "m_list = [1, 2, 3, 4, 5]\n",
    "m_list"
   ]
  },
  {
   "cell_type": "code",
   "execution_count": 98,
   "metadata": {},
   "outputs": [
    {
     "data": {
      "text/plain": [
       "1"
      ]
     },
     "execution_count": 98,
     "metadata": {},
     "output_type": "execute_result"
    }
   ],
   "source": [
    "m_list[0]"
   ]
  },
  {
   "cell_type": "code",
   "execution_count": 99,
   "metadata": {},
   "outputs": [
    {
     "name": "stdout",
     "output_type": "stream",
     "text": [
      "1\n",
      "2\n",
      "3\n",
      "4\n",
      "5\n"
     ]
    }
   ],
   "source": [
    "# element 전체 출력\n",
    "\n",
    "for ele in m_list:\n",
    "    print(ele)"
   ]
  },
  {
   "cell_type": "code",
   "execution_count": 100,
   "metadata": {},
   "outputs": [
    {
     "data": {
      "text/plain": [
       "[1, 2, 3, 4, 50]"
      ]
     },
     "execution_count": 100,
     "metadata": {},
     "output_type": "execute_result"
    }
   ],
   "source": [
    "# 수정\n",
    "\n",
    "m_list[4] = 50\n",
    "m_list"
   ]
  },
  {
   "cell_type": "code",
   "execution_count": 89,
   "metadata": {},
   "outputs": [
    {
     "data": {
      "text/plain": [
       "[1, 2, 3, 4, 50, 6]"
      ]
     },
     "execution_count": 89,
     "metadata": {},
     "output_type": "execute_result"
    }
   ],
   "source": [
    "#append(): 추가\n",
    "\n",
    "m_list.append(6)\n",
    "m_list"
   ]
  },
  {
   "cell_type": "code",
   "execution_count": 117,
   "metadata": {},
   "outputs": [
    {
     "data": {
      "text/plain": [
       "[1, 3, 4, 5]"
      ]
     },
     "execution_count": 117,
     "metadata": {},
     "output_type": "execute_result"
    }
   ],
   "source": [
    "# 삭제 ***** 실행할수록 해당 위치 반복 삭제\n",
    "\n",
    "del m_list[1]\n",
    "m_list"
   ]
  },
  {
   "cell_type": "code",
   "execution_count": 125,
   "metadata": {},
   "outputs": [
    {
     "data": {
      "text/plain": [
       "[1, 3, 4, 5]"
      ]
     },
     "execution_count": 125,
     "metadata": {},
     "output_type": "execute_result"
    }
   ],
   "source": [
    "# 삭제\n",
    "\n",
    "m_list = [1, 2, 3, 4, 5]\n",
    "del m_list[1]\n",
    "m_list"
   ]
  },
  {
   "cell_type": "code",
   "execution_count": 120,
   "metadata": {},
   "outputs": [
    {
     "ename": "ValueError",
     "evalue": "list.remove(x): x not in list",
     "output_type": "error",
     "traceback": [
      "\u001b[1;31m---------------------------------------------------------------------------\u001b[0m",
      "\u001b[1;31mValueError\u001b[0m                                Traceback (most recent call last)",
      "\u001b[1;32m<ipython-input-120-4d19a028c70d>\u001b[0m in \u001b[0;36m<module>\u001b[1;34m\u001b[0m\n\u001b[0;32m      1\u001b[0m \u001b[1;31m# 특정 값을 삭제\u001b[0m\u001b[1;33m\u001b[0m\u001b[1;33m\u001b[0m\u001b[1;33m\u001b[0m\u001b[0m\n\u001b[0;32m      2\u001b[0m \u001b[1;33m\u001b[0m\u001b[0m\n\u001b[1;32m----> 3\u001b[1;33m \u001b[0mm_list\u001b[0m\u001b[1;33m.\u001b[0m\u001b[0mremove\u001b[0m\u001b[1;33m(\u001b[0m\u001b[1;36m1\u001b[0m\u001b[1;33m)\u001b[0m\u001b[1;33m\u001b[0m\u001b[1;33m\u001b[0m\u001b[0m\n\u001b[0m\u001b[0;32m      4\u001b[0m \u001b[0mm_list\u001b[0m\u001b[1;33m\u001b[0m\u001b[1;33m\u001b[0m\u001b[0m\n",
      "\u001b[1;31mValueError\u001b[0m: list.remove(x): x not in list"
     ]
    }
   ],
   "source": [
    "# 삭제 ***** 실행할수록 해당 위치 반복 삭제\n",
    "\n",
    "m_list.remove(1)\n",
    "m_list"
   ]
  },
  {
   "cell_type": "code",
   "execution_count": 129,
   "metadata": {},
   "outputs": [
    {
     "data": {
      "text/plain": [
       "[10]"
      ]
     },
     "execution_count": 129,
     "metadata": {},
     "output_type": "execute_result"
    }
   ],
   "source": [
    "my_list = []\n",
    "my_list.append(10)\n",
    "my_list"
   ]
  },
  {
   "cell_type": "code",
   "execution_count": 145,
   "metadata": {},
   "outputs": [
    {
     "data": {
      "text/plain": [
       "[92, 90, 87, 54, 34, 29, 20, 19, 3, 1]"
      ]
     },
     "execution_count": 145,
     "metadata": {},
     "output_type": "execute_result"
    }
   ],
   "source": [
    "# 리스트 정렬하기\n",
    "# 내림차순으로 정렬하시오.\n",
    "\n",
    "list_a = [29, 87, 1, 92, 34, 54, 20, 19, 3, 90]\n",
    "list_a\n",
    "\n",
    "# 오름차순 정렬\n",
    "list_a.sort()\n",
    "list_a\n",
    "\n",
    "# 내림차순 정렬\n",
    "list_a.sort(reverse=True)\n",
    "list_a\n",
    "\n"
   ]
  },
  {
   "cell_type": "code",
   "execution_count": 161,
   "metadata": {},
   "outputs": [
    {
     "data": {
      "text/plain": [
       "[92, 90, 87, 54, 34, 29, 20, 19, 3, 1]"
      ]
     },
     "execution_count": 161,
     "metadata": {},
     "output_type": "execute_result"
    }
   ],
   "source": [
    "# Class에서 요구한 방법\n",
    "\n",
    "list_b = [29, 87, 1, 92, 34, 54, 20, 19, 3, 90]\n",
    "for i in range(len(list_b)-1):\n",
    "    for j in range(i+1, len(list_b)):\n",
    "        if list_b[i] < list_b[j]:\n",
    "            temp = list_b[i]\n",
    "            list_b[i] = list_b[j]\n",
    "            list_b[j] = temp\n",
    "    \n",
    "list_b\n"
   ]
  },
  {
   "cell_type": "code",
   "execution_count": 165,
   "metadata": {},
   "outputs": [
    {
     "name": "stdout",
     "output_type": "stream",
     "text": [
      "1\n"
     ]
    }
   ],
   "source": [
    "# random -> rnd \n",
    "import random as rnd\n",
    "r = rnd.randint(1, 3)\n",
    "print(r)"
   ]
  },
  {
   "cell_type": "code",
   "execution_count": 171,
   "metadata": {},
   "outputs": [
    {
     "name": "stdout",
     "output_type": "stream",
     "text": [
      "67 17 91 86 21 37 17 46 59 19 "
     ]
    }
   ],
   "source": [
    "for i in range(10):\n",
    "    r2 = rnd.randrange(100)  #100이면 0-99까지. 임의의 난수 뽑기\n",
    "    print(r2, end = ' ')"
   ]
  },
  {
   "cell_type": "code",
   "execution_count": 2,
   "metadata": {},
   "outputs": [
    {
     "ename": "NameError",
     "evalue": "name 'rnd' is not defined",
     "output_type": "error",
     "traceback": [
      "\u001b[1;31m---------------------------------------------------------------------------\u001b[0m",
      "\u001b[1;31mNameError\u001b[0m                                 Traceback (most recent call last)",
      "\u001b[1;32m<ipython-input-2-b9d76cca0f6a>\u001b[0m in \u001b[0;36m<module>\u001b[1;34m\u001b[0m\n\u001b[0;32m      1\u001b[0m \u001b[1;32mfor\u001b[0m \u001b[0mi\u001b[0m \u001b[1;32min\u001b[0m \u001b[0mrange\u001b[0m\u001b[1;33m(\u001b[0m\u001b[1;36m10\u001b[0m\u001b[1;33m)\u001b[0m\u001b[1;33m:\u001b[0m\u001b[1;33m\u001b[0m\u001b[1;33m\u001b[0m\u001b[0m\n\u001b[1;32m----> 2\u001b[1;33m     \u001b[0mr2\u001b[0m \u001b[1;33m=\u001b[0m \u001b[0mrnd\u001b[0m\u001b[1;33m.\u001b[0m\u001b[0mrandrange\u001b[0m\u001b[1;33m(\u001b[0m\u001b[1;36m100\u001b[0m\u001b[1;33m)\u001b[0m\u001b[1;33m\u001b[0m\u001b[1;33m\u001b[0m\u001b[0m\n\u001b[0m\u001b[0;32m      3\u001b[0m     \u001b[0mprint\u001b[0m\u001b[1;33m(\u001b[0m\u001b[0mr2\u001b[0m\u001b[1;33m,\u001b[0m \u001b[0mend\u001b[0m \u001b[1;33m=\u001b[0m \u001b[1;34m' '\u001b[0m\u001b[1;33m)\u001b[0m\u001b[1;33m\u001b[0m\u001b[1;33m\u001b[0m\u001b[0m\n\u001b[0;32m      4\u001b[0m \u001b[1;33m\u001b[0m\u001b[0m\n\u001b[0;32m      5\u001b[0m \u001b[1;31m# 리스트 로\u001b[0m\u001b[1;33m\u001b[0m\u001b[1;33m\u001b[0m\u001b[1;33m\u001b[0m\u001b[0m\n",
      "\u001b[1;31mNameError\u001b[0m: name 'rnd' is not defined"
     ]
    }
   ],
   "source": [
    "for i in range(10):\n",
    "    r2 = rnd.randrange(100) \n",
    "    print(r2, end = ' ')\n",
    "\n",
    "# 리스트 로 \n",
    "list_r2 = [69, 95, 42, 95, 91, 59, 53, 93, 50, 90]\n",
    "\n",
    "# 중복값 제거\n",
    "list_b = []\n",
    "while True:\n",
    "    r2 = rnd.randrange(100)\n",
    "    if r2 not in list_b:\n",
    "        list_b.append(r2)\n",
    "    if len(list_b) == 10:\n",
    "        break\n",
    "\n",
    "list_b\n"
   ]
  },
  {
   "cell_type": "code",
   "execution_count": 174,
   "metadata": {},
   "outputs": [
    {
     "ename": "SyntaxError",
     "evalue": "unexpected EOF while parsing (<ipython-input-174-e81f8b5366e3>, line 4)",
     "output_type": "error",
     "traceback": [
      "\u001b[1;36m  File \u001b[1;32m\"<ipython-input-174-e81f8b5366e3>\"\u001b[1;36m, line \u001b[1;32m4\u001b[0m\n\u001b[1;33m    \u001b[0m\n\u001b[1;37m    ^\u001b[0m\n\u001b[1;31mSyntaxError\u001b[0m\u001b[1;31m:\u001b[0m unexpected EOF while parsing\n"
     ]
    }
   ],
   "source": [
    "msg = 'hello'\n",
    "number = '123456'\n",
    "for letter in number:\n",
    "    "
   ]
  },
  {
   "cell_type": "code",
   "execution_count": 179,
   "metadata": {},
   "outputs": [
    {
     "data": {
      "text/plain": [
       "1775"
      ]
     },
     "execution_count": 179,
     "metadata": {},
     "output_type": "execute_result"
    }
   ],
   "source": [
    "r3 = rnd.randrange(1000, 10000)\n",
    "r3"
   ]
  },
  {
   "cell_type": "code",
   "execution_count": 11,
   "metadata": {},
   "outputs": [
    {
     "name": "stdout",
     "output_type": "stream",
     "text": [
      "please input numbers >>> 10\n",
      "20\n",
      "1010\n"
     ]
    }
   ],
   "source": [
    "b = input('please input numbers >>> ')\n",
    "print(int(b) + 10)  #int20\n",
    "print(b + str(10))  #strings 1010"
   ]
  },
  {
   "cell_type": "code",
   "execution_count": 2,
   "metadata": {},
   "outputs": [
    {
     "name": "stdout",
     "output_type": "stream",
     "text": [
      "예상한 숫자는? >>> 20\n",
      "크다\n",
      "예상한 숫자는? >>> 580\n",
      "작다\n",
      "예상한 숫자는? >>> 50\n",
      "크다\n",
      "예상한 숫자는? >>> 58\n",
      "크다\n",
      "예상한 숫자는? >>> 60\n",
      "크다\n",
      "예상한 숫자는? >>> 70\n",
      "크다\n",
      "예상한 숫자는? >>> 80\n",
      "작다\n",
      "예상한 숫자는? >>> 74\n",
      "크다\n",
      "예상한 숫자는? >>> 75\n",
      "크다\n",
      "예상한 숫자는? >>> 76\n",
      "일치\n"
     ]
    }
   ],
   "source": [
    "import random as rnd\n",
    "\n",
    "hidden = rnd.randrange(10, 100)\n",
    "# num = int(input('예상한 숫자는? >>> '))\n",
    "\n",
    "while True:\n",
    "    num = int(input('예상한 숫자는? >>> '))\n",
    "    if num < hidden:\n",
    "        print(\"크다\")\n",
    "    elif num > hidden:\n",
    "        print(\"작다\")\n",
    "    else:\n",
    "        print(\"일치\")\n",
    "        break\n",
    "\n"
   ]
  },
  {
   "cell_type": "code",
   "execution_count": 1,
   "metadata": {},
   "outputs": [],
   "source": [
    "def plus(a, b): #입력\n",
    "    c = a + b   #처리\n",
    "    return c   #출력"
   ]
  },
  {
   "cell_type": "code",
   "execution_count": 15,
   "metadata": {},
   "outputs": [
    {
     "name": "stdout",
     "output_type": "stream",
     "text": [
      "30\n"
     ]
    }
   ],
   "source": [
    "result = plus(10, 20)\n",
    "print(result)"
   ]
  },
  {
   "cell_type": "code",
   "execution_count": 6,
   "metadata": {},
   "outputs": [
    {
     "data": {
      "text/plain": [
       "60"
      ]
     },
     "execution_count": 6,
     "metadata": {},
     "output_type": "execute_result"
    }
   ],
   "source": [
    "def plus2(a, b, c):\n",
    "    return a + b + c\n",
    "\n",
    "plus2(10, 20 , 30)"
   ]
  },
  {
   "cell_type": "code",
   "execution_count": 8,
   "metadata": {},
   "outputs": [
    {
     "data": {
      "text/plain": [
       "70"
      ]
     },
     "execution_count": 8,
     "metadata": {},
     "output_type": "execute_result"
    }
   ],
   "source": [
    "def plus2(a, b = 20, c = 30):\n",
    "    return a + b + c\n",
    "\n",
    "plus2(20)"
   ]
  },
  {
   "cell_type": "code",
   "execution_count": 11,
   "metadata": {},
   "outputs": [
    {
     "data": {
      "text/plain": [
       "22"
      ]
     },
     "execution_count": 11,
     "metadata": {},
     "output_type": "execute_result"
    }
   ],
   "source": [
    "def plus2(a, b = 20, c = 30):\n",
    "    return a + b + c\n",
    "\n",
    "plus2(20, 1, 1)"
   ]
  },
  {
   "cell_type": "code",
   "execution_count": 16,
   "metadata": {},
   "outputs": [
    {
     "data": {
      "text/plain": [
       "90"
      ]
     },
     "execution_count": 16,
     "metadata": {},
     "output_type": "execute_result"
    }
   ],
   "source": [
    "def plus2(a, b = 20, c = 30):\n",
    "    return a + b + c\n",
    "\n",
    "plus2(20, c = 50)"
   ]
  },
  {
   "cell_type": "code",
   "execution_count": 18,
   "metadata": {},
   "outputs": [
    {
     "name": "stdout",
     "output_type": "stream",
     "text": [
      "\t\t\t2019년 7월\n",
      "\n",
      "일\t월\t화\t수\t목\t금\t토\n",
      "\t1\t2\t3\t4\t5\t6\t\n",
      "7\t8\t9\t10\t11\t12\t13\t\n",
      "14\t15\t16\t17\t18\t19\t20\t\n",
      "21\t22\t23\t24\t25\t26\t27\t\n",
      "28\t29\t30\t31\t"
     ]
    }
   ],
   "source": [
    "month = 7\n",
    "space = 1\n",
    "last_day = 31\n",
    "print('\\t\\t\\t2019년 {}월\\n'.format(month))\n",
    "print('일\\t월\\t화\\t수\\t목\\t금\\t토')\n",
    "for i in range(space):\n",
    "    print('\\t',end='')\n",
    "    pass\n",
    "\n",
    "for i in range(1,last_day+1):\n",
    "    print('{}\\t'.format(i),end='')\n",
    "    if (i+space) % 7 == 0:\n",
    "        print()\n",
    "        "
   ]
  },
  {
   "cell_type": "code",
   "execution_count": 22,
   "metadata": {},
   "outputs": [
    {
     "ename": "SyntaxError",
     "evalue": "invalid syntax (<ipython-input-22-3140f7527acc>, line 12)",
     "output_type": "error",
     "traceback": [
      "\u001b[1;36m  File \u001b[1;32m\"<ipython-input-22-3140f7527acc>\"\u001b[1;36m, line \u001b[1;32m12\u001b[0m\n\u001b[1;33m    a = [1:31]\u001b[0m\n\u001b[1;37m          ^\u001b[0m\n\u001b[1;31mSyntaxError\u001b[0m\u001b[1;31m:\u001b[0m invalid syntax\n"
     ]
    }
   ],
   "source": [
    "# 함수로 달력 만들기\n",
    "# 마지막날 정보 12개와 빈칸 정보 12개를 리스트에 담아서 처리하시오. (하드코딩으로)\n",
    "        \n",
    "def view_month(m, s, ld):\n",
    "    month = m\n",
    "    space = [2, 5, 5, 1, 3, ]\n",
    "    last_day = ld\n",
    "    print('\\t\\t\\t2019년 {}월\\n'.format(month))\n",
    "    print('일\\t월\\t화\\t수\\t목\\t금\\t토')\n",
    "    \n",
    "\n",
    "a = [1:31]\n",
    "view_month(1, 2, 31)\n",
    "\n",
    "        \n",
    "        "
   ]
  },
  {
   "cell_type": "code",
   "execution_count": 23,
   "metadata": {},
   "outputs": [
    {
     "ename": "SyntaxError",
     "evalue": "invalid syntax (<ipython-input-23-63464814c235>, line 6)",
     "output_type": "error",
     "traceback": [
      "\u001b[1;36m  File \u001b[1;32m\"<ipython-input-23-63464814c235>\"\u001b[1;36m, line \u001b[1;32m6\u001b[0m\n\u001b[1;33m    def num()\u001b[0m\n\u001b[1;37m             ^\u001b[0m\n\u001b[1;31mSyntaxError\u001b[0m\u001b[1;31m:\u001b[0m invalid syntax\n"
     ]
    }
   ],
   "source": [
    "# 아래의 코드를 함수로 만들고 테스트 하시오. (함수 형태만 적용)\n",
    "# 구구단, 소수판별, 윤년판별, 피보나치 수열, 내림차순 정렬\n",
    "\n",
    "# 구구단\n",
    "\n",
    "def num()\n",
    "\n",
    "\n",
    "\n",
    "\n",
    "\n"
   ]
  },
  {
   "cell_type": "code",
   "execution_count": 35,
   "metadata": {},
   "outputs": [],
   "source": [
    "# 피보나치 함수식\n",
    "\n",
    "def pibonach(n):\n",
    "    a = 0\n",
    "    b = 0\n",
    "    for i in range(n):\n",
    "        p = a + b\n",
    "        if p == 1:\n",
    "            print(p, end = ' ')\n",
    "            a = b\n",
    "            b = p"
   ]
  },
  {
   "cell_type": "code",
   "execution_count": 38,
   "metadata": {},
   "outputs": [
    {
     "ename": "NameError",
     "evalue": "name 'count' is not defined",
     "output_type": "error",
     "traceback": [
      "\u001b[1;31m---------------------------------------------------------------------------\u001b[0m",
      "\u001b[1;31mNameError\u001b[0m                                 Traceback (most recent call last)",
      "\u001b[1;32m<ipython-input-38-3d23f0b52be6>\u001b[0m in \u001b[0;36m<module>\u001b[1;34m\u001b[0m\n\u001b[0;32m     12\u001b[0m \u001b[1;31m# 소수여부 확인 (2개)\u001b[0m\u001b[1;33m\u001b[0m\u001b[1;33m\u001b[0m\u001b[1;33m\u001b[0m\u001b[0m\n\u001b[0;32m     13\u001b[0m \u001b[1;33m\u001b[0m\u001b[0m\n\u001b[1;32m---> 14\u001b[1;33m \u001b[1;32mif\u001b[0m \u001b[0mcount\u001b[0m \u001b[1;33m==\u001b[0m \u001b[1;36m2\u001b[0m\u001b[1;33m:\u001b[0m\u001b[1;33m\u001b[0m\u001b[1;33m\u001b[0m\u001b[0m\n\u001b[0m\u001b[0;32m     15\u001b[0m     \u001b[0mprint\u001b[0m\u001b[1;33m(\u001b[0m\u001b[1;34mf'{number} is prime number'\u001b[0m\u001b[1;33m)\u001b[0m\u001b[1;33m\u001b[0m\u001b[1;33m\u001b[0m\u001b[0m\n\u001b[0;32m     16\u001b[0m \u001b[1;33m\u001b[0m\u001b[0m\n",
      "\u001b[1;31mNameError\u001b[0m: name 'count' is not defined"
     ]
    }
   ],
   "source": [
    "# 소수판별 함수식\n",
    "\n",
    "def is_prime_number(k):\n",
    "    k = 0\n",
    "    count = 0\n",
    "    flag = FALSE  #참, 거짓 \n",
    "    for k in range(1, number+1):\n",
    "        if number % k == 0:\n",
    "            count = count + 1\n",
    "\n",
    "\n",
    "# 소수여부 확인 (2개)\n",
    "\n",
    "if count == 2:\n",
    "    print(f'{number} is prime number')\n",
    "    \n"
   ]
  },
  {
   "cell_type": "code",
   "execution_count": null,
   "metadata": {},
   "outputs": [],
   "source": [
    "#간결성 특징으로 블록이 없다.\n",
    "\n",
    "#- 제어문과 블록을 처리해야 할 경우 { } 사용하지 않는다.\n",
    "#대신,          :(콜론)과 들여쓰기         블록을 표현한다.\n",
    "\n",
    "#- 블록이 끝나는 부분이 명확하지 않으므로 pass를 사용"
   ]
  }
 ],
 "metadata": {
  "kernelspec": {
   "display_name": "Python 3",
   "language": "python",
   "name": "python3"
  },
  "language_info": {
   "codemirror_mode": {
    "name": "ipython",
    "version": 3
   },
   "file_extension": ".py",
   "mimetype": "text/x-python",
   "name": "python",
   "nbconvert_exporter": "python",
   "pygments_lexer": "ipython3",
   "version": "3.7.4"
  }
 },
 "nbformat": 4,
 "nbformat_minor": 2
}
