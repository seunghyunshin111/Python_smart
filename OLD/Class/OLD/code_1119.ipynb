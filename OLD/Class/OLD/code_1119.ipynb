{
 "cells": [
  {
   "cell_type": "code",
   "execution_count": 55,
   "metadata": {},
   "outputs": [
    {
     "data": {
      "text/plain": [
       "2"
      ]
     },
     "execution_count": 55,
     "metadata": {},
     "output_type": "execute_result"
    }
   ],
   "source": [
    "1+1"
   ]
  },
  {
   "cell_type": "code",
   "execution_count": 56,
   "metadata": {},
   "outputs": [
    {
     "data": {
      "text/plain": [
       "5"
      ]
     },
     "execution_count": 56,
     "metadata": {},
     "output_type": "execute_result"
    }
   ],
   "source": [
    "2+3"
   ]
  },
  {
   "cell_type": "code",
   "execution_count": 57,
   "metadata": {},
   "outputs": [
    {
     "data": {
      "text/plain": [
       "2"
      ]
     },
     "execution_count": 57,
     "metadata": {},
     "output_type": "execute_result"
    }
   ],
   "source": [
    "a = 2\n",
    "a"
   ]
  },
  {
   "cell_type": "code",
   "execution_count": 58,
   "metadata": {},
   "outputs": [
    {
     "data": {
      "text/plain": [
       "3.3333333333333335"
      ]
     },
     "execution_count": 58,
     "metadata": {},
     "output_type": "execute_result"
    }
   ],
   "source": [
    "10/3"
   ]
  },
  {
   "cell_type": "code",
   "execution_count": 59,
   "metadata": {},
   "outputs": [
    {
     "data": {
      "text/plain": [
       "3"
      ]
     },
     "execution_count": 59,
     "metadata": {},
     "output_type": "execute_result"
    }
   ],
   "source": [
    "10//3"
   ]
  },
  {
   "cell_type": "code",
   "execution_count": 60,
   "metadata": {},
   "outputs": [
    {
     "data": {
      "text/plain": [
       "1"
      ]
     },
     "execution_count": 60,
     "metadata": {},
     "output_type": "execute_result"
    }
   ],
   "source": [
    "10%3"
   ]
  },
  {
   "cell_type": "code",
   "execution_count": 4,
   "metadata": {},
   "outputs": [
    {
     "name": "stdout",
     "output_type": "stream",
     "text": [
      "6\n"
     ]
    },
    {
     "data": {
      "text/plain": [
       "56"
      ]
     },
     "execution_count": 4,
     "metadata": {},
     "output_type": "execute_result"
    }
   ],
   "source": [
    "number = 123456\n",
    "split_number = number % 10\n",
    "print(split_number)\n",
    "\n",
    "number % 100"
   ]
  },
  {
   "cell_type": "code",
   "execution_count": 62,
   "metadata": {
    "scrolled": true
   },
   "outputs": [
    {
     "data": {
      "text/plain": [
       "5"
      ]
     },
     "execution_count": 62,
     "metadata": {},
     "output_type": "execute_result"
    }
   ],
   "source": [
    "number % 100 // 10"
   ]
  },
  {
   "cell_type": "code",
   "execution_count": 3,
   "metadata": {},
   "outputs": [
    {
     "name": "stdout",
     "output_type": "stream",
     "text": [
      "123456\n",
      "21\n"
     ]
    }
   ],
   "source": [
    "# 위의 6자리 수를 모두 한자리씩 분리한 후 분리된 수의 합을 구하여 출력하시오.\n",
    "\n",
    "a = number % 10 // 1\n",
    "b = number % 100 // 10\n",
    "c = number % 1000 // 100\n",
    "d = number % 10000 // 1000\n",
    "e = number % 100000 // 10000\n",
    "f = number % 1000000 // 100000\n",
    "sum = a + b + c + d + e + f\n",
    "\n",
    "print(number)\n",
    "print(sum)"
   ]
  },
  {
   "cell_type": "code",
   "execution_count": 6,
   "metadata": {},
   "outputs": [
    {
     "data": {
      "text/plain": [
       "6"
      ]
     },
     "execution_count": 6,
     "metadata": {},
     "output_type": "execute_result"
    }
   ],
   "source": [
    "123456 % 10"
   ]
  },
  {
   "cell_type": "code",
   "execution_count": 4,
   "metadata": {},
   "outputs": [
    {
     "name": "stdout",
     "output_type": "stream",
     "text": [
      "21\n"
     ]
    }
   ],
   "source": [
    "total = 0\n",
    "number = 123456\n",
    "\n",
    "for i in range(6):\n",
    "    split_number = number % 10\n",
    "    total = total + split_number\n",
    "    number = number // 10\n",
    "    \n",
    "print(total)\n"
   ]
  },
  {
   "cell_type": "code",
   "execution_count": 5,
   "metadata": {},
   "outputs": [
    {
     "name": "stdout",
     "output_type": "stream",
     "text": [
      "55\n"
     ]
    }
   ],
   "source": [
    "result = 0\n",
    "a = 12345678910\n",
    "\n",
    "for a in range(10):\n",
    "    result = result + (a+1)\n",
    "    \n",
    "print(result)"
   ]
  },
  {
   "cell_type": "code",
   "execution_count": 6,
   "metadata": {},
   "outputs": [
    {
     "name": "stdout",
     "output_type": "stream",
     "text": [
      "55\n"
     ]
    }
   ],
   "source": [
    "# 1부터 10까지의 합을 구하여 출력하시오. (for 사용)\n",
    "\n",
    "sum = 0\n",
    "for i in range(10):\n",
    "    sum = sum + (i+1)\n",
    "    \n",
    "print(sum)"
   ]
  },
  {
   "cell_type": "code",
   "execution_count": 12,
   "metadata": {},
   "outputs": [
    {
     "name": "stdout",
     "output_type": "stream",
     "text": [
      "30\n"
     ]
    }
   ],
   "source": [
    "# 1부터 10까지 2의 배수만의 합을 구하여 출력하시오. (for 사용)\n",
    "\n",
    "sum = 0\n",
    "for i in range(10):\n",
    "    if (i+1) % 2 == 0:\n",
    "#         sum = sum + (i+1)\n",
    "        sum += i+1\n",
    "    \n",
    "print(sum)"
   ]
  },
  {
   "cell_type": "code",
   "execution_count": 14,
   "metadata": {},
   "outputs": [
    {
     "name": "stdout",
     "output_type": "stream",
     "text": [
      "2 X 1 = 2\n",
      "2 X 2 = 4\n",
      "2 X 3 = 6\n",
      "2 X 4 = 8\n",
      "2 X 5 = 10\n",
      "2 X 6 = 12\n",
      "2 X 7 = 14\n",
      "2 X 8 = 16\n",
      "2 X 9 = 18\n"
     ]
    }
   ],
   "source": [
    "# 2단을 작성하시오.\n",
    "\n",
    "result = 0\n",
    "\n",
    "for num in range(1, 10):\n",
    "    result = result + 1\n",
    "    print(2, \"X\", num, \"=\", 2 * num)\n"
   ]
  },
  {
   "cell_type": "code",
   "execution_count": 11,
   "metadata": {},
   "outputs": [
    {
     "name": "stdout",
     "output_type": "stream",
     "text": [
      "------------------------------------\n",
      "2 X 1 = 2\n",
      "2 X 2 = 4\n",
      "2 X 3 = 6\n",
      "2 X 4 = 8\n",
      "2 X 5 = 10\n",
      "2 X 6 = 12\n",
      "2 X 7 = 14\n",
      "2 X 8 = 16\n",
      "2 X 9 = 18\n",
      "------------------------------------\n",
      "3 X 1 = 3\n",
      "3 X 2 = 6\n",
      "3 X 3 = 9\n",
      "3 X 4 = 12\n",
      "3 X 5 = 15\n",
      "3 X 6 = 18\n",
      "3 X 7 = 21\n",
      "3 X 8 = 24\n",
      "3 X 9 = 27\n",
      "------------------------------------\n",
      "4 X 1 = 4\n",
      "4 X 2 = 8\n",
      "4 X 3 = 12\n",
      "4 X 4 = 16\n",
      "4 X 5 = 20\n",
      "4 X 6 = 24\n",
      "4 X 7 = 28\n",
      "4 X 8 = 32\n",
      "4 X 9 = 36\n",
      "------------------------------------\n",
      "5 X 1 = 5\n",
      "5 X 2 = 10\n",
      "5 X 3 = 15\n",
      "5 X 4 = 20\n",
      "5 X 5 = 25\n",
      "5 X 6 = 30\n",
      "5 X 7 = 35\n",
      "5 X 8 = 40\n",
      "5 X 9 = 45\n",
      "------------------------------------\n",
      "6 X 1 = 6\n",
      "6 X 2 = 12\n",
      "6 X 3 = 18\n",
      "6 X 4 = 24\n",
      "6 X 5 = 30\n",
      "6 X 6 = 36\n",
      "6 X 7 = 42\n",
      "6 X 8 = 48\n",
      "6 X 9 = 54\n",
      "------------------------------------\n",
      "7 X 1 = 7\n",
      "7 X 2 = 14\n",
      "7 X 3 = 21\n",
      "7 X 4 = 28\n",
      "7 X 5 = 35\n",
      "7 X 6 = 42\n",
      "7 X 7 = 49\n",
      "7 X 8 = 56\n",
      "7 X 9 = 63\n",
      "------------------------------------\n",
      "8 X 1 = 8\n",
      "8 X 2 = 16\n",
      "8 X 3 = 24\n",
      "8 X 4 = 32\n",
      "8 X 5 = 40\n",
      "8 X 6 = 48\n",
      "8 X 7 = 56\n",
      "8 X 8 = 64\n",
      "8 X 9 = 72\n",
      "------------------------------------\n",
      "9 X 1 = 9\n",
      "9 X 2 = 18\n",
      "9 X 3 = 27\n",
      "9 X 4 = 36\n",
      "9 X 5 = 45\n",
      "9 X 6 = 54\n",
      "9 X 7 = 63\n",
      "9 X 8 = 72\n",
      "9 X 9 = 81\n"
     ]
    }
   ],
   "source": [
    "# 2단 ~ 9단을 작성하시오. (단과 단 사이에 줄 넣기)\n",
    "\n",
    "for dan in range(2,10):\n",
    "    print(\"------------------------------------\")\n",
    "    for num in range(1,10):\n",
    "        print(dan, \"X\", num, \"=\", dan*num)\n"
   ]
  },
  {
   "cell_type": "code",
   "execution_count": 15,
   "metadata": {},
   "outputs": [
    {
     "name": "stdout",
     "output_type": "stream",
     "text": [
      "0\n"
     ]
    }
   ],
   "source": [
    "count = 0\n",
    "while True:\n",
    "    print(count)\n",
    "    if i==10:\n",
    "        break\n",
    "       "
   ]
  },
  {
   "cell_type": "code",
   "execution_count": 15,
   "metadata": {},
   "outputs": [],
   "source": [
    "number = 123456\n",
    "total = 0\n",
    "for i in range(6):\n",
    "    split_number = number % 10\n",
    "    total = total + split_number\n",
    "    "
   ]
  },
  {
   "cell_type": "code",
   "execution_count": null,
   "metadata": {},
   "outputs": [],
   "source": [
    "# 3단만 출력\n",
    "# n자리의 숫자를 하나씩 분리하는 코드를 while문으로 작성\n",
    "\n",
    "num"
   ]
  },
  {
   "cell_type": "code",
   "execution_count": 77,
   "metadata": {},
   "outputs": [
    {
     "data": {
      "text/plain": [
       "45"
      ]
     },
     "execution_count": 77,
     "metadata": {},
     "output_type": "execute_result"
    }
   ],
   "source": [
    "my_number = 123456789\n",
    "\n",
    "split_number = str(my_number)\n",
    "\n",
    "res = 0\n",
    "\n",
    "for num in split_number:\n",
    "    res += int(num)\n",
    "\n",
    "res"
   ]
  },
  {
   "cell_type": "code",
   "execution_count": 1,
   "metadata": {
    "scrolled": true
   },
   "outputs": [
    {
     "name": "stdout",
     "output_type": "stream",
     "text": [
      "걸어가라\n"
     ]
    }
   ],
   "source": [
    "money = 2000\n",
    "\n",
    "if money >= 3000:\n",
    "    print(\"택시를 타고 가라\")\n",
    "else:\n",
    "    print(\"걸어가라\")"
   ]
  },
  {
   "cell_type": "code",
   "execution_count": 1,
   "metadata": {},
   "outputs": [
    {
     "name": "stdout",
     "output_type": "stream",
     "text": [
      "leap year\n"
     ]
    }
   ],
   "source": [
    "year = 2028\n",
    "# 윤년의 조건 찾아서 파이썬 코드로 변환\n",
    "\n",
    "if year % 400 == 0 or (year % 4 == 0 and year % 100 != 0) :\n",
    "    print('leap year')\n",
    "else :\n",
    "    print('common year')"
   ]
  },
  {
   "cell_type": "code",
   "execution_count": 7,
   "metadata": {},
   "outputs": [
    {
     "name": "stdout",
     "output_type": "stream",
     "text": [
      "2020 is leap year(윤년))\n",
      "common year\n",
      "common year\n",
      "common year\n",
      "2024 is leap year(윤년))\n",
      "common year\n",
      "common year\n",
      "common year\n",
      "2028 is leap year(윤년))\n",
      "common year\n",
      "common year\n",
      "common year\n",
      "2032 is leap year(윤년))\n",
      "common year\n",
      "common year\n",
      "common year\n",
      "2036 is leap year(윤년))\n",
      "common year\n",
      "common year\n",
      "common year\n",
      "2040 is leap year(윤년))\n",
      "common year\n",
      "common year\n",
      "common year\n",
      "2044 is leap year(윤년))\n",
      "common year\n",
      "common year\n",
      "common year\n",
      "2048 is leap year(윤년))\n",
      "common year\n",
      "common year\n"
     ]
    }
   ],
   "source": [
    "\n",
    "for year in range(2020, 2051):\n",
    "    if year % 400 == 0 or (year % 4 == 0 and year % 100 != 0) :\n",
    "        print('{} is leap year(윤년))'.format(year))\n",
    "    else :\n",
    "        print('common year')"
   ]
  },
  {
   "cell_type": "code",
   "execution_count": 6,
   "metadata": {
    "scrolled": true
   },
   "outputs": [
    {
     "name": "stdout",
     "output_type": "stream",
     "text": [
      "2020 is leap year\n",
      "common year\n",
      "common year\n",
      "common year\n",
      "2024 is leap year\n",
      "common year\n",
      "common year\n",
      "common year\n",
      "2028 is leap year\n",
      "common year\n",
      "common year\n",
      "common year\n",
      "2032 is leap year\n",
      "common year\n",
      "common year\n",
      "common year\n",
      "2036 is leap year\n",
      "common year\n",
      "common year\n",
      "common year\n",
      "2040 is leap year\n",
      "common year\n",
      "common year\n",
      "common year\n",
      "2044 is leap year\n",
      "common year\n",
      "common year\n",
      "common year\n",
      "2048 is leap year\n",
      "common year\n",
      "common year\n"
     ]
    }
   ],
   "source": [
    "for year in range(2020, 2051):\n",
    "    if year % 400 == 0 or (year % 4 == 0 and year % 100 != 0) :\n",
    "        print(f'{year} is leap year')\n",
    "    else :\n",
    "        print('common year')"
   ]
  },
  {
   "cell_type": "code",
   "execution_count": 2,
   "metadata": {},
   "outputs": [
    {
     "name": "stdout",
     "output_type": "stream",
     "text": [
      "2020 is leap year\n",
      "common year\n",
      "common year\n",
      "common year\n",
      "2024 is leap year\n",
      "common year\n",
      "common year\n",
      "common year\n",
      "2028 is leap year\n",
      "common year\n",
      "common year\n",
      "common year\n",
      "2032 is leap year\n",
      "common year\n",
      "common year\n",
      "common year\n",
      "2036 is leap year\n",
      "common year\n",
      "common year\n",
      "common year\n",
      "2040 is leap year\n",
      "common year\n",
      "common year\n",
      "common year\n",
      "2044 is leap year\n",
      "common year\n",
      "common year\n",
      "common year\n",
      "2048 is leap year\n",
      "common year\n",
      "common year\n"
     ]
    }
   ],
   "source": [
    "for year in list(range(2020, 2051)):\n",
    "    if year % 400 == 0 or (year % 4 == 0 and year % 100 != 0) :\n",
    "        print(f'{year} is leap year')\n",
    "    else :\n",
    "        print('common year')"
   ]
  },
  {
   "cell_type": "code",
   "execution_count": 13,
   "metadata": {},
   "outputs": [
    {
     "name": "stdout",
     "output_type": "stream",
     "text": [
      "B\n"
     ]
    }
   ],
   "source": [
    "score = 82\n",
    "if score >= 90:\n",
    "    print(\"A\")\n",
    "elif score >= 80:\n",
    "    print(\"B\")\n",
    "elif score >= 70:\n",
    "    print(\"C\")\n",
    "elif score >= 60:\n",
    "    print(\"D\")\n",
    "else:\n",
    "    print(\"F\")"
   ]
  },
  {
   "cell_type": "code",
   "execution_count": 8,
   "metadata": {},
   "outputs": [
    {
     "data": {
      "text/plain": [
       "[2020,\n",
       " 2021,\n",
       " 2022,\n",
       " 2023,\n",
       " 2024,\n",
       " 2025,\n",
       " 2026,\n",
       " 2027,\n",
       " 2028,\n",
       " 2029,\n",
       " 2030,\n",
       " 2031,\n",
       " 2032,\n",
       " 2033,\n",
       " 2034,\n",
       " 2035,\n",
       " 2036,\n",
       " 2037,\n",
       " 2038,\n",
       " 2039,\n",
       " 2040,\n",
       " 2041,\n",
       " 2042,\n",
       " 2043,\n",
       " 2044,\n",
       " 2045,\n",
       " 2046,\n",
       " 2047,\n",
       " 2048,\n",
       " 2049,\n",
       " 2050]"
      ]
     },
     "execution_count": 8,
     "metadata": {},
     "output_type": "execute_result"
    }
   ],
   "source": [
    "list(range(2020,2051))"
   ]
  },
  {
   "cell_type": "code",
   "execution_count": 9,
   "metadata": {},
   "outputs": [
    {
     "data": {
      "text/plain": [
       "range(2020, 2051)"
      ]
     },
     "execution_count": 9,
     "metadata": {},
     "output_type": "execute_result"
    }
   ],
   "source": [
    "range(2020,2051)"
   ]
  },
  {
   "cell_type": "code",
   "execution_count": 10,
   "metadata": {},
   "outputs": [],
   "source": [
    "# 5가 소수(prime number)인지 판단하여 출력\n",
    "# 1과 자기자신으로만 나누어지는 수\n",
    "\n",
    "num = 5\n",
    "if num % 2 == 0:\n",
    "    print(num, \"는 소수입니다.\")\n"
   ]
  },
  {
   "cell_type": "code",
   "execution_count": 12,
   "metadata": {},
   "outputs": [
    {
     "name": "stdout",
     "output_type": "stream",
     "text": [
      "5 는 소수입니다.\n"
     ]
    }
   ],
   "source": [
    "# 5가 소수(prime number)인지 판단하여 출력\n",
    "\n",
    "number = 5\n",
    "for i in range(1, number):\n",
    "    if number % i == 0:\n",
    "        print(number, \"는 소수입니다.\")"
   ]
  },
  {
   "cell_type": "code",
   "execution_count": 1,
   "metadata": {},
   "outputs": [],
   "source": [
    "for k in range(2, 11):\n",
    "    number = k\n",
    "    count = 0\n",
    "    for i in range(1, number+1):\n",
    "        if number % i == 0:\n",
    "            count = count + 1\n",
    "            pass\n",
    "        pass\n",
    "\n",
    "\n",
    "# 소수여부 확인 (2개)\n",
    "\n",
    "if count == 2:\n",
    "    print(f'{number} is prime number')"
   ]
  },
  {
   "cell_type": "code",
   "execution_count": 14,
   "metadata": {},
   "outputs": [
    {
     "name": "stdout",
     "output_type": "stream",
     "text": [
      "\t\t\t2019년 12월\n",
      "\n",
      "\n",
      " 일\n",
      " 월\n",
      " 화\n",
      " 수\n",
      " 목\n",
      " 금\n",
      " 토\n",
      "\n",
      "1\t2\t3\t4\t5\t6\t7\t\n",
      "8\t9\t10\t11\t12\t13\t14\t\n",
      "15\t16\t17\t18\t19\t20\t21\t\n",
      "22\t23\t24\t25\t26\t27\t28\t\n",
      "29\t30\t31\t"
     ]
    }
   ],
   "source": [
    "# 달력 만들기(2019년 달력 만들기)\n",
    "\n",
    "month = 12\n",
    "last_day = 31\n",
    "print('\\t\\t\\t2019년 {}월\\n'.format(month))\n",
    "print('\\n 일\\n 월\\n 화\\n 수\\n 목\\n 금\\n 토\\n')\n",
    "for i in range(1, last_day+1):\n",
    "    print('{}\\t' .format(i),end = '')\n",
    "    if i % 7 == 0:\n",
    "        print()\n",
    "\n",
    "\n",
    "\n",
    "\n",
    "\n",
    "\n",
    "\n",
    "\n",
    "\n",
    "\n",
    "\n",
    "\n",
    "\n",
    "\n",
    "\n",
    "\n",
    "\n",
    "\n",
    "\n",
    "\n",
    "\n",
    "\n",
    "\n",
    "\n",
    "\n"
   ]
  },
  {
   "cell_type": "code",
   "execution_count": null,
   "metadata": {},
   "outputs": [],
   "source": [
    "\"\""
   ]
  }
 ],
 "metadata": {
  "kernelspec": {
   "display_name": "Python 3",
   "language": "python",
   "name": "python3"
  },
  "language_info": {
   "codemirror_mode": {
    "name": "ipython",
    "version": 3
   },
   "file_extension": ".py",
   "mimetype": "text/x-python",
   "name": "python",
   "nbconvert_exporter": "python",
   "pygments_lexer": "ipython3",
   "version": "3.7.4"
  }
 },
 "nbformat": 4,
 "nbformat_minor": 2
}
