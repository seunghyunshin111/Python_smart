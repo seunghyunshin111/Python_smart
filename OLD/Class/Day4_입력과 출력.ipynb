{
 "cells": [
  {
   "cell_type": "markdown",
   "metadata": {},
   "source": [
    "# 파일 읽고 쓰기 in Class"
   ]
  },
  {
   "cell_type": "code",
   "execution_count": 18,
   "metadata": {},
   "outputs": [],
   "source": [
    "# 파일 생성하기\n",
    "\n",
    "f = open(\"새파일.txt\", 'w')\n",
    "f.close()\n",
    "\n",
    "\n",
    "## close를 해줘야 함!\n",
    "## dead lock 걸림"
   ]
  },
  {
   "cell_type": "code",
   "execution_count": 3,
   "metadata": {},
   "outputs": [],
   "source": [
    "f = open(\"새파일.txt\", \"w\")\n",
    "\n",
    "for i in range(1, 11):\n",
    "    data = \"%d번째 줄입니다. \\n\" % i\n",
    "    \n",
    "    f.write(data)\n",
    "    \n",
    "f.close()"
   ]
  },
  {
   "cell_type": "code",
   "execution_count": 4,
   "metadata": {},
   "outputs": [
    {
     "name": "stdout",
     "output_type": "stream",
     "text": [
      "1번째 줄입니다. \n",
      "\n"
     ]
    }
   ],
   "source": [
    "# 첫 번째 줄만 읽어옴.\n",
    "\n",
    "f = open(\"C:/Python_study/새파일.txt\", 'r')\n",
    "\n",
    "line = f.readline()\n",
    "print(line)\n",
    "\n",
    "f.close()"
   ]
  },
  {
   "cell_type": "code",
   "execution_count": 5,
   "metadata": {},
   "outputs": [
    {
     "name": "stdout",
     "output_type": "stream",
     "text": [
      "1번째 줄입니다. \n",
      "\n",
      "2번째 줄입니다. \n",
      "\n",
      "3번째 줄입니다. \n",
      "\n",
      "4번째 줄입니다. \n",
      "\n",
      "5번째 줄입니다. \n",
      "\n",
      "6번째 줄입니다. \n",
      "\n",
      "7번째 줄입니다. \n",
      "\n",
      "8번째 줄입니다. \n",
      "\n",
      "9번째 줄입니다. \n",
      "\n",
      "10번째 줄입니다. \n",
      "\n"
     ]
    }
   ],
   "source": [
    "# 문서의 끝까지: while문\n",
    "\n",
    "f = open(\"새파일.txt\", 'r')\n",
    "\n",
    "while True:\n",
    "    line = f.readline()\n",
    "    \n",
    "    if not line:\n",
    "        break\n",
    "        \n",
    "    print(line)\n",
    "    \n",
    "f.close()"
   ]
  },
  {
   "cell_type": "code",
   "execution_count": null,
   "metadata": {},
   "outputs": [],
   "source": [
    "# 2\n",
    "\n",
    "while 1:\n",
    "    data = input()\n",
    "\n",
    "    if not data:\n",
    "        break\n",
    "        \n",
    "    print(data)"
   ]
  },
  {
   "cell_type": "code",
   "execution_count": 1,
   "metadata": {},
   "outputs": [
    {
     "name": "stdout",
     "output_type": "stream",
     "text": [
      "1번째 줄입니다. \n",
      "\n",
      "2번째 줄입니다. \n",
      "\n",
      "3번째 줄입니다. \n",
      "\n",
      "4번째 줄입니다. \n",
      "\n",
      "5번째 줄입니다. \n",
      "\n",
      "6번째 줄입니다. \n",
      "\n",
      "7번째 줄입니다. \n",
      "\n",
      "8번째 줄입니다. \n",
      "\n",
      "9번째 줄입니다. \n",
      "\n",
      "10번째 줄입니다. \n",
      "\n"
     ]
    }
   ],
   "source": [
    "# readlines()\n",
    "\n",
    "f = open(\"새파일.txt\", 'r')\n",
    "lines = f.readlines()\n",
    "\n",
    "for line in lines:\n",
    "    print(line)\n",
    "    \n",
    "f.close()"
   ]
  },
  {
   "cell_type": "code",
   "execution_count": 2,
   "metadata": {
    "scrolled": true
   },
   "outputs": [
    {
     "data": {
      "text/plain": [
       "['1번째 줄입니다. \\n',\n",
       " '2번째 줄입니다. \\n',\n",
       " '3번째 줄입니다. \\n',\n",
       " '4번째 줄입니다. \\n',\n",
       " '5번째 줄입니다. \\n',\n",
       " '6번째 줄입니다. \\n',\n",
       " '7번째 줄입니다. \\n',\n",
       " '8번째 줄입니다. \\n',\n",
       " '9번째 줄입니다. \\n',\n",
       " '10번째 줄입니다. \\n']"
      ]
     },
     "execution_count": 2,
     "metadata": {},
     "output_type": "execute_result"
    }
   ],
   "source": [
    "f = open(\"새파일.txt\", 'r')\n",
    "lines = f.readlines()\n",
    "lines"
   ]
  },
  {
   "cell_type": "code",
   "execution_count": 1,
   "metadata": {},
   "outputs": [],
   "source": [
    "f = open(\"새파일.txt\", 'r')\n",
    "lines = f.readlines()\n",
    "\n",
    "for line in lines:\n",
    "    pass  # 명령 없을 때 구조 완성용"
   ]
  },
  {
   "cell_type": "code",
   "execution_count": 3,
   "metadata": {
    "scrolled": false
   },
   "outputs": [
    {
     "ename": "FileNotFoundError",
     "evalue": "[Errno 2] No such file or directory: 'C:/doit/새파일.txt'",
     "output_type": "error",
     "traceback": [
      "\u001b[1;31m---------------------------------------------------------------------------\u001b[0m",
      "\u001b[1;31mFileNotFoundError\u001b[0m                         Traceback (most recent call last)",
      "\u001b[1;32m<ipython-input-3-11c645892540>\u001b[0m in \u001b[0;36m<module>\u001b[1;34m\u001b[0m\n\u001b[0;32m      1\u001b[0m \u001b[1;31m# read()\u001b[0m\u001b[1;33m\u001b[0m\u001b[1;33m\u001b[0m\u001b[1;33m\u001b[0m\u001b[0m\n\u001b[0;32m      2\u001b[0m \u001b[1;33m\u001b[0m\u001b[0m\n\u001b[1;32m----> 3\u001b[1;33m \u001b[0mf\u001b[0m \u001b[1;33m=\u001b[0m \u001b[0mopen\u001b[0m\u001b[1;33m(\u001b[0m\u001b[1;34m\"C:/doit/새파일.txt\"\u001b[0m\u001b[1;33m,\u001b[0m \u001b[1;34m'r'\u001b[0m\u001b[1;33m)\u001b[0m\u001b[1;33m\u001b[0m\u001b[1;33m\u001b[0m\u001b[0m\n\u001b[0m\u001b[0;32m      4\u001b[0m \u001b[0mdata\u001b[0m \u001b[1;33m=\u001b[0m \u001b[0mf\u001b[0m\u001b[1;33m.\u001b[0m\u001b[0mread\u001b[0m\u001b[1;33m(\u001b[0m\u001b[1;33m)\u001b[0m\u001b[1;33m\u001b[0m\u001b[1;33m\u001b[0m\u001b[0m\n\u001b[0;32m      5\u001b[0m \u001b[0mprint\u001b[0m\u001b[1;33m(\u001b[0m\u001b[0mdata\u001b[0m\u001b[1;33m)\u001b[0m\u001b[1;33m\u001b[0m\u001b[1;33m\u001b[0m\u001b[0m\n",
      "\u001b[1;31mFileNotFoundError\u001b[0m: [Errno 2] No such file or directory: 'C:/doit/새파일.txt'"
     ]
    }
   ],
   "source": [
    "# read()\n",
    "\n",
    "f = open(\"C:/doit/새파일.txt\", 'r')\n",
    "data = f.read()\n",
    "print(data)\n",
    "f.close()"
   ]
  },
  {
   "cell_type": "code",
   "execution_count": 4,
   "metadata": {},
   "outputs": [],
   "source": [
    "with open(\"foo.txt\", \"w\") as f:\n",
    "    f.write(\"Life is too short, you need python\")\n",
    "\n",
    "# 위와 같이 with문을 사용하면 with 블록을 벗어나는 순간\n",
    "# 열린 파일 객체 f가 자동으로 close되어 편리하다."
   ]
  },
  {
   "cell_type": "markdown",
   "metadata": {},
   "source": [
    "# 사용자 입력과 출력"
   ]
  },
  {
   "cell_type": "code",
   "execution_count": 8,
   "metadata": {},
   "outputs": [
    {
     "ename": "SyntaxError",
     "evalue": "invalid syntax (<ipython-input-8-5f7ba3799f76>, line 4)",
     "output_type": "error",
     "traceback": [
      "\u001b[1;36m  File \u001b[1;32m\"<ipython-input-8-5f7ba3799f76>\"\u001b[1;36m, line \u001b[1;32m4\u001b[0m\n\u001b[1;33m    Life is too short, you need python\u001b[0m\n\u001b[1;37m                    ^\u001b[0m\n\u001b[1;31mSyntaxError\u001b[0m\u001b[1;31m:\u001b[0m invalid syntax\n"
     ]
    }
   ],
   "source": [
    "# input\n",
    "\n",
    "a = input()\n",
    "Life is too short, you need python\n",
    "\n",
    "print(a)"
   ]
  },
  {
   "cell_type": "code",
   "execution_count": 9,
   "metadata": {},
   "outputs": [
    {
     "name": "stdout",
     "output_type": "stream",
     "text": [
      "숫자를 입력하세요: 3\n"
     ]
    }
   ],
   "source": [
    "number = input(\"숫자를 입력하세요: \")"
   ]
  },
  {
   "cell_type": "code",
   "execution_count": 10,
   "metadata": {},
   "outputs": [
    {
     "name": "stdout",
     "output_type": "stream",
     "text": [
      "3\n"
     ]
    }
   ],
   "source": [
    "print(number)  # 제대로 입력됐는지 확인!"
   ]
  },
  {
   "cell_type": "code",
   "execution_count": 12,
   "metadata": {},
   "outputs": [
    {
     "name": "stdout",
     "output_type": "stream",
     "text": [
      "123\n",
      "Python\n",
      "[1, 2, 3]\n"
     ]
    }
   ],
   "source": [
    "# print 사용 예\n",
    "\n",
    "a = 123\n",
    "print(a)\n",
    "\n",
    "a = \"Python\"\n",
    "print(a)\n",
    "\n",
    "a = [1, 2, 3]\n",
    "print(a)"
   ]
  },
  {
   "cell_type": "code",
   "execution_count": 13,
   "metadata": {},
   "outputs": [
    {
     "name": "stdout",
     "output_type": "stream",
     "text": [
      "lifeistoo short\n",
      "lifeistoo short\n"
     ]
    }
   ],
   "source": [
    "# 큰따옴표(\"\")로 둘러싸인 문자열은 + 연산과 동일하다\n",
    "\n",
    "print(\"life\" \"is\" \"too short\")\n",
    "print(\"life\" + \"is\" + \"too short\")"
   ]
  },
  {
   "cell_type": "code",
   "execution_count": 14,
   "metadata": {},
   "outputs": [
    {
     "name": "stdout",
     "output_type": "stream",
     "text": [
      "life is too short\n"
     ]
    }
   ],
   "source": [
    "# 문자열 띄어쓰기는 콤마(,)로 한다.\n",
    "\n",
    "print(\"life\", \"is\", \"too short\")"
   ]
  },
  {
   "cell_type": "code",
   "execution_count": 15,
   "metadata": {
    "scrolled": true
   },
   "outputs": [
    {
     "name": "stdout",
     "output_type": "stream",
     "text": [
      "0 1 2 3 4 5 6 7 8 9 "
     ]
    }
   ],
   "source": [
    "# 한 줄에 결괏값 출력하기\n",
    "# 한 줄에 결괏값을 계속 이어서 출력하려면 매개변수 end를 사용해 끝 문자를 지정해야 한다.\n",
    "\n",
    "for i in range(10):\n",
    "    print(i, end = ' ')"
   ]
  },
  {
   "cell_type": "markdown",
   "metadata": {},
   "source": [
    "# 파일 읽고 쓰기"
   ]
  },
  {
   "cell_type": "code",
   "execution_count": 16,
   "metadata": {},
   "outputs": [],
   "source": [
    "# 파일 생성하기\n",
    "\n",
    "f = open(\"c:/Python_study/data/새파일2.txt\", \"w\")\n",
    "f.close()\n",
    "\n",
    "\n",
    "# open(): 파일 생성, '파일이름', '파일 열기 모드'를 입력값으로 받고 파일 객체를 돌려준다.\n",
    "# 파일 객체 = open(파일 이름, 파일 열기 모드)\n",
    "\n",
    "# r : 읽기 모드\n",
    "# w : 쓰기 모드\n",
    "# a : 추가 모드(파일의 마지막에 새로운 내용을 추가시킬 때 사용)"
   ]
  },
  {
   "cell_type": "code",
   "execution_count": null,
   "metadata": {},
   "outputs": [],
   "source": [
    "# 파일을 쓰기 모드로 열면, 해당 파일이 존재할 경우 원래 있던 내용이 모두 사라지고,\n",
    "# 해당 파일이 존재하지 않으면 새로운 파일이 생성된다.\n",
    "\n",
    "# f.close()는 열려 있는 파일 객체를 닫아주는 역할을 한다."
   ]
  },
  {
   "cell_type": "code",
   "execution_count": 17,
   "metadata": {},
   "outputs": [],
   "source": [
    "# 파일을 쓰기 모드로 열어 출력값 적기\n",
    "\n",
    "f = open(\"c:/Python_study/data/새파일2.txt\", \"w\")\n",
    "\n",
    "for i in range(1, 11):\n",
    "    data = \"%d번째 줄입니다. \\n\" % i\n",
    "    \n",
    "    f.write(data)\n",
    "    \n",
    "f.close()"
   ]
  },
  {
   "cell_type": "code",
   "execution_count": 19,
   "metadata": {},
   "outputs": [
    {
     "name": "stdout",
     "output_type": "stream",
     "text": [
      "1번째 줄입니다. \n",
      "\n"
     ]
    }
   ],
   "source": [
    "# readline()\n",
    "\n",
    "f = open(\"c:/Python_study/data/새파일2.txt\", 'r')\n",
    "\n",
    "line = f.readline()\n",
    "\n",
    "print(line)\n",
    "f.close()"
   ]
  },
  {
   "cell_type": "code",
   "execution_count": 20,
   "metadata": {},
   "outputs": [
    {
     "name": "stdout",
     "output_type": "stream",
     "text": [
      "1번째 줄입니다. \n",
      "\n",
      "2번째 줄입니다. \n",
      "\n",
      "3번째 줄입니다. \n",
      "\n",
      "4번째 줄입니다. \n",
      "\n",
      "5번째 줄입니다. \n",
      "\n",
      "6번째 줄입니다. \n",
      "\n",
      "7번째 줄입니다. \n",
      "\n",
      "8번째 줄입니다. \n",
      "\n",
      "9번째 줄입니다. \n",
      "\n",
      "10번째 줄입니다. \n",
      "\n"
     ]
    }
   ],
   "source": [
    "# while문\n",
    "\n",
    "f = open(\"c:/Python_study/data/새파일2.txt\", 'r')\n",
    "\n",
    "while True:\n",
    "    line = f.readline()\n",
    "    if not line:\n",
    "        break\n",
    "        \n",
    "    print(line)\n",
    "    \n",
    "f.close()"
   ]
  },
  {
   "cell_type": "code",
   "execution_count": 21,
   "metadata": {},
   "outputs": [
    {
     "name": "stdout",
     "output_type": "stream",
     "text": [
      "1번째 줄입니다. \n",
      "\n",
      "2번째 줄입니다. \n",
      "\n",
      "3번째 줄입니다. \n",
      "\n",
      "4번째 줄입니다. \n",
      "\n",
      "5번째 줄입니다. \n",
      "\n",
      "6번째 줄입니다. \n",
      "\n",
      "7번째 줄입니다. \n",
      "\n",
      "8번째 줄입니다. \n",
      "\n",
      "9번째 줄입니다. \n",
      "\n",
      "10번째 줄입니다. \n",
      "\n"
     ]
    }
   ],
   "source": [
    "# readlines()\n",
    "\n",
    "f = open(\"c:/Python_study/data/새파일2.txt\", 'r')\n",
    "\n",
    "lines = f.readlines()\n",
    "\n",
    "for line in lines:\n",
    "    print(line)\n",
    "    \n",
    "f.close()"
   ]
  },
  {
   "cell_type": "code",
   "execution_count": 22,
   "metadata": {
    "scrolled": true
   },
   "outputs": [
    {
     "name": "stdout",
     "output_type": "stream",
     "text": [
      "1번째 줄입니다. \n",
      "2번째 줄입니다. \n",
      "3번째 줄입니다. \n",
      "4번째 줄입니다. \n",
      "5번째 줄입니다. \n",
      "6번째 줄입니다. \n",
      "7번째 줄입니다. \n",
      "8번째 줄입니다. \n",
      "9번째 줄입니다. \n",
      "10번째 줄입니다. \n",
      "\n"
     ]
    }
   ],
   "source": [
    "# read()\n",
    "# 파일의 전체 내용을 '문자열'로 돌려준다.\n",
    "\n",
    "f = open(\"c:/Python_study/data/새파일2.txt\", 'r')\n",
    "\n",
    "data = f.read()\n",
    "\n",
    "print(data)\n",
    "\n",
    "f.close()\n",
    "\n",
    "\n",
    "# data는 파일의 전체 내용이다."
   ]
  },
  {
   "cell_type": "code",
   "execution_count": 23,
   "metadata": {},
   "outputs": [],
   "source": [
    "# 파일에 새로운 내용 추가하기\n",
    "# 쓰기모드('w')로 파일을 열 때, 이미 존재하는 파일을 열면 그 파일의 내용이 모두 사라진다.\n",
    "# 원래 있던 값을 유지하면서, 새로운 값만 추가하는 경우는 추가 모드('a') 사용!\n",
    "\n",
    "f = open(\"c:/Python_study/data/새파일2.txt\", 'a')\n",
    "\n",
    "for i in range(11, 20):\n",
    "    data = \"%d번째 줄입니다. \\n\" % i\n",
    "    \n",
    "    f.write(data)\n",
    "    \n",
    "f.close()"
   ]
  },
  {
   "cell_type": "code",
   "execution_count": 25,
   "metadata": {},
   "outputs": [],
   "source": [
    "# with문\n",
    "# 파일을 열고 닫는 것이 자동!\n",
    "\n",
    "with open(\"c:/Python_study/data/foo.txt\", \"w\") as f:\n",
    "    f.write(\"Have a good time\")"
   ]
  },
  {
   "cell_type": "code",
   "execution_count": 26,
   "metadata": {},
   "outputs": [
    {
     "name": "stdout",
     "output_type": "stream",
     "text": [
      "-f\n",
      "C:\\Users\\student\\AppData\\Roaming\\jupyter\\runtime\\kernel-de2cd5dc-5749-479b-9c61-4b29dad6ec30.json\n"
     ]
    }
   ],
   "source": [
    "# sys 모듈로 매개변수 주기\n",
    "\n",
    "import sys\n",
    "\n",
    "args = sys.argv[1:]\n",
    "for i in args:\n",
    "    print(i)"
   ]
  }
 ],
 "metadata": {
  "kernelspec": {
   "display_name": "Python 3",
   "language": "python",
   "name": "python3"
  },
  "language_info": {
   "codemirror_mode": {
    "name": "ipython",
    "version": 3
   },
   "file_extension": ".py",
   "mimetype": "text/x-python",
   "name": "python",
   "nbconvert_exporter": "python",
   "pygments_lexer": "ipython3",
   "version": "3.7.4"
  }
 },
 "nbformat": 4,
 "nbformat_minor": 2
}
