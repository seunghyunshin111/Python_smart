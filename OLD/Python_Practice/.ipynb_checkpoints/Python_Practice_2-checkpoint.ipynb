{
 "cells": [
  {
   "cell_type": "markdown",
   "metadata": {},
   "source": [
    "### Python_Practice_2\n",
    "\n",
    "# 객체와 클래스\n",
    "\n",
    "## 객체란?\n",
    "\n",
    "## 객체의 특징인 속성은 '변수', 객체가 할 수 있는 일인 행동은 '함수'로 구현합니다.\n",
    "\n",
    "## 객체는 변수 + 함수"
   ]
  },
  {
   "cell_type": "code",
   "execution_count": 40,
   "metadata": {},
   "outputs": [
    {
     "data": {
      "text/plain": [
       "<__main__.Bicycle at 0x19dc6acd908>"
      ]
     },
     "execution_count": 40,
     "metadata": {},
     "output_type": "execute_result"
    }
   ],
   "source": [
    "class Bicycle():  # 클래스 선언\n",
    "    pass\n",
    "  \n",
    "my_bicycle = Bicycle()\n",
    "my_bicycle"
   ]
  },
  {
   "cell_type": "code",
   "execution_count": 41,
   "metadata": {},
   "outputs": [],
   "source": [
    "# my_bicycle 객체에 속성값을 설정하는 예\n",
    "\n",
    "my_bicycle.wheel_size = 26\n",
    "my_bicycle.color = 'black'"
   ]
  },
  {
   "cell_type": "code",
   "execution_count": 42,
   "metadata": {},
   "outputs": [
    {
     "name": "stdout",
     "output_type": "stream",
     "text": [
      "바퀴 크기: 26\n",
      "색상: black\n"
     ]
    }
   ],
   "source": [
    "# 객체의 속성값을 가져와서 출력\n",
    "\n",
    "print(\"바퀴 크기:\", my_bicycle.wheel_size) # 객체의 속성 출력\n",
    "print(\"색상:\", my_bicycle.color)"
   ]
  },
  {
   "cell_type": "code",
   "execution_count": 43,
   "metadata": {},
   "outputs": [],
   "source": [
    "# class에 함수 추가\n",
    "\n",
    "class Bicycle():\n",
    "  \n",
    "  def move(self, speed):\n",
    "        print(\"자전거: 시속 {0}킬로미터로 전진\".format(speed))\n",
    "\n",
    "  def turn(self, direction):\n",
    "        print(\"자전거: {0}회전\".format(direction))\n",
    "  \n",
    "  def stop(self):\n",
    "        print(\"자전거({0}, {1}): 정지 \".format(self.wheel_size, self.color))"
   ]
  },
  {
   "cell_type": "code",
   "execution_count": 44,
   "metadata": {},
   "outputs": [
    {
     "name": "stdout",
     "output_type": "stream",
     "text": [
      "자전거: 시속 30킬로미터로 전진\n",
      "자전거: 좌회전\n",
      "자전거(26, black): 정지 \n"
     ]
    }
   ],
   "source": [
    "# 메서드 호출\n",
    "  \n",
    "my_bicycle = Bicycle() # Bicycle 클래스의 인스턴스인 my_bicycle 객체 생성\n",
    "\n",
    "my_bicycle.wheel_size = 26 # 객체의 속성 설정\n",
    "my_bicycle.color = 'black'\n",
    "\n",
    "my_bicycle.move(30)  # 객체의 메서드 호출\n",
    "my_bicycle.turn('좌')\n",
    "my_bicycle.stop()  # 인자가 있는 함수의 경우에는 인자 없이 객체의 메서드 호출!"
   ]
  },
  {
   "cell_type": "code",
   "execution_count": 45,
   "metadata": {},
   "outputs": [
    {
     "name": "stdout",
     "output_type": "stream",
     "text": [
      "자전거: 시속 20킬로미터로 전진\n",
      "자전거: 좌회전\n",
      "자전거(27, red): 정지 \n"
     ]
    }
   ],
   "source": [
    "# 객체 생성 예\n",
    "\n",
    "bicycle1 = Bicycle() # Bicycle 클래스의 인스턴스인 bicycle1 객체 생성\n",
    "\n",
    "bicycle1.wheel_size = 27 # 객체의 속성 설정\n",
    "bicycle1.color = 'red'\n",
    "\n",
    "bicycle1.move(20)\n",
    "bicycle1.turn('좌')\n",
    "bicycle1.stop()"
   ]
  },
  {
   "cell_type": "code",
   "execution_count": 46,
   "metadata": {},
   "outputs": [],
   "source": [
    "# 객체 초기화\n",
    "\n",
    "# Bicycle 클래스를 선언하고 객체를 생성한 후에 객체의 속성을 설정\n",
    "# 클래스를 선언할 때 초기화 함수 __init__()를 구현하면, 객체를 생성하는 동시에 속성값을 지정할 수 있다. \n",
    "# __init__()는 클래스의 인스턴스가 생성될 때,(즉 객체가 생성될 때) 자동으로 실행되기 때문에 __init__()에 초기화하려는 인자를 정의하면\n",
    "##객체를 생성할 때 속성을 초기화할 수 있습니다.\n",
    "\n",
    "\n",
    "class Bicycle():\n",
    "    \n",
    "    def __init__(self, wheel_size, color):\n",
    "        self.wheel_size = wheel_size\n",
    "        self.color = color\n",
    "        \n",
    "    def move(self, speed):\n",
    "        print(\"자전거: 시속 {0}킬로미터로 전진\".format(speed))\n",
    "        \n",
    "    def turn(self, direction):\n",
    "        print(\"자전거: {0}회전\".format(direction))\n",
    "        \n",
    "    def stop(self):\n",
    "        print(\"자전거({0}, {1}): 정지 \". format(self.wheel_size, self.color))"
   ]
  },
  {
   "cell_type": "code",
   "execution_count": 47,
   "metadata": {},
   "outputs": [
    {
     "name": "stdout",
     "output_type": "stream",
     "text": [
      "자전거: 시속 30킬로미터로 전진\n",
      "자전거: 좌회전\n",
      "자전거(26, black): 정지 \n"
     ]
    }
   ],
   "source": [
    "# 클래스에서 객체를 생성할 때 속성값을 지정해서 초기화하는 방법\n",
    "\n",
    "my_bicycle = Bicycle(26, 'black')  # 객체 생성과 동시에 속성값을 지정\n",
    "\n",
    "my_bicycle.move(30)  # 객체 메서드 호출\n",
    "my_bicycle.turn('좌')\n",
    "my_bicycle.stop()\n",
    "\n",
    "##__init__()를 구현하지 않았을 때는 객체를 생성한 후에 속성을 지정해야 하지만,\n",
    "##초기화 함수를 정의한 후로는 객체를 생성하면서 동시에 속성을 지정할 수 있습니다!"
   ]
  },
  {
   "cell_type": "code",
   "execution_count": 48,
   "metadata": {},
   "outputs": [],
   "source": [
    "# 클래스를 구성하는 변수와 함수\n",
    "\n",
    "class Car():\n",
    "    instance_count = 0 # 클래스 변수 생성 및 초기화\n",
    "    \n",
    "    def __init__(self, size, color):\n",
    "        self.size = size  # 인스턴스 변수 생성 및 초기화\n",
    "        self.color = color\n",
    "        Car.instance_count = Car.instance_count + 1 # 클래스 변수 이용\n",
    "        print(\"자동차 객체의 수: {0}\".format(Car.instance_count))\n",
    "        \n",
    "    def move(self):\n",
    "        print(\"자동차({0} & {1})가 움직입니다.\".format(self.size, self.color))\n",
    "        \n",
    "## instance_count를 초기화 함수 __init__()에서 Car.instance_count 형식으로 이용했습니다."
   ]
  },
  {
   "cell_type": "code",
   "execution_count": 49,
   "metadata": {},
   "outputs": [
    {
     "name": "stdout",
     "output_type": "stream",
     "text": [
      "자동차 객체의 수: 1\n",
      "자동차 객체의 수: 2\n"
     ]
    },
    {
     "data": {
      "text/plain": [
       "2"
      ]
     },
     "execution_count": 49,
     "metadata": {},
     "output_type": "execute_result"
    }
   ],
   "source": [
    "car1 = Car('small', 'white')\n",
    "car2 = Car('big', 'black')\n",
    "\n",
    "##클래스 Car를 이용해 객체 car1과 car2 생성.\n",
    "##객체를 생성할 때마다 클래스변수 instance_count가 1씩 증가해서 Car 클래스의 객체가 몇 개 생성됐는지 알 수 있습니다. \n",
    "\n",
    "Car.instance_count"
   ]
  },
  {
   "cell_type": "code",
   "execution_count": 50,
   "metadata": {},
   "outputs": [
    {
     "name": "stdout",
     "output_type": "stream",
     "text": [
      "자동차(small & white)가 움직입니다.\n",
      "자동차(big & black)가 움직입니다.\n"
     ]
    }
   ],
   "source": [
    "# 객체의 메서드 실행\n",
    "\n",
    "car1.move()\n",
    "car2.move()"
   ]
  },
  {
   "cell_type": "markdown",
   "metadata": {},
   "source": [
    "## 클래스에서 정의할 수 있는 함수(메서드)에는 기능과 사용법에 따라\n",
    "## 인스턴스 메서드(instance method), 정적 메서드(static method), 클래스 메서드(class method)가 있습니다."
   ]
  },
  {
   "cell_type": "code",
   "execution_count": 53,
   "metadata": {},
   "outputs": [],
   "source": [
    "# 인스턴스 메서드\n",
    "\n",
    "##인스턴스 메서드는 앞서 살펴본 함수\n",
    "##함수를 정의할 때 첫 인자로 self가 필요\n",
    "## self   :   클래스의 인스턴스(객체) 자신\n",
    "##self를 이용해 인스턴스 변수를 만들고 사용\n",
    "##__init__(), move(), auto_cruise()는 인스턴스 메시지\n",
    "\n",
    "\n",
    "# Car 클래스 선언\n",
    "\n",
    "class Car():\n",
    "    instance_count = 0  # 클래스 변수 생성 및 초기화\n",
    "    \n",
    "    # 초기화 함수(인스턴스 메서드)\n",
    "    def __init__(self, size, color):\n",
    "        self.size = size  # 인스턴스 변수 생성 및 초기화\n",
    "        self.color = color\n",
    "        Car.instance_count = Car.instance_count + 1  # 클래스 변수 이용\n",
    "        print(\"자동차 객체의 수: {0}\".format(Car.instance_count))\n",
    "        \n",
    "    # 인스턴스 메서드\n",
    "    def move(self, speed):\n",
    "        self.speed = speed  # 인스턴스 변수 생성\n",
    "        print(\"자동차({0} & {1})가 \".format(self.size, self.color), end = '')\n",
    "        print(\"시속 {0}킬로미터로 전진\".format(self.speed))\n",
    "        \n",
    "    # 인스턴스 메서드\n",
    "    def auto_cruise(self):\n",
    "        print(\"자율 주행 모드\")\n",
    "        self.move(self.speed) # move() 함수의 인자로 인스턴스 변수 입력!"
   ]
  },
  {
   "cell_type": "code",
   "execution_count": 54,
   "metadata": {},
   "outputs": [
    {
     "name": "stdout",
     "output_type": "stream",
     "text": [
      "자동차 객체의 수: 1\n",
      "자동차 객체의 수: 2\n",
      "자동차(small & red)가 시속 80키롤미터로 전진\n",
      "자율 주행 모드\n"
     ]
    },
    {
     "ename": "AttributeError",
     "evalue": "'Car' object has no attribute 'speed'",
     "output_type": "error",
     "traceback": [
      "\u001b[1;31m---------------------------------------------------------------------------\u001b[0m",
      "\u001b[1;31mAttributeError\u001b[0m                            Traceback (most recent call last)",
      "\u001b[1;32m<ipython-input-54-943966d756f9>\u001b[0m in \u001b[0;36m<module>\u001b[1;34m\u001b[0m\n\u001b[0;32m      3\u001b[0m \u001b[1;33m\u001b[0m\u001b[0m\n\u001b[0;32m      4\u001b[0m \u001b[0mcar1\u001b[0m\u001b[1;33m.\u001b[0m\u001b[0mmove\u001b[0m\u001b[1;33m(\u001b[0m\u001b[1;36m80\u001b[0m\u001b[1;33m)\u001b[0m \u001b[1;31m# 객체(car1)의 move() 메서드 호출\u001b[0m\u001b[1;33m\u001b[0m\u001b[1;33m\u001b[0m\u001b[0m\n\u001b[1;32m----> 5\u001b[1;33m \u001b[0mcar2\u001b[0m\u001b[1;33m.\u001b[0m\u001b[0mauto_cruise\u001b[0m\u001b[1;33m(\u001b[0m\u001b[1;33m)\u001b[0m\u001b[1;33m\u001b[0m\u001b[1;33m\u001b[0m\u001b[0m\n\u001b[0m",
      "\u001b[1;32m<ipython-input-53-56dcf77c12a8>\u001b[0m in \u001b[0;36mauto_cruise\u001b[1;34m(self)\u001b[0m\n\u001b[0;32m     29\u001b[0m     \u001b[1;32mdef\u001b[0m \u001b[0mauto_cruise\u001b[0m\u001b[1;33m(\u001b[0m\u001b[0mself\u001b[0m\u001b[1;33m)\u001b[0m\u001b[1;33m:\u001b[0m\u001b[1;33m\u001b[0m\u001b[1;33m\u001b[0m\u001b[0m\n\u001b[0;32m     30\u001b[0m         \u001b[0mprint\u001b[0m\u001b[1;33m(\u001b[0m\u001b[1;34m\"자율 주행 모드\"\u001b[0m\u001b[1;33m)\u001b[0m\u001b[1;33m\u001b[0m\u001b[1;33m\u001b[0m\u001b[0m\n\u001b[1;32m---> 31\u001b[1;33m         \u001b[0mself\u001b[0m\u001b[1;33m.\u001b[0m\u001b[0mmove\u001b[0m\u001b[1;33m(\u001b[0m\u001b[0mself\u001b[0m\u001b[1;33m.\u001b[0m\u001b[0mspeed\u001b[0m\u001b[1;33m)\u001b[0m \u001b[1;31m# move() 함수의 인자로 인스턴스 변수 입력!\u001b[0m\u001b[1;33m\u001b[0m\u001b[1;33m\u001b[0m\u001b[0m\n\u001b[0m",
      "\u001b[1;31mAttributeError\u001b[0m: 'Car' object has no attribute 'speed'"
     ]
    }
   ],
   "source": [
    "car1 = Car('small', 'red') # 객체 생성(car1)\n",
    "car2 = Car('big', 'green')\n",
    "\n",
    "car1.move(80) # 객체(car1)의 move() 메서드 호출\n",
    "\n",
    "car2.auto_cruise()"
   ]
  },
  {
   "cell_type": "code",
   "execution_count": 56,
   "metadata": {},
   "outputs": [
    {
     "ename": "IndentationError",
     "evalue": "expected an indented block (<ipython-input-56-5f2316d0dcd9>, line 8)",
     "output_type": "error",
     "traceback": [
      "\u001b[1;36m  File \u001b[1;32m\"<ipython-input-56-5f2316d0dcd9>\"\u001b[1;36m, line \u001b[1;32m8\u001b[0m\n\u001b[1;33m    def move(self, speed):\u001b[0m\n\u001b[1;37m      ^\u001b[0m\n\u001b[1;31mIndentationError\u001b[0m\u001b[1;31m:\u001b[0m expected an indented block\n"
     ]
    }
   ],
   "source": [
    "# 정적 메서드\n",
    "\n",
    "# Car class 선언\n",
    "\n",
    "class Car():\n",
    "    \n",
    "    def __init__(self, wheel_size, color):\n",
    "    def move(self, speed):\n",
    "    def auto_cruise(self):\n",
    "        \n",
    "    # 정적 메서드\n",
    "    @staticmethod\n",
    "    \n",
    "    def check_type(model_code):\n",
    "        if(model_code >= 20):\n",
    "            print(\"전기차\")\n",
    "            \n",
    "        elif(10 <= model_code <20):\n",
    "            print(\"가솔린차\")\n",
    "        \n",
    "        else:\n",
    "            print(\"디젤차\")\n",
    "        \n",
    "Car.check_type(25)\n",
    "Car.check_type(5)"
   ]
  },
  {
   "cell_type": "code",
   "execution_count": null,
   "metadata": {},
   "outputs": [],
   "source": [
    "# 클래스 메서드\n",
    "##첫 번째 인자로 cls가 필요\n",
    "## @classmethod 지정 필요\n"
   ]
  }
 ],
 "metadata": {
  "kernelspec": {
   "display_name": "Python 3",
   "language": "python",
   "name": "python3"
  },
  "language_info": {
   "codemirror_mode": {
    "name": "ipython",
    "version": 3
   },
   "file_extension": ".py",
   "mimetype": "text/x-python",
   "name": "python",
   "nbconvert_exporter": "python",
   "pygments_lexer": "ipython3",
   "version": "3.7.4"
  }
 },
 "nbformat": 4,
 "nbformat_minor": 2
}
