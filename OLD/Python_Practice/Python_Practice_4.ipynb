{
 "cells": [
  {
   "cell_type": "code",
   "execution_count": 3,
   "metadata": {},
   "outputs": [
    {
     "name": "stdout",
     "output_type": "stream",
     "text": [
      "어디까지 계산할까요: 10\n",
      "정수의 합은:  55\n"
     ]
    }
   ],
   "source": [
    "# 실습 예제\n",
    "\n",
    "Q = int(input(\"어디까지 계산할까요: \"))\n",
    "\n",
    "sum = 0\n",
    "\n",
    "for i in range(Q + 1):\n",
    "    sum += i\n",
    "\n",
    "# return 선언 안 해야 답이 나옴.\n",
    "\n",
    "print(\"정수의 합은: \", sum)"
   ]
  },
  {
   "cell_type": "code",
   "execution_count": 7,
   "metadata": {},
   "outputs": [
    {
     "name": "stdout",
     "output_type": "stream",
     "text": [
      "정수를 입력하시오: 10\n",
      "입력된 정수의 값의 팩토리얼은?  10 ! 3628800.0 이다.\n"
     ]
    }
   ],
   "source": [
    "# for문으로 팩토리얼 계산!\n",
    "\n",
    "F = 1.0\n",
    "n = int(input(\"정수를 입력하시오: \"))\n",
    "\n",
    "for i in range(1, n + 1):\n",
    "    F *= i\n",
    "    \n",
    "print(\"입력된 정수의 값의 팩토리얼은? \", A, \"!\", F, \"이다.\")"
   ]
  },
  {
   "cell_type": "code",
   "execution_count": 8,
   "metadata": {},
   "outputs": [
    {
     "name": "stdout",
     "output_type": "stream",
     "text": [
      "자리수의 합은 10입니다.\n"
     ]
    }
   ],
   "source": [
    "# 자리수의 합\n",
    "\n",
    "number = 1234\n",
    "\n",
    "sum = 0\n",
    "\n",
    "while number > 0:\n",
    "    digit = number % 10\n",
    "    \n",
    "    sum += digit\n",
    "    number //= 10\n",
    "    \n",
    "print(\"자리수의 합은 %d입니다.\" % sum)"
   ]
  },
  {
   "cell_type": "code",
   "execution_count": 9,
   "metadata": {},
   "outputs": [
    {
     "name": "stdout",
     "output_type": "stream",
     "text": [
      "1부터 100 사이의 숫자를 맞추시오\n",
      "숫자를 입력하시오: 50\n",
      "낮음\n",
      "정답은  99\n"
     ]
    }
   ],
   "source": [
    "# 숫자 맞추기 게임\n",
    "\n",
    "import random\n",
    "\n",
    "tries = 0\n",
    "number = random.randint(1, 100)\n",
    "\n",
    "print(\"1부터 100 사이의 숫자를 맞추시오\")\n",
    "\n",
    "while tries < 10:\n",
    "    guess = int(input(\"숫자를 입력하시오: \"))\n",
    "    \n",
    "    tries += i\n",
    "    \n",
    "    if guess < number:\n",
    "        print(\"낮음\")\n",
    "        \n",
    "    elif guess > number:\n",
    "        print(\"높음\")\n",
    "        \n",
    "    else:\n",
    "        break\n",
    "        \n",
    "if guess == number:\n",
    "    print(\"축하합니다. 시도횟수= \", tries)\n",
    "    \n",
    "else:\n",
    "    print(\"정답은 \", number)"
   ]
  }
 ],
 "metadata": {
  "kernelspec": {
   "display_name": "Python 3",
   "language": "python",
   "name": "python3"
  },
  "language_info": {
   "codemirror_mode": {
    "name": "ipython",
    "version": 3
   },
   "file_extension": ".py",
   "mimetype": "text/x-python",
   "name": "python",
   "nbconvert_exporter": "python",
   "pygments_lexer": "ipython3",
   "version": "3.7.4"
  }
 },
 "nbformat": 4,
 "nbformat_minor": 2
}
