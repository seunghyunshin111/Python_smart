{
 "cells": [
  {
   "cell_type": "code",
   "execution_count": 7,
   "metadata": {},
   "outputs": [
    {
     "name": "stdout",
     "output_type": "stream",
     "text": [
      "홀수!\n",
      "홀수!\n"
     ]
    }
   ],
   "source": [
    "# Q1\n",
    "# 주어진 자연수가 홀수인지 짝수인지 판별해 주는 함수(is_odd)를 작성해 보자.\n",
    "\n",
    "def is_odd(number):\n",
    "    if number % 2 == 0:\n",
    "        print(\"짝수!\")\n",
    "        \n",
    "    else:\n",
    "        print(\"홀수!\")\n",
    "        \n",
    "        \n",
    "is_odd(3)\n",
    "a = is_odd(5)\n"
   ]
  },
  {
   "cell_type": "code",
   "execution_count": 10,
   "metadata": {},
   "outputs": [
    {
     "data": {
      "text/plain": [
       "False"
      ]
     },
     "execution_count": 10,
     "metadata": {},
     "output_type": "execute_result"
    }
   ],
   "source": [
    "# 2\n",
    "\n",
    "def is_odd(number):\n",
    "    if number % 2 == 0:\n",
    "        return True\n",
    "        \n",
    "    else:\n",
    "        return False\n",
    "        \n",
    "        \n",
    "is_odd(3)"
   ]
  },
  {
   "cell_type": "code",
   "execution_count": 11,
   "metadata": {},
   "outputs": [
    {
     "data": {
      "text/plain": [
       "True"
      ]
     },
     "execution_count": 11,
     "metadata": {},
     "output_type": "execute_result"
    }
   ],
   "source": [
    "# 3\n",
    "\n",
    "is_odd = lambda x: True if x % 2 == 1 else False\n",
    "is_odd(3)"
   ]
  },
  {
   "cell_type": "code",
   "execution_count": 19,
   "metadata": {},
   "outputs": [
    {
     "name": "stdout",
     "output_type": "stream",
     "text": [
      "3.0\n",
      "1.5\n"
     ]
    }
   ],
   "source": [
    "# Q2\n",
    "# 입력으로 들어오는 모든 수의 평균 값을 계산해 주는 함수를 작성해 보자.\n",
    "# (단 입력으로 들어오는 수의 개수는 정해져 있지 않다.)\n",
    "\n",
    "# ※ 평균 값을 구할 때 len 함수를 사용해 보자.\n",
    "\n",
    "\n",
    "def num_avg(*args):   # *args: 입력 개수에 상관없이 쓰기 위해 *args 사용!\n",
    "    result = 0\n",
    "    \n",
    "    for arg in args:  # * 붙이지 않음!\n",
    "        result += arg\n",
    "        \n",
    "    return result / len(args)\n",
    "    \n",
    "    \n",
    "a = num_avg(1, 2, 3, 4, 5)\n",
    "b = num_avg(1, 2)\n",
    "\n",
    "print(a)\n",
    "print(b)"
   ]
  },
  {
   "cell_type": "code",
   "execution_count": 20,
   "metadata": {},
   "outputs": [
    {
     "name": "stdout",
     "output_type": "stream",
     "text": [
      "첫 번째 숫자를 입력하세요: 5\n",
      "두 번째 숫자를 입력하세요:5\n",
      "두 수의 합은 55 입니다.\n"
     ]
    }
   ],
   "source": [
    "# Q3\n",
    "\n",
    "input1 = input(\"첫 번째 숫자를 입력하세요: \")\n",
    "input2 = input(\"두 번째 숫자를 입력하세요:\" )\n",
    "\n",
    "total = input1 + input2\n",
    "\n",
    "print(\"두 수의 합은 %s 입니다.\" % total)  # 오류!"
   ]
  },
  {
   "cell_type": "code",
   "execution_count": 21,
   "metadata": {},
   "outputs": [
    {
     "name": "stdout",
     "output_type": "stream",
     "text": [
      "첫 번째 숫자를 입력하세요: 5\n",
      "두 번째 숫자를 입력하세요:5\n",
      "두 수의 합은 10 입니다.\n"
     ]
    }
   ],
   "source": [
    "# int 함수를 사용해 오류를 수정하자!\n",
    "\n",
    "input1 = input(\"첫 번째 숫자를 입력하세요: \")\n",
    "input2 = input(\"두 번째 숫자를 입력하세요:\" )\n",
    "\n",
    "total = int(input1) + int(input2)\n",
    "\n",
    "print(\"두 수의 합은 %s 입니다.\" % total)  # 오류!"
   ]
  },
  {
   "cell_type": "code",
   "execution_count": 22,
   "metadata": {},
   "outputs": [
    {
     "name": "stdout",
     "output_type": "stream",
     "text": [
      "youneedpython\n",
      "youneedpython\n",
      "you need python\n",
      "youneedpython\n"
     ]
    }
   ],
   "source": [
    "# Q4\n",
    "# 출력 결과가 다른 하나를 골라보자. \n",
    "\n",
    "print(\"you\" \"need\" \"python\")\n",
    "print(\"you\"+\"need\"+\"python\")\n",
    "print(\"you\", \"need\", \"python\")  # 띄어쓰기 포함 출력\n",
    "print(\"\".join([\"you\", \"need\", \"python\"]))"
   ]
  },
  {
   "cell_type": "code",
   "execution_count": 28,
   "metadata": {},
   "outputs": [
    {
     "name": "stdout",
     "output_type": "stream",
     "text": [
      "1번 Trainig. \n",
      "\n",
      "2번 Trainig. \n",
      "\n",
      "3번 Trainig. \n",
      "\n",
      "4번 Trainig. \n",
      "\n",
      "5번 Trainig. \n",
      "\n",
      "6번 Trainig. \n",
      "\n",
      "7번 Trainig. \n",
      "\n",
      "8번 Trainig. \n",
      "\n",
      "9번 Trainig. \n",
      "\n",
      "10번 Trainig. \n",
      "\n"
     ]
    }
   ],
   "source": [
    "# Q5\n",
    "# txt 파일 생성/저장 후 읽기/출력하시오.\n",
    "\n",
    "f1 = open(\"c:/Python_study/data/test.txt\", 'w')\n",
    "\n",
    "for i in range(1, 11):\n",
    "    data = \"%d번 Trainig. \\n\" % i\n",
    "    \n",
    "    f1.write(data)\n",
    "    \n",
    "f1.close()\n",
    "\n",
    "\n",
    "\n",
    "f1 = open(\"c:/Python_study/data/test.txt\", 'r')\n",
    "\n",
    "lines = f1.readlines()\n",
    "\n",
    "for line in lines:\n",
    "    print(line)\n",
    "    \n",
    "f1.close()"
   ]
  },
  {
   "cell_type": "code",
   "execution_count": 30,
   "metadata": {},
   "outputs": [
    {
     "name": "stdout",
     "output_type": "stream",
     "text": [
      "내용을 입력하세요: Love\n"
     ]
    }
   ],
   "source": [
    "# Q6\n",
    "# 사용자의 입력을 파일(test.txt)에 저장하는 프로그램을 작성해 보자.\n",
    "# (단 프로그램을 다시 실행하더라도 기존에 작성한 내용을 유지하고 새로 입력한 내용을 추가해야 한다.)\n",
    "\n",
    "user_input = input(\"내용을 입력하세요: \")\n",
    "\n",
    "f = open('c:/Python_study/data/test.txt', 'a')\n",
    "f.write(user_input)\n",
    "f.write(\"\\n\")\n",
    "f.close()"
   ]
  },
  {
   "cell_type": "code",
   "execution_count": 31,
   "metadata": {},
   "outputs": [],
   "source": [
    "# Q7\n",
    "# replace() 사용!\n",
    "\n",
    "f = open('c:/Python_study/data/test.txt', 'r')\n",
    "\n",
    "body = f.read()\n",
    "f.close()\n",
    "\n",
    "body = body.replace('traning', 'python')\n",
    "\n",
    "f = open('c:/Python_study/data/test.txt', 'w')\n",
    "f.write(body)\n",
    "f.close()"
   ]
  }
 ],
 "metadata": {
  "kernelspec": {
   "display_name": "Python 3",
   "language": "python",
   "name": "python3"
  },
  "language_info": {
   "codemirror_mode": {
    "name": "ipython",
    "version": 3
   },
   "file_extension": ".py",
   "mimetype": "text/x-python",
   "name": "python",
   "nbconvert_exporter": "python",
   "pygments_lexer": "ipython3",
   "version": "3.7.4"
  }
 },
 "nbformat": 4,
 "nbformat_minor": 2
}
