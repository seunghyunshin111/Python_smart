{
 "cells": [
  {
   "cell_type": "markdown",
   "metadata": {},
   "source": [
    "### Python_Practice_3\n",
    "# 문자열과 텍스트 파일 데이터 다루기"
   ]
  },
  {
   "cell_type": "code",
   "execution_count": 1,
   "metadata": {},
   "outputs": [
    {
     "data": {
      "text/plain": [
       "['아이스아메리카노', ' 콜드브루']"
      ]
     },
     "execution_count": 1,
     "metadata": {},
     "output_type": "execute_result"
    }
   ],
   "source": [
    "# 문자열 분리\n",
    "\n",
    "coffe = \"아이스아메리카노, 콜드브루\"\n",
    "coffe.split(',')"
   ]
  },
  {
   "cell_type": "code",
   "execution_count": 2,
   "metadata": {},
   "outputs": [
    {
     "data": {
      "text/plain": [
       "'Python'"
      ]
     },
     "execution_count": 2,
     "metadata": {},
     "output_type": "execute_result"
    }
   ],
   "source": [
    "# 필요없는 문자열 삭제\n",
    "\n",
    "\"aaaaaPython\".strip('a')"
   ]
  },
  {
   "cell_type": "code",
   "execution_count": 4,
   "metadata": {},
   "outputs": [
    {
     "name": "stdout",
     "output_type": "stream",
     "text": [
      "아이스크림이 나왔습니다.\n",
      "와플이 나왔습니다.\n"
     ]
    }
   ],
   "source": [
    "# 문자열 연결\n",
    "\n",
    "n = \"아이스크림\"\n",
    "m = \"와플\"\n",
    "\n",
    "hello = \"이 나왔습니다.\"\n",
    "print(n + hello)\n",
    "print(m + hello)"
   ]
  },
  {
   "cell_type": "code",
   "execution_count": 5,
   "metadata": {},
   "outputs": [
    {
     "data": {
      "text/plain": [
       "['서울시', '강남구', '역삼동']"
      ]
     },
     "execution_count": 5,
     "metadata": {},
     "output_type": "execute_result"
    }
   ],
   "source": [
    "주소 = [\"서울시\", \"강남구\", \"역삼동\"]\n",
    "주소"
   ]
  },
  {
   "cell_type": "code",
   "execution_count": 6,
   "metadata": {},
   "outputs": [
    {
     "data": {
      "text/plain": [
       "'서울시 강남구 역삼동'"
      ]
     },
     "execution_count": 6,
     "metadata": {},
     "output_type": "execute_result"
    }
   ],
   "source": [
    "a = \" \"\n",
    "a.join(주소)"
   ]
  },
  {
   "cell_type": "code",
   "execution_count": 7,
   "metadata": {},
   "outputs": [
    {
     "data": {
      "text/plain": [
       "'서울시 강남구 역삼동'"
      ]
     },
     "execution_count": 7,
     "metadata": {},
     "output_type": "execute_result"
    }
   ],
   "source": [
    "\" \".join(주소)"
   ]
  },
  {
   "cell_type": "code",
   "execution_count": 8,
   "metadata": {},
   "outputs": [
    {
     "data": {
      "text/plain": [
       "'서울시, 강남구, 역삼동'"
      ]
     },
     "execution_count": 8,
     "metadata": {},
     "output_type": "execute_result"
    }
   ],
   "source": [
    "\", \".join(주소)"
   ]
  },
  {
   "cell_type": "code",
   "execution_count": 10,
   "metadata": {},
   "outputs": [
    {
     "name": "stdout",
     "output_type": "stream",
     "text": [
      "찾는 문자열의 위치: 0\n",
      "Ice의 개수는?: 1\n"
     ]
    }
   ],
   "source": [
    "# 문자열 찾기\n",
    "\n",
    "str = \"Ice cream.\"\n",
    "\n",
    "print(\"찾는 문자열의 위치:\", str.find(\"Ice\"))\n",
    "\n",
    "##지정된 위치에서 찾지 못하면 '-1' 반환\n",
    "\n",
    "\n",
    "\n",
    "# 개수 세기\n",
    "\n",
    "print(\"Ice의 개수는?:\", str.count(\"Ice\"))"
   ]
  },
  {
   "cell_type": "code",
   "execution_count": 11,
   "metadata": {},
   "outputs": [
    {
     "data": {
      "text/plain": [
       "'Ice cream waffle.'"
      ]
     },
     "execution_count": 11,
     "metadata": {},
     "output_type": "execute_result"
    }
   ],
   "source": [
    "# 문자열 바꾸기 \n",
    "\n",
    "str.replace(\"Ice cream.\", \"Ice cream waffle.\")"
   ]
  },
  {
   "cell_type": "code",
   "execution_count": 2,
   "metadata": {},
   "outputs": [
    {
     "data": {
      "text/plain": [
       "'Ice cream waffle. Ice cream waffle. Ice cream.'"
      ]
     },
     "execution_count": 2,
     "metadata": {},
     "output_type": "execute_result"
    }
   ],
   "source": [
    "# 여러 개일 경우 횟수 지정\n",
    "\n",
    "strr = \"Ice cream. Ice cream. Ice cream.\"\n",
    "\n",
    "strr.replace(\"Ice cream.\", \"Ice cream waffle.\", 2)"
   ]
  },
  {
   "cell_type": "code",
   "execution_count": 5,
   "metadata": {},
   "outputs": [
    {
     "ename": "TypeError",
     "evalue": "unsupported operand type(s) for +: 'int' and 'list'",
     "output_type": "error",
     "traceback": [
      "\u001b[1;31m---------------------------------------------------------------------------\u001b[0m",
      "\u001b[1;31mTypeError\u001b[0m                                 Traceback (most recent call last)",
      "\u001b[1;32m<ipython-input-5-a7e6a871ea87>\u001b[0m in \u001b[0;36m<module>\u001b[1;34m\u001b[0m\n\u001b[0;32m      7\u001b[0m \u001b[1;33m\u001b[0m\u001b[0m\n\u001b[0;32m      8\u001b[0m \u001b[1;32mfor\u001b[0m \u001b[0mscore\u001b[0m \u001b[1;32min\u001b[0m \u001b[0mscores\u001b[0m\u001b[1;33m:\u001b[0m\u001b[1;33m\u001b[0m\u001b[1;33m\u001b[0m\u001b[0m\n\u001b[1;32m----> 9\u001b[1;33m     \u001b[0mscore_num\u001b[0m \u001b[1;33m=\u001b[0m \u001b[0mscore_num\u001b[0m \u001b[1;33m+\u001b[0m \u001b[0mscores\u001b[0m  \u001b[1;31m# 과목별 점수 모두 더하기\u001b[0m\u001b[1;33m\u001b[0m\u001b[1;33m\u001b[0m\u001b[0m\n\u001b[0m\u001b[0;32m     10\u001b[0m     \u001b[0msubject_num\u001b[0m \u001b[1;33m=\u001b[0m \u001b[0msubject_num\u001b[0m \u001b[1;33m+\u001b[0m \u001b[1;36m1\u001b[0m  \u001b[1;31m# 과목수 계산\u001b[0m\u001b[1;33m\u001b[0m\u001b[1;33m\u001b[0m\u001b[0m\n\u001b[0;32m     11\u001b[0m \u001b[1;33m\u001b[0m\u001b[0m\n",
      "\u001b[1;31mTypeError\u001b[0m: unsupported operand type(s) for +: 'int' and 'list'"
     ]
    }
   ],
   "source": [
    "# 과목별 총점, 평균을 구하시오.\n",
    "\n",
    "scores = [95, 100, 90, 98]\n",
    "\n",
    "score_num = 0 # 총점 계산을 위한 초기값 설정\n",
    "subject_num = 0 # 과목수 계산을 위한 초기값 설정\n",
    "\n",
    "for score in scores:\n",
    "    score_num = score_num + scores  # 과목별 점수 모두 더하기\n",
    "    subject_num = subject_num + 1  # 과목수 계산\n",
    "    \n",
    "average = score_num / subject_num  # 평균 (총점 / 과목수) 구하기\n",
    "\n",
    "print(\"총점:{0}, 평균:{1}\".format(score_num, average))"
   ]
  },
  {
   "cell_type": "code",
   "execution_count": null,
   "metadata": {},
   "outputs": [],
   "source": []
  }
 ],
 "metadata": {
  "kernelspec": {
   "display_name": "Python 3",
   "language": "python",
   "name": "python3"
  },
  "language_info": {
   "codemirror_mode": {
    "name": "ipython",
    "version": 3
   },
   "file_extension": ".py",
   "mimetype": "text/x-python",
   "name": "python",
   "nbconvert_exporter": "python",
   "pygments_lexer": "ipython3",
   "version": "3.7.4"
  }
 },
 "nbformat": 4,
 "nbformat_minor": 2
}
