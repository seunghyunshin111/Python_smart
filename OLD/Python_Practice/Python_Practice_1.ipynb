{
 "cells": [
  {
   "cell_type": "code",
   "execution_count": 1,
   "metadata": {},
   "outputs": [
    {
     "data": {
      "text/plain": [
       "int"
      ]
     },
     "execution_count": 1,
     "metadata": {},
     "output_type": "execute_result"
    }
   ],
   "source": [
    "# 자료 형식(데이터 타입)을 알려주는 type()\n",
    "\n",
    "type(3)"
   ]
  },
  {
   "cell_type": "code",
   "execution_count": 2,
   "metadata": {},
   "outputs": [
    {
     "data": {
      "text/plain": [
       "float"
      ]
     },
     "execution_count": 2,
     "metadata": {},
     "output_type": "execute_result"
    }
   ],
   "source": [
    "type(1.2)"
   ]
  },
  {
   "cell_type": "code",
   "execution_count": 1,
   "metadata": {},
   "outputs": [
    {
     "data": {
      "text/plain": [
       "1.4142135623730951"
      ]
     },
     "execution_count": 1,
     "metadata": {},
     "output_type": "execute_result"
    }
   ],
   "source": [
    "# 루트2\n",
    "\n",
    "2 ** (1/2)"
   ]
  },
  {
   "cell_type": "code",
   "execution_count": 2,
   "metadata": {},
   "outputs": [
    {
     "name": "stdout",
     "output_type": "stream",
     "text": [
      "x y\n",
      "x1 y1\n",
      "x1 y2\n",
      "x2 y1\n",
      "x2 y2\n"
     ]
    }
   ],
   "source": [
    "# 중첩 for문\n",
    "\n",
    "x_list = ['x1', 'x2']\n",
    "y_list = ['y1', 'y2']\n",
    "\n",
    "print(\"x y\")\n",
    "\n",
    "for x in x_list:\n",
    "    for y in y_list:\n",
    "        print(x, y)"
   ]
  },
  {
   "cell_type": "code",
   "execution_count": 6,
   "metadata": {},
   "outputs": [
    {
     "name": "stdout",
     "output_type": "stream",
     "text": [
      "James 95\n",
      "Robert 96\n",
      "Lisa 97\n",
      "Mary 94\n"
     ]
    }
   ],
   "source": [
    "# 여러 개의 리스트 다루기\n",
    "\n",
    "names = ['James', 'Robert', 'Lisa', 'Mary']\n",
    "scores = [95, 96, 97, 94]\n",
    "\n",
    "for k in range(len(names)):\n",
    "    print(names[k], scores[k])"
   ]
  },
  {
   "cell_type": "code",
   "execution_count": 7,
   "metadata": {},
   "outputs": [
    {
     "name": "stdout",
     "output_type": "stream",
     "text": [
      "James 95\n",
      "Robert 96\n",
      "Lisa 97\n",
      "Mary 94\n"
     ]
    }
   ],
   "source": [
    "# zip()\n",
    "\n",
    "for name, score in zip(names, scores):\n",
    "    print(name, score)"
   ]
  },
  {
   "cell_type": "code",
   "execution_count": 8,
   "metadata": {},
   "outputs": [
    {
     "name": "stdout",
     "output_type": "stream",
     "text": [
      "i sum\n",
      "1 1\n",
      "2 3\n",
      "3 6\n",
      "4 10\n",
      "5 15\n",
      "6 21\n"
     ]
    }
   ],
   "source": [
    "# while문 구조\n",
    "\n",
    "i = 0  # 초기화\n",
    "sum = 0  # 초기화\n",
    "\n",
    "print(\"i sum\")\n",
    "\n",
    "while (sum < 20):   # 조건 검사\n",
    "    i = i + 1       # i를 1씩 증가\n",
    "    sum = sum + i   # 이전의 sum과 현재의 i를 더해 sum을 갱신\n",
    "    print(i, sum)"
   ]
  },
  {
   "cell_type": "code",
   "execution_count": 9,
   "metadata": {},
   "outputs": [
    {
     "name": "stdout",
     "output_type": "stream",
     "text": [
      "1\n",
      "2\n",
      "3\n"
     ]
    }
   ],
   "source": [
    "# 무한 반복 while문\n",
    "\n",
    "k = 0\n",
    "\n",
    "while True:\n",
    "    k = k + 1    # k는 1씩 증가\n",
    "    \n",
    "    \n",
    "    if(k > 3):\n",
    "        break\n",
    "        \n",
    "    print(k)"
   ]
  },
  {
   "cell_type": "code",
   "execution_count": 10,
   "metadata": {},
   "outputs": [
    {
     "name": "stdout",
     "output_type": "stream",
     "text": [
      "0\n",
      "1\n",
      "3\n",
      "4\n"
     ]
    }
   ],
   "source": [
    "# 다음 반복을 실행하는 continue\n",
    "\n",
    "for k in range(5):\n",
    "    if(k == 2):\n",
    "        continue   # 반복문 처음으로 돌아가서 다음 반복을 진행!\n",
    "        \n",
    "    print(k)"
   ]
  },
  {
   "cell_type": "code",
   "execution_count": 11,
   "metadata": {},
   "outputs": [
    {
     "name": "stdout",
     "output_type": "stream",
     "text": [
      "1\n",
      "continue next\n",
      "3\n",
      "4\n"
     ]
    }
   ],
   "source": [
    "k = 0\n",
    "\n",
    "while True:\n",
    "    k = k + 1\n",
    "    \n",
    "    if(k == 2):\n",
    "        print(\"continue next\")\n",
    "        continue\n",
    "        \n",
    "    if(k > 4):\n",
    "        break\n",
    "        \n",
    "    print(k)"
   ]
  },
  {
   "cell_type": "code",
   "execution_count": 13,
   "metadata": {},
   "outputs": [
    {
     "name": "stdout",
     "output_type": "stream",
     "text": [
      "[1, 4, 9, 16, 25]\n",
      "[1, 4, 9, 16, 25]\n"
     ]
    }
   ],
   "source": [
    "# 간단하게 반복하는 한 줄 for문\n",
    "## 리스트 컴프리헨션의 기본 구조\n",
    "\n",
    "# 1. for문\n",
    "## 1 ~ 5 리스트에서 각 항목의 숫자를 제곱~!\n",
    "\n",
    "numbers = [1, 2, 3, 4, 5]\n",
    "square = []\n",
    "\n",
    "for i in numbers:\n",
    "    square.append(i**2)\n",
    "    \n",
    "print(square)\n",
    "\n",
    "\n",
    "\n",
    "# 2. 리스트 컴프리헨션 ver.\n",
    "\n",
    "numbers = [1, 2, 3, 4, 5]\n",
    "square = [i**2 for i in numbers]\n",
    "\n",
    "print(square)"
   ]
  },
  {
   "cell_type": "code",
   "execution_count": 19,
   "metadata": {},
   "outputs": [
    {
     "name": "stdout",
     "output_type": "stream",
     "text": [
      "[9, 16, 25]\n",
      "[9, 16, 25]\n"
     ]
    }
   ],
   "source": [
    "## 조건문을 포함한 컴프리헨션\n",
    "#1\n",
    "\n",
    "numbers = [1, 2, 3, 4, 5]\n",
    "square = []\n",
    "\n",
    "\n",
    "for i in numbers:\n",
    "    if i >= 3:\n",
    "        square.append(i**2)\n",
    "        \n",
    "print(square)\n",
    "    \n",
    "    \n",
    "#2\n",
    "    \n",
    "numbers = [1, 2, 3, 4, 5]\n",
    "square = [i**2 for i in numbers if i >= 3]\n",
    "\n",
    "print(square)"
   ]
  },
  {
   "cell_type": "code",
   "execution_count": 27,
   "metadata": {},
   "outputs": [
    {
     "name": "stdout",
     "output_type": "stream",
     "text": [
      "[1, 32, 243, 1024, 3125]\n",
      "[1, 32, 243, 1024, 3125]\n"
     ]
    }
   ],
   "source": [
    "# 리스트의 각 항목의 숫자를 5제곱 하는 리스트 컴프리헨션을 구하시오.\n",
    "\n",
    "num = [1, 2, 3, 4, 5]\n",
    "square = []\n",
    "\n",
    "for i in num:\n",
    "    square.append(i**5)\n",
    "    \n",
    "print(square)\n",
    "\n",
    "\n",
    "\n",
    "num = [1, 2, 3, 4, 5]\n",
    "square = [i**5 for i in num]\n",
    "\n",
    "print(square)\n",
    "\n"
   ]
  },
  {
   "cell_type": "code",
   "execution_count": 32,
   "metadata": {},
   "outputs": [
    {
     "name": "stdout",
     "output_type": "stream",
     "text": [
      "break\n",
      "break\n",
      "break\n",
      "break\n",
      "[32, 243, 1024, 3125, 7776]\n",
      "[243, 1024, 3125, 7776]\n"
     ]
    }
   ],
   "source": [
    "## 리스트의 각 항목의 숫자를 5제곱 하는 리스트 컴프리헨션을 구하시오. 단, 3이상이면 'break'를 출력하시오.\n",
    "\n",
    "num = [2, 3, 4, 5, 6]\n",
    "square = []\n",
    "\n",
    "for i in num:\n",
    "    if i >= 3:\n",
    "        print(\"break\")\n",
    "        \n",
    "    square.append(i**5)\n",
    "    \n",
    "print(square)\n",
    "\n",
    "\n",
    "\n",
    "num = [2, 3, 4, 5, 6]\n",
    "square = [i**5 for i in num if i >= 3]\n",
    "\n",
    "print(square)"
   ]
  },
  {
   "cell_type": "code",
   "execution_count": 36,
   "metadata": {},
   "outputs": [
    {
     "data": {
      "text/plain": [
       "12"
      ]
     },
     "execution_count": 36,
     "metadata": {},
     "output_type": "execute_result"
    }
   ],
   "source": [
    "# 인자도 있고 반환 값도 있는 함수\n",
    "\n",
    "def my_calc(x, y):\n",
    "    z = x * y\n",
    "    \n",
    "    return z\n",
    "\n",
    "my_calc(3, 4)"
   ]
  }
 ],
 "metadata": {
  "kernelspec": {
   "display_name": "Python 3",
   "language": "python",
   "name": "python3"
  },
  "language_info": {
   "codemirror_mode": {
    "name": "ipython",
    "version": 3
   },
   "file_extension": ".py",
   "mimetype": "text/x-python",
   "name": "python",
   "nbconvert_exporter": "python",
   "pygments_lexer": "ipython3",
   "version": "3.7.4"
  }
 },
 "nbformat": 4,
 "nbformat_minor": 2
}
