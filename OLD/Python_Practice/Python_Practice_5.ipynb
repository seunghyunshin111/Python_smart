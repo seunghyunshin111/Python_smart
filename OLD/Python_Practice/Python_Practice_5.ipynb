{
 "cells": [
  {
   "cell_type": "markdown",
   "metadata": {},
   "source": [
    "# 클래스"
   ]
  },
  {
   "cell_type": "code",
   "execution_count": null,
   "metadata": {},
   "outputs": [],
   "source": [
    "# 클래스\n",
    "\n",
    "result = 0\n",
    "\n",
    "def adder(num):\n",
    "    global result\n",
    "    result += num\n",
    "    return result\n",
    "\n",
    "print(adder(3))\n",
    "print(adder(4))"
   ]
  },
  {
   "cell_type": "code",
   "execution_count": 4,
   "metadata": {},
   "outputs": [
    {
     "name": "stdout",
     "output_type": "stream",
     "text": [
      "3\n",
      "8\n",
      "11\n",
      "18\n"
     ]
    }
   ],
   "source": [
    "class Calculator:\n",
    "    def __init__(self):\n",
    "        self.result = 0\n",
    "        \n",
    "    def adder(self, num):\n",
    "        self.result += num\n",
    "        return self.result\n",
    "    \n",
    "cal1 = Calculator()\n",
    "cal2 = Calculator()\n",
    "\n",
    "print(cal1.adder(3))\n",
    "print(cal1.adder(5))\n",
    "print(cal1.adder(3))\n",
    "print(cal1.adder(7))"
   ]
  },
  {
   "cell_type": "markdown",
   "metadata": {},
   "source": [
    "# 객체 & 인스턴스\n",
    "\n",
    "### navi = Cat() \n",
    "### navi: 객체   가 어울리고,\n",
    "### navi는 Cat의 인스턴스    가 어울린다"
   ]
  },
  {
   "cell_type": "code",
   "execution_count": 5,
   "metadata": {},
   "outputs": [
    {
     "data": {
      "text/plain": [
       "'영구'"
      ]
     },
     "execution_count": 5,
     "metadata": {},
     "output_type": "execute_result"
    }
   ],
   "source": [
    "class Service:\n",
    "    secret = \"영구\"\n",
    "    \n",
    "pey = Service()\n",
    "pey.secret"
   ]
  },
  {
   "cell_type": "code",
   "execution_count": 7,
   "metadata": {},
   "outputs": [
    {
     "name": "stdout",
     "output_type": "stream",
     "text": [
      "1 + 1 = 2입니다.\n"
     ]
    }
   ],
   "source": [
    "class Service:\n",
    "    secret = \"영구영구\"\n",
    "    \n",
    "    def sum(self, a, b):\n",
    "        result = a + b\n",
    "        \n",
    "        print(\"%s + %s = %s입니다.\" % (a, b, result))\n",
    "        \n",
    "pey = Service()\n",
    "pey.sum(1, 1)"
   ]
  },
  {
   "cell_type": "markdown",
   "metadata": {},
   "source": [
    "## \\_\\_init\\_\\_"
   ]
  },
  {
   "cell_type": "code",
   "execution_count": 1,
   "metadata": {},
   "outputs": [],
   "source": [
    "class Service:\n",
    "    secret = \"파스타\"\n",
    "    \n",
    "    def __init__(self, name):\n",
    "        self.name = name\n",
    "        \n",
    "    def sum(self, a, b):\n",
    "        result = a + b\n",
    "        \n",
    "        print(\"%s님 %s + %s = %s입니다.\" % (self.name, a, b, result))"
   ]
  },
  {
   "cell_type": "code",
   "execution_count": 2,
   "metadata": {},
   "outputs": [],
   "source": [
    "pey = Service(\"홍길동\")"
   ]
  },
  {
   "cell_type": "code",
   "execution_count": 7,
   "metadata": {},
   "outputs": [
    {
     "name": "stdout",
     "output_type": "stream",
     "text": [
      "홍길동님 1 + 1 = 2입니다.\n"
     ]
    }
   ],
   "source": [
    "pey.sum(1, 1)"
   ]
  },
  {
   "cell_type": "code",
   "execution_count": 8,
   "metadata": {},
   "outputs": [],
   "source": [
    "# 곱하기, 빼기, 나누기 기능 만들기\n",
    "\n",
    "class FourCal:\n",
    "    def setdata(self, first, second):\n",
    "        self.first = first\n",
    "        self.second = second\n",
    "        \n",
    "    def sum(self):\n",
    "        result = self.first + self.second\n",
    "        return result\n",
    "                \n",
    "    def mul(self):\n",
    "        result = self.first * self.second\n",
    "        return result\n",
    "                \n",
    "    def sub(self):\n",
    "        result = self.first - self.second\n",
    "        return result\n",
    "                \n",
    "    def div(self):\n",
    "        result = self.first / self.second\n",
    "        return result"
   ]
  },
  {
   "cell_type": "code",
   "execution_count": 9,
   "metadata": {},
   "outputs": [
    {
     "data": {
      "text/plain": [
       "6"
      ]
     },
     "execution_count": 9,
     "metadata": {},
     "output_type": "execute_result"
    }
   ],
   "source": [
    "a = FourCal()\n",
    "b = FourCal()\n",
    "\n",
    "a.setdata(4, 2)\n",
    "b.setdata(3, 7)\n",
    "\n",
    "a.sum()"
   ]
  },
  {
   "cell_type": "code",
   "execution_count": 10,
   "metadata": {},
   "outputs": [
    {
     "data": {
      "text/plain": [
       "8"
      ]
     },
     "execution_count": 10,
     "metadata": {},
     "output_type": "execute_result"
    }
   ],
   "source": [
    "a.mul()"
   ]
  },
  {
   "cell_type": "code",
   "execution_count": 11,
   "metadata": {},
   "outputs": [
    {
     "data": {
      "text/plain": [
       "2.0"
      ]
     },
     "execution_count": 11,
     "metadata": {},
     "output_type": "execute_result"
    }
   ],
   "source": [
    "a.div()"
   ]
  },
  {
   "cell_type": "code",
   "execution_count": 12,
   "metadata": {},
   "outputs": [
    {
     "data": {
      "text/plain": [
       "10"
      ]
     },
     "execution_count": 12,
     "metadata": {},
     "output_type": "execute_result"
    }
   ],
   "source": [
    "b.sum()"
   ]
  },
  {
   "cell_type": "code",
   "execution_count": 13,
   "metadata": {},
   "outputs": [
    {
     "data": {
      "text/plain": [
       "21"
      ]
     },
     "execution_count": 13,
     "metadata": {},
     "output_type": "execute_result"
    }
   ],
   "source": [
    "b.mul()"
   ]
  },
  {
   "cell_type": "code",
   "execution_count": 14,
   "metadata": {},
   "outputs": [
    {
     "data": {
      "text/plain": [
       "-4"
      ]
     },
     "execution_count": 14,
     "metadata": {},
     "output_type": "execute_result"
    }
   ],
   "source": [
    "b.sub()"
   ]
  },
  {
   "cell_type": "code",
   "execution_count": 15,
   "metadata": {},
   "outputs": [
    {
     "data": {
      "text/plain": [
       "0.42857142857142855"
      ]
     },
     "execution_count": 15,
     "metadata": {},
     "output_type": "execute_result"
    }
   ],
   "source": [
    "b.div()"
   ]
  },
  {
   "cell_type": "code",
   "execution_count": 16,
   "metadata": {},
   "outputs": [],
   "source": [
    "class HousePark:\n",
    "    lastname = \"박\""
   ]
  },
  {
   "cell_type": "code",
   "execution_count": 17,
   "metadata": {},
   "outputs": [
    {
     "name": "stdout",
     "output_type": "stream",
     "text": [
      "박\n",
      "박\n"
     ]
    }
   ],
   "source": [
    "pey = HousePark()\n",
    "pes = HousePark()\n",
    "\n",
    "print(pey.lastname)\n",
    "print(pes.lastname)"
   ]
  },
  {
   "cell_type": "code",
   "execution_count": 21,
   "metadata": {},
   "outputs": [],
   "source": [
    "class HousePark:\n",
    "    lastname = \"박\"\n",
    "    \n",
    "    def setname(self, name):\n",
    "        self.fullname = self.lastname + name"
   ]
  },
  {
   "cell_type": "code",
   "execution_count": 22,
   "metadata": {},
   "outputs": [],
   "source": [
    "pey = HousePark()\n",
    "pey.setname(\"응용\")"
   ]
  },
  {
   "cell_type": "code",
   "execution_count": 25,
   "metadata": {},
   "outputs": [],
   "source": [
    "pey.fullname = pey.lastname + \"응용\""
   ]
  },
  {
   "cell_type": "code",
   "execution_count": 26,
   "metadata": {},
   "outputs": [],
   "source": [
    "pey.fullname = \"박\" + \"응용\""
   ]
  },
  {
   "cell_type": "code",
   "execution_count": 27,
   "metadata": {},
   "outputs": [
    {
     "name": "stdout",
     "output_type": "stream",
     "text": [
      "박응용\n"
     ]
    }
   ],
   "source": [
    "print(pey.fullname)"
   ]
  },
  {
   "cell_type": "code",
   "execution_count": 28,
   "metadata": {},
   "outputs": [
    {
     "name": "stdout",
     "output_type": "stream",
     "text": [
      "박응용\n"
     ]
    }
   ],
   "source": [
    "print(pey.fullname)"
   ]
  },
  {
   "cell_type": "code",
   "execution_count": 29,
   "metadata": {},
   "outputs": [],
   "source": [
    "class HousePark:\n",
    "    lastname = \"박\"\n",
    "    \n",
    "    def setname(self, name):\n",
    "        self.fullname = self.lastname + name\n",
    "        \n",
    "    def travel(self, where):\n",
    "        print(\"%s, %s여행을 가다.\" % (self.fullname, where))"
   ]
  },
  {
   "cell_type": "code",
   "execution_count": 30,
   "metadata": {},
   "outputs": [
    {
     "name": "stdout",
     "output_type": "stream",
     "text": [
      "박응용, 부산여행을 가다.\n"
     ]
    }
   ],
   "source": [
    "pey = HousePark()\n",
    "\n",
    "pey.setname(\"응용\")\n",
    "pey.travel(\"부산\")"
   ]
  },
  {
   "cell_type": "code",
   "execution_count": 35,
   "metadata": {},
   "outputs": [],
   "source": [
    "class House:\n",
    "    lastname = \"박\"\n",
    "    \n",
    "    def __init__(self, name):\n",
    "        self.fullname = self.lastname + name\n",
    "        \n",
    "    def tavel(self, where):\n",
    "        print(\"%s, %s여행을 가다.\" % (self.fullname, where))"
   ]
  },
  {
   "cell_type": "code",
   "execution_count": 36,
   "metadata": {},
   "outputs": [],
   "source": [
    "pey = HousePark()"
   ]
  },
  {
   "cell_type": "code",
   "execution_count": 37,
   "metadata": {},
   "outputs": [
    {
     "ename": "TypeError",
     "evalue": "HousePark() takes no arguments",
     "output_type": "error",
     "traceback": [
      "\u001b[1;31m---------------------------------------------------------------------------\u001b[0m",
      "\u001b[1;31mTypeError\u001b[0m                                 Traceback (most recent call last)",
      "\u001b[1;32m<ipython-input-37-ccfe06150347>\u001b[0m in \u001b[0;36m<module>\u001b[1;34m\u001b[0m\n\u001b[0;32m      1\u001b[0m \u001b[1;31m## init 메서드에 입력값을 2개 주는 방법!\u001b[0m\u001b[1;33m\u001b[0m\u001b[1;33m\u001b[0m\u001b[1;33m\u001b[0m\u001b[0m\n\u001b[0;32m      2\u001b[0m \u001b[1;33m\u001b[0m\u001b[0m\n\u001b[1;32m----> 3\u001b[1;33m \u001b[0mpey\u001b[0m \u001b[1;33m=\u001b[0m \u001b[0mHousePark\u001b[0m\u001b[1;33m(\u001b[0m\u001b[1;34m\"응용\"\u001b[0m\u001b[1;33m)\u001b[0m\u001b[1;33m\u001b[0m\u001b[1;33m\u001b[0m\u001b[0m\n\u001b[0m",
      "\u001b[1;31mTypeError\u001b[0m: HousePark() takes no arguments"
     ]
    }
   ],
   "source": [
    "## init 메서드에 입력값을 2개 주는 방법!\n",
    "\n",
    "pey = HousePark(\"응용\")"
   ]
  },
  {
   "cell_type": "code",
   "execution_count": 38,
   "metadata": {},
   "outputs": [
    {
     "ename": "TypeError",
     "evalue": "HousePark() takes no arguments",
     "output_type": "error",
     "traceback": [
      "\u001b[1;31m---------------------------------------------------------------------------\u001b[0m",
      "\u001b[1;31mTypeError\u001b[0m                                 Traceback (most recent call last)",
      "\u001b[1;32m<ipython-input-38-f489c9a5b524>\u001b[0m in \u001b[0;36m<module>\u001b[1;34m\u001b[0m\n\u001b[1;32m----> 1\u001b[1;33m \u001b[0mpey\u001b[0m \u001b[1;33m=\u001b[0m \u001b[0mHousePark\u001b[0m\u001b[1;33m(\u001b[0m\u001b[1;34m\"응용\"\u001b[0m\u001b[1;33m)\u001b[0m\u001b[1;33m\u001b[0m\u001b[1;33m\u001b[0m\u001b[0m\n\u001b[0m\u001b[0;32m      2\u001b[0m \u001b[0mpey\u001b[0m\u001b[1;33m.\u001b[0m\u001b[0mtravel\u001b[0m\u001b[1;33m(\u001b[0m\u001b[1;34m\"태국\"\u001b[0m\u001b[1;33m)\u001b[0m\u001b[1;33m\u001b[0m\u001b[1;33m\u001b[0m\u001b[0m\n",
      "\u001b[1;31mTypeError\u001b[0m: HousePark() takes no arguments"
     ]
    }
   ],
   "source": [
    "pey = HousePark(\"응용\")\n",
    "pey.travel(\"태국\")"
   ]
  },
  {
   "cell_type": "markdown",
   "metadata": {},
   "source": [
    "## 상속"
   ]
  },
  {
   "cell_type": "markdown",
   "metadata": {},
   "source": [
    "# class 상속받을 클래스명(상속할 클래스명)"
   ]
  },
  {
   "cell_type": "code",
   "execution_count": 1,
   "metadata": {},
   "outputs": [
    {
     "ename": "NameError",
     "evalue": "name 'HousePark' is not defined",
     "output_type": "error",
     "traceback": [
      "\u001b[1;31m---------------------------------------------------------------------------\u001b[0m",
      "\u001b[1;31mNameError\u001b[0m                                 Traceback (most recent call last)",
      "\u001b[1;32m<ipython-input-1-2ecce05ef6ba>\u001b[0m in \u001b[0;36m<module>\u001b[1;34m\u001b[0m\n\u001b[1;32m----> 1\u001b[1;33m \u001b[1;32mclass\u001b[0m \u001b[0mHouseKim\u001b[0m\u001b[1;33m(\u001b[0m\u001b[0mHousePark\u001b[0m\u001b[1;33m)\u001b[0m\u001b[1;33m:\u001b[0m\u001b[1;33m\u001b[0m\u001b[1;33m\u001b[0m\u001b[0m\n\u001b[0m\u001b[0;32m      2\u001b[0m     \u001b[0mlastname\u001b[0m \u001b[1;33m=\u001b[0m \u001b[1;34m\"김\"\u001b[0m\u001b[1;33m\u001b[0m\u001b[1;33m\u001b[0m\u001b[0m\n",
      "\u001b[1;31mNameError\u001b[0m: name 'HousePark' is not defined"
     ]
    }
   ],
   "source": [
    "class HouseKim(HousePark):\n",
    "    lastname = \"김\""
   ]
  },
  {
   "cell_type": "code",
   "execution_count": 2,
   "metadata": {},
   "outputs": [
    {
     "ename": "NameError",
     "evalue": "name 'HouseKim' is not defined",
     "output_type": "error",
     "traceback": [
      "\u001b[1;31m---------------------------------------------------------------------------\u001b[0m",
      "\u001b[1;31mNameError\u001b[0m                                 Traceback (most recent call last)",
      "\u001b[1;32m<ipython-input-2-a9f280a5309c>\u001b[0m in \u001b[0;36m<module>\u001b[1;34m\u001b[0m\n\u001b[1;32m----> 1\u001b[1;33m \u001b[0mjuliet\u001b[0m \u001b[1;33m=\u001b[0m \u001b[0mHouseKim\u001b[0m\u001b[1;33m(\u001b[0m\u001b[1;34m\"줄리엣\"\u001b[0m\u001b[1;33m)\u001b[0m\u001b[1;33m\u001b[0m\u001b[1;33m\u001b[0m\u001b[0m\n\u001b[0m\u001b[0;32m      2\u001b[0m \u001b[0mjuliet\u001b[0m\u001b[1;33m.\u001b[0m\u001b[0mtravel\u001b[0m\u001b[1;33m(\u001b[0m\u001b[1;34m\"독도\"\u001b[0m\u001b[1;33m)\u001b[0m\u001b[1;33m\u001b[0m\u001b[1;33m\u001b[0m\u001b[0m\n",
      "\u001b[1;31mNameError\u001b[0m: name 'HouseKim' is not defined"
     ]
    }
   ],
   "source": [
    "juliet = HouseKim(\"줄리엣\")\n",
    "juliet.travel(\"독도\")"
   ]
  },
  {
   "cell_type": "markdown",
   "metadata": {},
   "source": [
    "## 메서드 오버라이딩"
   ]
  },
  {
   "cell_type": "code",
   "execution_count": 3,
   "metadata": {},
   "outputs": [
    {
     "ename": "NameError",
     "evalue": "name 'HouseKim' is not defined",
     "output_type": "error",
     "traceback": [
      "\u001b[1;31m---------------------------------------------------------------------------\u001b[0m",
      "\u001b[1;31mNameError\u001b[0m                                 Traceback (most recent call last)",
      "\u001b[1;32m<ipython-input-3-6628a6aae651>\u001b[0m in \u001b[0;36m<module>\u001b[1;34m\u001b[0m\n\u001b[1;32m----> 1\u001b[1;33m \u001b[0mjuliet\u001b[0m \u001b[1;33m=\u001b[0m \u001b[0mHouseKim\u001b[0m\u001b[1;33m(\u001b[0m\u001b[1;34m\"줄리엣\"\u001b[0m\u001b[1;33m)\u001b[0m\u001b[1;33m\u001b[0m\u001b[1;33m\u001b[0m\u001b[0m\n\u001b[0m\u001b[0;32m      2\u001b[0m \u001b[0mjuliet\u001b[0m\u001b[1;33m.\u001b[0m\u001b[0mtravel\u001b[0m\u001b[1;33m(\u001b[0m\u001b[1;34m\"독도\"\u001b[0m\u001b[1;33m,\u001b[0m \u001b[1;36m3\u001b[0m\u001b[1;33m)\u001b[0m\u001b[1;33m\u001b[0m\u001b[1;33m\u001b[0m\u001b[0m\n",
      "\u001b[1;31mNameError\u001b[0m: name 'HouseKim' is not defined"
     ]
    }
   ],
   "source": [
    "juliet = HouseKim(\"줄리엣\")\n",
    "juliet.travel(\"독도\", 3)"
   ]
  },
  {
   "cell_type": "markdown",
   "metadata": {},
   "source": [
    "## 연산자 오버로딩"
   ]
  },
  {
   "cell_type": "code",
   "execution_count": 4,
   "metadata": {},
   "outputs": [
    {
     "ename": "NameError",
     "evalue": "name 'HousePark' is not defined",
     "output_type": "error",
     "traceback": [
      "\u001b[1;31m---------------------------------------------------------------------------\u001b[0m",
      "\u001b[1;31mNameError\u001b[0m                                 Traceback (most recent call last)",
      "\u001b[1;32m<ipython-input-4-06cdd8f4dea6>\u001b[0m in \u001b[0;36m<module>\u001b[1;34m\u001b[0m\n\u001b[1;32m----> 1\u001b[1;33m \u001b[0mpey\u001b[0m \u001b[1;33m=\u001b[0m \u001b[0mHousePark\u001b[0m\u001b[1;33m(\u001b[0m\u001b[1;34m\"응용\"\u001b[0m\u001b[1;33m)\u001b[0m\u001b[1;33m\u001b[0m\u001b[1;33m\u001b[0m\u001b[0m\n\u001b[0m\u001b[0;32m      2\u001b[0m \u001b[0mjuliet\u001b[0m \u001b[1;33m=\u001b[0m \u001b[0mHouseKim\u001b[0m\u001b[1;33m(\u001b[0m\u001b[1;34m\"줄리엣\"\u001b[0m\u001b[1;33m)\u001b[0m\u001b[1;33m\u001b[0m\u001b[1;33m\u001b[0m\u001b[0m\n\u001b[0;32m      3\u001b[0m \u001b[1;33m\u001b[0m\u001b[0m\n\u001b[0;32m      4\u001b[0m \u001b[0mpey\u001b[0m \u001b[1;33m+\u001b[0m \u001b[0mjuliet\u001b[0m\u001b[1;33m\u001b[0m\u001b[1;33m\u001b[0m\u001b[0m\n",
      "\u001b[1;31mNameError\u001b[0m: name 'HousePark' is not defined"
     ]
    }
   ],
   "source": [
    "pey = HousePark(\"응용\")\n",
    "juliet = HouseKim(\"줄리엣\")\n",
    "\n",
    "pey + juliet"
   ]
  },
  {
   "cell_type": "code",
   "execution_count": 5,
   "metadata": {},
   "outputs": [
    {
     "ename": "AttributeError",
     "evalue": "'HouseKim' object has no attribute 'fullnanme'",
     "output_type": "error",
     "traceback": [
      "\u001b[1;31m---------------------------------------------------------------------------\u001b[0m",
      "\u001b[1;31mAttributeError\u001b[0m                            Traceback (most recent call last)",
      "\u001b[1;32m<ipython-input-5-e2987f42912b>\u001b[0m in \u001b[0;36m<module>\u001b[1;34m\u001b[0m\n\u001b[0;32m     23\u001b[0m \u001b[0mpey\u001b[0m \u001b[1;33m=\u001b[0m \u001b[0mHousePark\u001b[0m\u001b[1;33m(\u001b[0m\u001b[1;34m\"응용\"\u001b[0m\u001b[1;33m)\u001b[0m\u001b[1;33m\u001b[0m\u001b[1;33m\u001b[0m\u001b[0m\n\u001b[0;32m     24\u001b[0m \u001b[0mjuliet\u001b[0m \u001b[1;33m=\u001b[0m \u001b[0mHouseKim\u001b[0m\u001b[1;33m(\u001b[0m\u001b[1;34m\"줄리엣\"\u001b[0m\u001b[1;33m)\u001b[0m\u001b[1;33m\u001b[0m\u001b[1;33m\u001b[0m\u001b[0m\n\u001b[1;32m---> 25\u001b[1;33m \u001b[0mpey\u001b[0m\u001b[1;33m.\u001b[0m\u001b[0mlove\u001b[0m\u001b[1;33m(\u001b[0m\u001b[0mjuliet\u001b[0m\u001b[1;33m)\u001b[0m\u001b[1;33m\u001b[0m\u001b[1;33m\u001b[0m\u001b[0m\n\u001b[0m\u001b[0;32m     26\u001b[0m \u001b[1;33m\u001b[0m\u001b[0m\n\u001b[0;32m     27\u001b[0m \u001b[0mpey\u001b[0m \u001b[1;33m+\u001b[0m \u001b[0mjuliet\u001b[0m\u001b[1;33m\u001b[0m\u001b[1;33m\u001b[0m\u001b[0m\n",
      "\u001b[1;32m<ipython-input-5-e2987f42912b>\u001b[0m in \u001b[0;36mlove\u001b[1;34m(self, other)\u001b[0m\n\u001b[0;32m      9\u001b[0m \u001b[1;33m\u001b[0m\u001b[0m\n\u001b[0;32m     10\u001b[0m     \u001b[1;32mdef\u001b[0m \u001b[0mlove\u001b[0m\u001b[1;33m(\u001b[0m\u001b[0mself\u001b[0m\u001b[1;33m,\u001b[0m \u001b[0mother\u001b[0m\u001b[1;33m)\u001b[0m\u001b[1;33m:\u001b[0m\u001b[1;33m\u001b[0m\u001b[1;33m\u001b[0m\u001b[0m\n\u001b[1;32m---> 11\u001b[1;33m         \u001b[0mprint\u001b[0m\u001b[1;33m(\u001b[0m\u001b[1;34m\"%s, %s 사랑에 빠졌네\"\u001b[0m \u001b[1;33m%\u001b[0m \u001b[1;33m(\u001b[0m\u001b[0mself\u001b[0m\u001b[1;33m.\u001b[0m\u001b[0mfullname\u001b[0m\u001b[1;33m,\u001b[0m \u001b[0mother\u001b[0m\u001b[1;33m.\u001b[0m\u001b[0mfullnanme\u001b[0m\u001b[1;33m)\u001b[0m\u001b[1;33m)\u001b[0m\u001b[1;33m\u001b[0m\u001b[1;33m\u001b[0m\u001b[0m\n\u001b[0m\u001b[0;32m     12\u001b[0m \u001b[1;33m\u001b[0m\u001b[0m\n\u001b[0;32m     13\u001b[0m     \u001b[1;32mdef\u001b[0m \u001b[0m__add__\u001b[0m\u001b[1;33m(\u001b[0m\u001b[0mself\u001b[0m\u001b[1;33m,\u001b[0m \u001b[0mother\u001b[0m\u001b[1;33m)\u001b[0m\u001b[1;33m:\u001b[0m\u001b[1;33m\u001b[0m\u001b[1;33m\u001b[0m\u001b[0m\n",
      "\u001b[1;31mAttributeError\u001b[0m: 'HouseKim' object has no attribute 'fullnanme'"
     ]
    }
   ],
   "source": [
    "class HousePark:\n",
    "    lastname = \"박\"\n",
    "    \n",
    "    def __init__(self, name):\n",
    "        self.fullname = self.lastname + name\n",
    "        \n",
    "    def travel(self, where):\n",
    "        print(\"%s, %s여행을 가다.\" % (self.fullname, where))\n",
    "        \n",
    "    def love(self, other):\n",
    "        print(\"%s, %s 사랑에 빠졌네\" % (self.fullname, other.fullnanme))\n",
    "        \n",
    "    def __add__(self, other):\n",
    "        print(\"%s, %s 결혼했네\" % (self.fullname, other.fullname))\n",
    "        \n",
    "        \n",
    "class HouseKim(HousePark):\n",
    "    lastname = \"김\"\n",
    "    \n",
    "    def travel(self, where, day):\n",
    "        print(\"%s, %s여행 %d일 가네.\" % (self.fullnlame, where, day))\n",
    "        \n",
    "pey = HousePark(\"응용\")\n",
    "juliet = HouseKim(\"줄리엣\")\n",
    "pey.love(juliet)\n",
    "\n",
    "pey + juliet"
   ]
  },
  {
   "cell_type": "code",
   "execution_count": 6,
   "metadata": {},
   "outputs": [],
   "source": [
    "def love(self, other):\n",
    "    print(\"%s, %s 사랑에 빠졌네\" % (self.fullname, other.fullname))"
   ]
  },
  {
   "cell_type": "code",
   "execution_count": 7,
   "metadata": {},
   "outputs": [
    {
     "name": "stdout",
     "output_type": "stream",
     "text": [
      "박응용, 김줄리엣 결혼했네\n"
     ]
    }
   ],
   "source": [
    "pey + juliet"
   ]
  },
  {
   "cell_type": "code",
   "execution_count": 8,
   "metadata": {},
   "outputs": [],
   "source": [
    "def __add__(self, other):\n",
    "    print(\"%s, %s 결혼했네\" % (self.fullname, other.fullname))"
   ]
  }
 ],
 "metadata": {
  "kernelspec": {
   "display_name": "Python 3",
   "language": "python",
   "name": "python3"
  },
  "language_info": {
   "codemirror_mode": {
    "name": "ipython",
    "version": 3
   },
   "file_extension": ".py",
   "mimetype": "text/x-python",
   "name": "python",
   "nbconvert_exporter": "python",
   "pygments_lexer": "ipython3",
   "version": "3.7.4"
  }
 },
 "nbformat": 4,
 "nbformat_minor": 2
}
